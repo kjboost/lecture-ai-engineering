{
  "cells": [
    {
      "cell_type": "markdown",
      "metadata": {
        "id": "view-in-github",
        "colab_type": "text"
      },
      "source": [
        "<a href=\"https://colab.research.google.com/github/kjboost/lecture-ai-engineering/blob/master/day3_homework_250512_07_submission.ipynb\" target=\"_parent\"><img src=\"https://colab.research.google.com/assets/colab-badge.svg\" alt=\"Open In Colab\"/></a>"
      ]
    },
    {
      "cell_type": "markdown",
      "metadata": {
        "id": "lWDvEX_S6ia8"
      },
      "source": [
        "# 第二次トランプ政権の関税（表データ）に関するRAGの効果検証\n",
        "\n",
        "このノートブックでは、Wikipediaの「第二次トランプ政権の関税」ページに含まれる特定の表データ（「表1. 国別の「相互関税」の一覧（2025年4月2日時点）」）を用いて、Retrieval Augmented Generation (RAG) がLLMの回答精度に与える効果を検証します。特に、表データに含まれる具体的な数値情報（日本への関税率24%）について、LLMが単体では回答できないことを想定し、RAGによる情報提供の効果を確認します。\n",
        "\n",
        "使用モデル: google/gemma-2-2b-jpn-it\n",
        "参照資料: Wikipedia「第二次トランプ政権の関税」ページ中の「表1. 国別の「相互関税」の一覧（2025年4月2日時点）」\n",
        "\n",
        "## 演習の方針\n",
        "\n",
        "1.  **環境準備:** 必要なライブラリのインストールとモデルのロードを行います。\n",
        "2.  **参照資料の準備:** Wikipediaページから特定の表データを取得し、RAGに使用できる形式に処理します。\n",
        "3.  **ベースラインモデル評価:** 参照資料なしでLLMに質問し、回答を生成・評価します。\n",
        "4.  **RAG実装と評価:** 参照資料（表データ）を組み込んだRAGでLLMに質問し、回答を生成・評価します。\n",
        "5.  **結果分析と考察:** ベースラインとRAGありの回答を比較し、RAGの効果について考察します。\n",
        "\n",
        "## 扱う質問と参照資料\n",
        "\n",
        "以下の質問と、Wikipedia記事中の「表1. 国別の「相互関税」の一覧（2025年4月2日時点）」の内容をRAGの参照資料として使用します。特に、日本への関税率に関する質問は、LLMが単体では正確に回答できないことを想定しています。\n",
        "\n",
        "参照元記事：[\"https://ja.wikipedia.org/wiki/%E7%AC%AC2%E6%AC%A1%E3%83%88%E3%83%A9%E3%83%B3%E3%83%97%E6%94%BF%E6%A8%A9%E3%81%AE%E9%96%A2%E7%A8%8E#cite_note-18\"]\n",
        "RAG参照資料：上記記事中の「表1. 国別の「相互関税」の一覧（2025年4月2日時点）」のデータ\n",
        "\n",
        "**質問リスト:**\n",
        "1.  日本に課される「相互関税」の税率は何%ですか？\n",
        "2.  記載されている国の中で、最も高い「相互関税」が課されているのはどの国ですか？またその税率は何%ですか？\n",
        "3.  「相互関税」が10%とされている国はどこですか？\n",
        "4.  このデータの時点は何時ですか？\n",
        "5.  第二次トランプ政権で導入が検討されているとされる「普遍的な基礎関税」とは、どのような構想ですか？（※この質問に対するRAGは、表データのみを基に行われるため、適切な回答が得られない可能性があります。これはRAGの限界を示す例となります。）\n",
        "\n",
        "**RAG参照資料の概要（表1のデータそのものを使用）:**\n",
        "RAGでは、Wikipediaから抽出した「表1. 国別の「相互関税」の一覧（2025年4月2日時点）」のテキストデータをそのまま参照情報として使用します。LLMはこの表データをコンテキストとして受け取り、質問に回答します。"
      ]
    },
    {
      "cell_type": "markdown",
      "metadata": {
        "id": "3UcHSm_r61oU"
      },
      "source": [
        "## 演習環境の準備\n",
        "必要なライブラリをインストールします。`pandas`は表の読み込みに使用します。"
      ]
    },
    {
      "cell_type": "code",
      "execution_count": null,
      "metadata": {
        "colab": {
          "base_uri": "https://localhost:8080/"
        },
        "id": "kK5Ggehp7ABx",
        "outputId": "4e2c2c8c-e0e6-403b-f889-b4103ab8ff4c"
      },
      "outputs": [
        {
          "name": "stdout",
          "output_type": "stream",
          "text": [
            "Requirement already satisfied: transformers in /usr/local/lib/python3.11/dist-packages (4.51.3)\n",
            "Requirement already satisfied: filelock in /usr/local/lib/python3.11/dist-packages (from transformers) (3.18.0)\n",
            "Requirement already satisfied: huggingface-hub<1.0,>=0.30.0 in /usr/local/lib/python3.11/dist-packages (from transformers) (0.30.2)\n",
            "Requirement already satisfied: numpy>=1.17 in /usr/local/lib/python3.11/dist-packages (from transformers) (2.0.2)\n",
            "Requirement already satisfied: packaging>=20.0 in /usr/local/lib/python3.11/dist-packages (from transformers) (24.2)\n",
            "Requirement already satisfied: pyyaml>=5.1 in /usr/local/lib/python3.11/dist-packages (from transformers) (6.0.2)\n",
            "Requirement already satisfied: regex!=2019.12.17 in /usr/local/lib/python3.11/dist-packages (from transformers) (2024.11.6)\n",
            "Requirement already satisfied: requests in /usr/local/lib/python3.11/dist-packages (from transformers) (2.32.3)\n",
            "Requirement already satisfied: tokenizers<0.22,>=0.21 in /usr/local/lib/python3.11/dist-packages (from transformers) (0.21.1)\n",
            "Requirement already satisfied: safetensors>=0.4.3 in /usr/local/lib/python3.11/dist-packages (from transformers) (0.5.3)\n",
            "Requirement already satisfied: tqdm>=4.27 in /usr/local/lib/python3.11/dist-packages (from transformers) (4.67.1)\n",
            "Requirement already satisfied: fsspec>=2023.5.0 in /usr/local/lib/python3.11/dist-packages (from huggingface-hub<1.0,>=0.30.0->transformers) (2025.3.2)\n",
            "Requirement already satisfied: typing-extensions>=3.7.4.3 in /usr/local/lib/python3.11/dist-packages (from huggingface-hub<1.0,>=0.30.0->transformers) (4.13.2)\n",
            "Requirement already satisfied: charset-normalizer<4,>=2 in /usr/local/lib/python3.11/dist-packages (from requests->transformers) (3.4.1)\n",
            "Requirement already satisfied: idna<4,>=2.5 in /usr/local/lib/python3.11/dist-packages (from requests->transformers) (3.10)\n",
            "Requirement already satisfied: urllib3<3,>=1.21.1 in /usr/local/lib/python3.11/dist-packages (from requests->transformers) (2.4.0)\n",
            "Requirement already satisfied: certifi>=2017.4.17 in /usr/local/lib/python3.11/dist-packages (from requests->transformers) (2025.4.26)\n",
            "Requirement already satisfied: bitsandbytes in /usr/local/lib/python3.11/dist-packages (0.45.5)\n",
            "Requirement already satisfied: accelerate in /usr/local/lib/python3.11/dist-packages (1.6.0)\n",
            "Requirement already satisfied: torch<3,>=2.0 in /usr/local/lib/python3.11/dist-packages (from bitsandbytes) (2.6.0+cu124)\n",
            "Requirement already satisfied: numpy>=1.17 in /usr/local/lib/python3.11/dist-packages (from bitsandbytes) (2.0.2)\n",
            "Requirement already satisfied: packaging>=20.0 in /usr/local/lib/python3.11/dist-packages (from accelerate) (24.2)\n",
            "Requirement already satisfied: psutil in /usr/local/lib/python3.11/dist-packages (from accelerate) (5.9.5)\n",
            "Requirement already satisfied: pyyaml in /usr/local/lib/python3.11/dist-packages (from accelerate) (6.0.2)\n",
            "Requirement already satisfied: huggingface-hub>=0.21.0 in /usr/local/lib/python3.11/dist-packages (from accelerate) (0.30.2)\n",
            "Requirement already satisfied: safetensors>=0.4.3 in /usr/local/lib/python3.11/dist-packages (from accelerate) (0.5.3)\n",
            "Requirement already satisfied: filelock in /usr/local/lib/python3.11/dist-packages (from huggingface-hub>=0.21.0->accelerate) (3.18.0)\n",
            "Requirement already satisfied: fsspec>=2023.5.0 in /usr/local/lib/python3.11/dist-packages (from huggingface-hub>=0.21.0->accelerate) (2025.3.2)\n",
            "Requirement already satisfied: requests in /usr/local/lib/python3.11/dist-packages (from huggingface-hub>=0.21.0->accelerate) (2.32.3)\n",
            "Requirement already satisfied: tqdm>=4.42.1 in /usr/local/lib/python3.11/dist-packages (from huggingface-hub>=0.21.0->accelerate) (4.67.1)\n",
            "Requirement already satisfied: typing-extensions>=3.7.4.3 in /usr/local/lib/python3.11/dist-packages (from huggingface-hub>=0.21.0->accelerate) (4.13.2)\n",
            "Requirement already satisfied: networkx in /usr/local/lib/python3.11/dist-packages (from torch<3,>=2.0->bitsandbytes) (3.4.2)\n",
            "Requirement already satisfied: jinja2 in /usr/local/lib/python3.11/dist-packages (from torch<3,>=2.0->bitsandbytes) (3.1.6)\n",
            "Requirement already satisfied: nvidia-cuda-nvrtc-cu12==12.4.127 in /usr/local/lib/python3.11/dist-packages (from torch<3,>=2.0->bitsandbytes) (12.4.127)\n",
            "Requirement already satisfied: nvidia-cuda-runtime-cu12==12.4.127 in /usr/local/lib/python3.11/dist-packages (from torch<3,>=2.0->bitsandbytes) (12.4.127)\n",
            "Requirement already satisfied: nvidia-cuda-cupti-cu12==12.4.127 in /usr/local/lib/python3.11/dist-packages (from torch<3,>=2.0->bitsandbytes) (12.4.127)\n",
            "Requirement already satisfied: nvidia-cudnn-cu12==9.1.0.70 in /usr/local/lib/python3.11/dist-packages (from torch<3,>=2.0->bitsandbytes) (9.1.0.70)\n",
            "Requirement already satisfied: nvidia-cublas-cu12==12.4.5.8 in /usr/local/lib/python3.11/dist-packages (from torch<3,>=2.0->bitsandbytes) (12.4.5.8)\n",
            "Requirement already satisfied: nvidia-cufft-cu12==11.2.1.3 in /usr/local/lib/python3.11/dist-packages (from torch<3,>=2.0->bitsandbytes) (11.2.1.3)\n",
            "Requirement already satisfied: nvidia-curand-cu12==10.3.5.147 in /usr/local/lib/python3.11/dist-packages (from torch<3,>=2.0->bitsandbytes) (10.3.5.147)\n",
            "Requirement already satisfied: nvidia-cusolver-cu12==11.6.1.9 in /usr/local/lib/python3.11/dist-packages (from torch<3,>=2.0->bitsandbytes) (11.6.1.9)\n",
            "Requirement already satisfied: nvidia-cusparse-cu12==12.3.1.170 in /usr/local/lib/python3.11/dist-packages (from torch<3,>=2.0->bitsandbytes) (12.3.1.170)\n",
            "Requirement already satisfied: nvidia-cusparselt-cu12==0.6.2 in /usr/local/lib/python3.11/dist-packages (from torch<3,>=2.0->bitsandbytes) (0.6.2)\n",
            "Requirement already satisfied: nvidia-nccl-cu12==2.21.5 in /usr/local/lib/python3.11/dist-packages (from torch<3,>=2.0->bitsandbytes) (2.21.5)\n",
            "Requirement already satisfied: nvidia-nvtx-cu12==12.4.127 in /usr/local/lib/python3.11/dist-packages (from torch<3,>=2.0->bitsandbytes) (12.4.127)\n",
            "Requirement already satisfied: nvidia-nvjitlink-cu12==12.4.127 in /usr/local/lib/python3.11/dist-packages (from torch<3,>=2.0->bitsandbytes) (12.4.127)\n",
            "Requirement already satisfied: triton==3.2.0 in /usr/local/lib/python3.11/dist-packages (from torch<3,>=2.0->bitsandbytes) (3.2.0)\n",
            "Requirement already satisfied: sympy==1.13.1 in /usr/local/lib/python3.11/dist-packages (from torch<3,>=2.0->bitsandbytes) (1.13.1)\n",
            "Requirement already satisfied: mpmath<1.4,>=1.1.0 in /usr/local/lib/python3.11/dist-packages (from sympy==1.13.1->torch<3,>=2.0->bitsandbytes) (1.3.0)\n",
            "Requirement already satisfied: MarkupSafe>=2.0 in /usr/local/lib/python3.11/dist-packages (from jinja2->torch<3,>=2.0->bitsandbytes) (3.0.2)\n",
            "Requirement already satisfied: charset-normalizer<4,>=2 in /usr/local/lib/python3.11/dist-packages (from requests->huggingface-hub>=0.21.0->accelerate) (3.4.1)\n",
            "Requirement already satisfied: idna<4,>=2.5 in /usr/local/lib/python3.11/dist-packages (from requests->huggingface-hub>=0.21.0->accelerate) (3.10)\n",
            "Requirement already satisfied: urllib3<3,>=1.21.1 in /usr/local/lib/python3.11/dist-packages (from requests->huggingface-hub>=0.21.0->accelerate) (2.4.0)\n",
            "Requirement already satisfied: certifi>=2017.4.17 in /usr/local/lib/python3.11/dist-packages (from requests->huggingface-hub>=0.21.0->accelerate) (2025.4.26)\n",
            "Requirement already satisfied: langchain-community in /usr/local/lib/python3.11/dist-packages (0.3.24)\n",
            "Requirement already satisfied: langchain-core<1.0.0,>=0.3.59 in /usr/local/lib/python3.11/dist-packages (from langchain-community) (0.3.59)\n",
            "Requirement already satisfied: langchain<1.0.0,>=0.3.25 in /usr/local/lib/python3.11/dist-packages (from langchain-community) (0.3.25)\n",
            "Requirement already satisfied: SQLAlchemy<3,>=1.4 in /usr/local/lib/python3.11/dist-packages (from langchain-community) (2.0.40)\n",
            "Requirement already satisfied: requests<3,>=2 in /usr/local/lib/python3.11/dist-packages (from langchain-community) (2.32.3)\n",
            "Requirement already satisfied: PyYAML>=5.3 in /usr/local/lib/python3.11/dist-packages (from langchain-community) (6.0.2)\n",
            "Requirement already satisfied: aiohttp<4.0.0,>=3.8.3 in /usr/local/lib/python3.11/dist-packages (from langchain-community) (3.11.15)\n",
            "Requirement already satisfied: tenacity!=8.4.0,<10,>=8.1.0 in /usr/local/lib/python3.11/dist-packages (from langchain-community) (9.1.2)\n",
            "Requirement already satisfied: dataclasses-json<0.7,>=0.5.7 in /usr/local/lib/python3.11/dist-packages (from langchain-community) (0.6.7)\n",
            "Requirement already satisfied: pydantic-settings<3.0.0,>=2.4.0 in /usr/local/lib/python3.11/dist-packages (from langchain-community) (2.9.1)\n",
            "Requirement already satisfied: langsmith<0.4,>=0.1.125 in /usr/local/lib/python3.11/dist-packages (from langchain-community) (0.3.39)\n",
            "Requirement already satisfied: httpx-sse<1.0.0,>=0.4.0 in /usr/local/lib/python3.11/dist-packages (from langchain-community) (0.4.0)\n",
            "Requirement already satisfied: numpy>=1.26.2 in /usr/local/lib/python3.11/dist-packages (from langchain-community) (2.0.2)\n",
            "Requirement already satisfied: aiohappyeyeballs>=2.3.0 in /usr/local/lib/python3.11/dist-packages (from aiohttp<4.0.0,>=3.8.3->langchain-community) (2.6.1)\n",
            "Requirement already satisfied: aiosignal>=1.1.2 in /usr/local/lib/python3.11/dist-packages (from aiohttp<4.0.0,>=3.8.3->langchain-community) (1.3.2)\n",
            "Requirement already satisfied: attrs>=17.3.0 in /usr/local/lib/python3.11/dist-packages (from aiohttp<4.0.0,>=3.8.3->langchain-community) (25.3.0)\n",
            "Requirement already satisfied: frozenlist>=1.1.1 in /usr/local/lib/python3.11/dist-packages (from aiohttp<4.0.0,>=3.8.3->langchain-community) (1.6.0)\n",
            "Requirement already satisfied: multidict<7.0,>=4.5 in /usr/local/lib/python3.11/dist-packages (from aiohttp<4.0.0,>=3.8.3->langchain-community) (6.4.3)\n",
            "Requirement already satisfied: propcache>=0.2.0 in /usr/local/lib/python3.11/dist-packages (from aiohttp<4.0.0,>=3.8.3->langchain-community) (0.3.1)\n",
            "Requirement already satisfied: yarl<2.0,>=1.17.0 in /usr/local/lib/python3.11/dist-packages (from aiohttp<4.0.0,>=3.8.3->langchain-community) (1.20.0)\n",
            "Requirement already satisfied: marshmallow<4.0.0,>=3.18.0 in /usr/local/lib/python3.11/dist-packages (from dataclasses-json<0.7,>=0.5.7->langchain-community) (3.26.1)\n",
            "Requirement already satisfied: typing-inspect<1,>=0.4.0 in /usr/local/lib/python3.11/dist-packages (from dataclasses-json<0.7,>=0.5.7->langchain-community) (0.9.0)\n",
            "Requirement already satisfied: langchain-text-splitters<1.0.0,>=0.3.8 in /usr/local/lib/python3.11/dist-packages (from langchain<1.0.0,>=0.3.25->langchain-community) (0.3.8)\n",
            "Requirement already satisfied: pydantic<3.0.0,>=2.7.4 in /usr/local/lib/python3.11/dist-packages (from langchain<1.0.0,>=0.3.25->langchain-community) (2.11.4)\n",
            "Requirement already satisfied: jsonpatch<2.0,>=1.33 in /usr/local/lib/python3.11/dist-packages (from langchain-core<1.0.0,>=0.3.59->langchain-community) (1.33)\n",
            "Requirement already satisfied: packaging<25,>=23.2 in /usr/local/lib/python3.11/dist-packages (from langchain-core<1.0.0,>=0.3.59->langchain-community) (24.2)\n",
            "Requirement already satisfied: typing-extensions>=4.7 in /usr/local/lib/python3.11/dist-packages (from langchain-core<1.0.0,>=0.3.59->langchain-community) (4.13.2)\n",
            "Requirement already satisfied: httpx<1,>=0.23.0 in /usr/local/lib/python3.11/dist-packages (from langsmith<0.4,>=0.1.125->langchain-community) (0.28.1)\n",
            "Requirement already satisfied: orjson<4.0.0,>=3.9.14 in /usr/local/lib/python3.11/dist-packages (from langsmith<0.4,>=0.1.125->langchain-community) (3.10.18)\n",
            "Requirement already satisfied: requests-toolbelt<2.0.0,>=1.0.0 in /usr/local/lib/python3.11/dist-packages (from langsmith<0.4,>=0.1.125->langchain-community) (1.0.0)\n",
            "Requirement already satisfied: zstandard<0.24.0,>=0.23.0 in /usr/local/lib/python3.11/dist-packages (from langsmith<0.4,>=0.1.125->langchain-community) (0.23.0)\n",
            "Requirement already satisfied: python-dotenv>=0.21.0 in /usr/local/lib/python3.11/dist-packages (from pydantic-settings<3.0.0,>=2.4.0->langchain-community) (1.1.0)\n",
            "Requirement already satisfied: typing-inspection>=0.4.0 in /usr/local/lib/python3.11/dist-packages (from pydantic-settings<3.0.0,>=2.4.0->langchain-community) (0.4.0)\n",
            "Requirement already satisfied: charset-normalizer<4,>=2 in /usr/local/lib/python3.11/dist-packages (from requests<3,>=2->langchain-community) (3.4.1)\n",
            "Requirement already satisfied: idna<4,>=2.5 in /usr/local/lib/python3.11/dist-packages (from requests<3,>=2->langchain-community) (3.10)\n",
            "Requirement already satisfied: urllib3<3,>=1.21.1 in /usr/local/lib/python3.11/dist-packages (from requests<3,>=2->langchain-community) (2.4.0)\n",
            "Requirement already satisfied: certifi>=2017.4.17 in /usr/local/lib/python3.11/dist-packages (from requests<3,>=2->langchain-community) (2025.4.26)\n",
            "Requirement already satisfied: greenlet>=1 in /usr/local/lib/python3.11/dist-packages (from SQLAlchemy<3,>=1.4->langchain-community) (3.2.1)\n",
            "Requirement already satisfied: anyio in /usr/local/lib/python3.11/dist-packages (from httpx<1,>=0.23.0->langsmith<0.4,>=0.1.125->langchain-community) (4.9.0)\n",
            "Requirement already satisfied: httpcore==1.* in /usr/local/lib/python3.11/dist-packages (from httpx<1,>=0.23.0->langsmith<0.4,>=0.1.125->langchain-community) (1.0.9)\n",
            "Requirement already satisfied: h11>=0.16 in /usr/local/lib/python3.11/dist-packages (from httpcore==1.*->httpx<1,>=0.23.0->langsmith<0.4,>=0.1.125->langchain-community) (0.16.0)\n",
            "Requirement already satisfied: jsonpointer>=1.9 in /usr/local/lib/python3.11/dist-packages (from jsonpatch<2.0,>=1.33->langchain-core<1.0.0,>=0.3.59->langchain-community) (3.0.0)\n",
            "Requirement already satisfied: annotated-types>=0.6.0 in /usr/local/lib/python3.11/dist-packages (from pydantic<3.0.0,>=2.7.4->langchain<1.0.0,>=0.3.25->langchain-community) (0.7.0)\n",
            "Requirement already satisfied: pydantic-core==2.33.2 in /usr/local/lib/python3.11/dist-packages (from pydantic<3.0.0,>=2.7.4->langchain<1.0.0,>=0.3.25->langchain-community) (2.33.2)\n",
            "Requirement already satisfied: mypy-extensions>=0.3.0 in /usr/local/lib/python3.11/dist-packages (from typing-inspect<1,>=0.4.0->dataclasses-json<0.7,>=0.5.7->langchain-community) (1.1.0)\n",
            "Requirement already satisfied: sniffio>=1.1 in /usr/local/lib/python3.11/dist-packages (from anyio->httpx<1,>=0.23.0->langsmith<0.4,>=0.1.125->langchain-community) (1.3.1)\n",
            "Requirement already satisfied: chromadb in /usr/local/lib/python3.11/dist-packages (1.0.8)\n",
            "Requirement already satisfied: build>=1.0.3 in /usr/local/lib/python3.11/dist-packages (from chromadb) (1.2.2.post1)\n",
            "Requirement already satisfied: pydantic>=1.9 in /usr/local/lib/python3.11/dist-packages (from chromadb) (2.11.4)\n",
            "Requirement already satisfied: fastapi==0.115.9 in /usr/local/lib/python3.11/dist-packages (from chromadb) (0.115.9)\n",
            "Requirement already satisfied: uvicorn>=0.18.3 in /usr/local/lib/python3.11/dist-packages (from uvicorn[standard]>=0.18.3->chromadb) (0.34.2)\n",
            "Requirement already satisfied: numpy>=1.22.5 in /usr/local/lib/python3.11/dist-packages (from chromadb) (2.0.2)\n",
            "Requirement already satisfied: posthog>=2.4.0 in /usr/local/lib/python3.11/dist-packages (from chromadb) (4.0.1)\n",
            "Requirement already satisfied: typing-extensions>=4.5.0 in /usr/local/lib/python3.11/dist-packages (from chromadb) (4.13.2)\n",
            "Requirement already satisfied: onnxruntime>=1.14.1 in /usr/local/lib/python3.11/dist-packages (from chromadb) (1.22.0)\n",
            "Requirement already satisfied: opentelemetry-api>=1.2.0 in /usr/local/lib/python3.11/dist-packages (from chromadb) (1.33.0)\n",
            "Requirement already satisfied: opentelemetry-exporter-otlp-proto-grpc>=1.2.0 in /usr/local/lib/python3.11/dist-packages (from chromadb) (1.33.0)\n",
            "Requirement already satisfied: opentelemetry-instrumentation-fastapi>=0.41b0 in /usr/local/lib/python3.11/dist-packages (from chromadb) (0.54b0)\n",
            "Requirement already satisfied: opentelemetry-sdk>=1.2.0 in /usr/local/lib/python3.11/dist-packages (from chromadb) (1.33.0)\n",
            "Requirement already satisfied: tokenizers>=0.13.2 in /usr/local/lib/python3.11/dist-packages (from chromadb) (0.21.1)\n",
            "Requirement already satisfied: pypika>=0.48.9 in /usr/local/lib/python3.11/dist-packages (from chromadb) (0.48.9)\n",
            "Requirement already satisfied: tqdm>=4.65.0 in /usr/local/lib/python3.11/dist-packages (from chromadb) (4.67.1)\n",
            "Requirement already satisfied: overrides>=7.3.1 in /usr/local/lib/python3.11/dist-packages (from chromadb) (7.7.0)\n",
            "Requirement already satisfied: importlib-resources in /usr/local/lib/python3.11/dist-packages (from chromadb) (6.5.2)\n",
            "Requirement already satisfied: grpcio>=1.58.0 in /usr/local/lib/python3.11/dist-packages (from chromadb) (1.71.0)\n",
            "Requirement already satisfied: bcrypt>=4.0.1 in /usr/local/lib/python3.11/dist-packages (from chromadb) (4.3.0)\n",
            "Requirement already satisfied: typer>=0.9.0 in /usr/local/lib/python3.11/dist-packages (from chromadb) (0.15.3)\n",
            "Requirement already satisfied: kubernetes>=28.1.0 in /usr/local/lib/python3.11/dist-packages (from chromadb) (32.0.1)\n",
            "Requirement already satisfied: tenacity>=8.2.3 in /usr/local/lib/python3.11/dist-packages (from chromadb) (9.1.2)\n",
            "Requirement already satisfied: pyyaml>=6.0.0 in /usr/local/lib/python3.11/dist-packages (from chromadb) (6.0.2)\n",
            "Requirement already satisfied: mmh3>=4.0.1 in /usr/local/lib/python3.11/dist-packages (from chromadb) (5.1.0)\n",
            "Requirement already satisfied: orjson>=3.9.12 in /usr/local/lib/python3.11/dist-packages (from chromadb) (3.10.18)\n",
            "Requirement already satisfied: httpx>=0.27.0 in /usr/local/lib/python3.11/dist-packages (from chromadb) (0.28.1)\n",
            "Requirement already satisfied: rich>=10.11.0 in /usr/local/lib/python3.11/dist-packages (from chromadb) (13.9.4)\n",
            "Requirement already satisfied: jsonschema>=4.19.0 in /usr/local/lib/python3.11/dist-packages (from chromadb) (4.23.0)\n",
            "Requirement already satisfied: starlette<0.46.0,>=0.40.0 in /usr/local/lib/python3.11/dist-packages (from fastapi==0.115.9->chromadb) (0.45.3)\n",
            "Requirement already satisfied: packaging>=19.1 in /usr/local/lib/python3.11/dist-packages (from build>=1.0.3->chromadb) (24.2)\n",
            "Requirement already satisfied: pyproject_hooks in /usr/local/lib/python3.11/dist-packages (from build>=1.0.3->chromadb) (1.2.0)\n",
            "Requirement already satisfied: anyio in /usr/local/lib/python3.11/dist-packages (from httpx>=0.27.0->chromadb) (4.9.0)\n",
            "Requirement already satisfied: certifi in /usr/local/lib/python3.11/dist-packages (from httpx>=0.27.0->chromadb) (2025.4.26)\n",
            "Requirement already satisfied: httpcore==1.* in /usr/local/lib/python3.11/dist-packages (from httpx>=0.27.0->chromadb) (1.0.9)\n",
            "Requirement already satisfied: idna in /usr/local/lib/python3.11/dist-packages (from httpx>=0.27.0->chromadb) (3.10)\n",
            "Requirement already satisfied: h11>=0.16 in /usr/local/lib/python3.11/dist-packages (from httpcore==1.*->httpx>=0.27.0->chromadb) (0.16.0)\n",
            "Requirement already satisfied: attrs>=22.2.0 in /usr/local/lib/python3.11/dist-packages (from jsonschema>=4.19.0->chromadb) (25.3.0)\n",
            "Requirement already satisfied: jsonschema-specifications>=2023.03.6 in /usr/local/lib/python3.11/dist-packages (from jsonschema>=4.19.0->chromadb) (2025.4.1)\n",
            "Requirement already satisfied: referencing>=0.28.4 in /usr/local/lib/python3.11/dist-packages (from jsonschema>=4.19.0->chromadb) (0.36.2)\n",
            "Requirement already satisfied: rpds-py>=0.7.1 in /usr/local/lib/python3.11/dist-packages (from jsonschema>=4.19.0->chromadb) (0.24.0)\n",
            "Requirement already satisfied: six>=1.9.0 in /usr/local/lib/python3.11/dist-packages (from kubernetes>=28.1.0->chromadb) (1.17.0)\n",
            "Requirement already satisfied: python-dateutil>=2.5.3 in /usr/local/lib/python3.11/dist-packages (from kubernetes>=28.1.0->chromadb) (2.9.0.post0)\n",
            "Requirement already satisfied: google-auth>=1.0.1 in /usr/local/lib/python3.11/dist-packages (from kubernetes>=28.1.0->chromadb) (2.38.0)\n",
            "Requirement already satisfied: websocket-client!=0.40.0,!=0.41.*,!=0.42.*,>=0.32.0 in /usr/local/lib/python3.11/dist-packages (from kubernetes>=28.1.0->chromadb) (1.8.0)\n",
            "Requirement already satisfied: requests in /usr/local/lib/python3.11/dist-packages (from kubernetes>=28.1.0->chromadb) (2.32.3)\n",
            "Requirement already satisfied: requests-oauthlib in /usr/local/lib/python3.11/dist-packages (from kubernetes>=28.1.0->chromadb) (2.0.0)\n",
            "Requirement already satisfied: oauthlib>=3.2.2 in /usr/local/lib/python3.11/dist-packages (from kubernetes>=28.1.0->chromadb) (3.2.2)\n",
            "Requirement already satisfied: urllib3>=1.24.2 in /usr/local/lib/python3.11/dist-packages (from kubernetes>=28.1.0->chromadb) (2.4.0)\n",
            "Requirement already satisfied: durationpy>=0.7 in /usr/local/lib/python3.11/dist-packages (from kubernetes>=28.1.0->chromadb) (0.9)\n",
            "Requirement already satisfied: coloredlogs in /usr/local/lib/python3.11/dist-packages (from onnxruntime>=1.14.1->chromadb) (15.0.1)\n",
            "Requirement already satisfied: flatbuffers in /usr/local/lib/python3.11/dist-packages (from onnxruntime>=1.14.1->chromadb) (25.2.10)\n",
            "Requirement already satisfied: protobuf in /usr/local/lib/python3.11/dist-packages (from onnxruntime>=1.14.1->chromadb) (5.29.4)\n",
            "Requirement already satisfied: sympy in /usr/local/lib/python3.11/dist-packages (from onnxruntime>=1.14.1->chromadb) (1.13.1)\n",
            "Requirement already satisfied: deprecated>=1.2.6 in /usr/local/lib/python3.11/dist-packages (from opentelemetry-api>=1.2.0->chromadb) (1.2.18)\n",
            "Requirement already satisfied: importlib-metadata<8.7.0,>=6.0 in /usr/local/lib/python3.11/dist-packages (from opentelemetry-api>=1.2.0->chromadb) (8.6.1)\n",
            "Requirement already satisfied: googleapis-common-protos~=1.52 in /usr/local/lib/python3.11/dist-packages (from opentelemetry-exporter-otlp-proto-grpc>=1.2.0->chromadb) (1.70.0)\n",
            "Requirement already satisfied: opentelemetry-exporter-otlp-proto-common==1.33.0 in /usr/local/lib/python3.11/dist-packages (from opentelemetry-exporter-otlp-proto-grpc>=1.2.0->chromadb) (1.33.0)\n",
            "Requirement already satisfied: opentelemetry-proto==1.33.0 in /usr/local/lib/python3.11/dist-packages (from opentelemetry-exporter-otlp-proto-grpc>=1.2.0->chromadb) (1.33.0)\n",
            "Requirement already satisfied: opentelemetry-instrumentation-asgi==0.54b0 in /usr/local/lib/python3.11/dist-packages (from opentelemetry-instrumentation-fastapi>=0.41b0->chromadb) (0.54b0)\n",
            "Requirement already satisfied: opentelemetry-instrumentation==0.54b0 in /usr/local/lib/python3.11/dist-packages (from opentelemetry-instrumentation-fastapi>=0.41b0->chromadb) (0.54b0)\n",
            "Requirement already satisfied: opentelemetry-semantic-conventions==0.54b0 in /usr/local/lib/python3.11/dist-packages (from opentelemetry-instrumentation-fastapi>=0.41b0->chromadb) (0.54b0)\n",
            "Requirement already satisfied: opentelemetry-util-http==0.54b0 in /usr/local/lib/python3.11/dist-packages (from opentelemetry-instrumentation-fastapi>=0.41b0->chromadb) (0.54b0)\n",
            "Requirement already satisfied: wrapt<2.0.0,>=1.0.0 in /usr/local/lib/python3.11/dist-packages (from opentelemetry-instrumentation==0.54b0->opentelemetry-instrumentation-fastapi>=0.41b0->chromadb) (1.17.2)\n",
            "Requirement already satisfied: asgiref~=3.0 in /usr/local/lib/python3.11/dist-packages (from opentelemetry-instrumentation-asgi==0.54b0->opentelemetry-instrumentation-fastapi>=0.41b0->chromadb) (3.8.1)\n",
            "Requirement already satisfied: backoff>=1.10.0 in /usr/local/lib/python3.11/dist-packages (from posthog>=2.4.0->chromadb) (2.2.1)\n",
            "Requirement already satisfied: distro>=1.5.0 in /usr/local/lib/python3.11/dist-packages (from posthog>=2.4.0->chromadb) (1.9.0)\n",
            "Requirement already satisfied: annotated-types>=0.6.0 in /usr/local/lib/python3.11/dist-packages (from pydantic>=1.9->chromadb) (0.7.0)\n",
            "Requirement already satisfied: pydantic-core==2.33.2 in /usr/local/lib/python3.11/dist-packages (from pydantic>=1.9->chromadb) (2.33.2)\n",
            "Requirement already satisfied: typing-inspection>=0.4.0 in /usr/local/lib/python3.11/dist-packages (from pydantic>=1.9->chromadb) (0.4.0)\n",
            "Requirement already satisfied: markdown-it-py>=2.2.0 in /usr/local/lib/python3.11/dist-packages (from rich>=10.11.0->chromadb) (3.0.0)\n",
            "Requirement already satisfied: pygments<3.0.0,>=2.13.0 in /usr/local/lib/python3.11/dist-packages (from rich>=10.11.0->chromadb) (2.19.1)\n",
            "Requirement already satisfied: huggingface-hub<1.0,>=0.16.4 in /usr/local/lib/python3.11/dist-packages (from tokenizers>=0.13.2->chromadb) (0.30.2)\n",
            "Requirement already satisfied: click>=8.0.0 in /usr/local/lib/python3.11/dist-packages (from typer>=0.9.0->chromadb) (8.1.8)\n",
            "Requirement already satisfied: shellingham>=1.3.0 in /usr/local/lib/python3.11/dist-packages (from typer>=0.9.0->chromadb) (1.5.4)\n",
            "Requirement already satisfied: httptools>=0.6.3 in /usr/local/lib/python3.11/dist-packages (from uvicorn[standard]>=0.18.3->chromadb) (0.6.4)\n",
            "Requirement already satisfied: python-dotenv>=0.13 in /usr/local/lib/python3.11/dist-packages (from uvicorn[standard]>=0.18.3->chromadb) (1.1.0)\n",
            "Requirement already satisfied: uvloop!=0.15.0,!=0.15.1,>=0.14.0 in /usr/local/lib/python3.11/dist-packages (from uvicorn[standard]>=0.18.3->chromadb) (0.21.0)\n",
            "Requirement already satisfied: watchfiles>=0.13 in /usr/local/lib/python3.11/dist-packages (from uvicorn[standard]>=0.18.3->chromadb) (1.0.5)\n",
            "Requirement already satisfied: websockets>=10.4 in /usr/local/lib/python3.11/dist-packages (from uvicorn[standard]>=0.18.3->chromadb) (15.0.1)\n",
            "Requirement already satisfied: cachetools<6.0,>=2.0.0 in /usr/local/lib/python3.11/dist-packages (from google-auth>=1.0.1->kubernetes>=28.1.0->chromadb) (5.5.2)\n",
            "Requirement already satisfied: pyasn1-modules>=0.2.1 in /usr/local/lib/python3.11/dist-packages (from google-auth>=1.0.1->kubernetes>=28.1.0->chromadb) (0.4.2)\n",
            "Requirement already satisfied: rsa<5,>=3.1.4 in /usr/local/lib/python3.11/dist-packages (from google-auth>=1.0.1->kubernetes>=28.1.0->chromadb) (4.9.1)\n",
            "Requirement already satisfied: filelock in /usr/local/lib/python3.11/dist-packages (from huggingface-hub<1.0,>=0.16.4->tokenizers>=0.13.2->chromadb) (3.18.0)\n",
            "Requirement already satisfied: fsspec>=2023.5.0 in /usr/local/lib/python3.11/dist-packages (from huggingface-hub<1.0,>=0.16.4->tokenizers>=0.13.2->chromadb) (2025.3.2)\n",
            "Requirement already satisfied: zipp>=3.20 in /usr/local/lib/python3.11/dist-packages (from importlib-metadata<8.7.0,>=6.0->opentelemetry-api>=1.2.0->chromadb) (3.21.0)\n",
            "Requirement already satisfied: mdurl~=0.1 in /usr/local/lib/python3.11/dist-packages (from markdown-it-py>=2.2.0->rich>=10.11.0->chromadb) (0.1.2)\n",
            "Requirement already satisfied: charset-normalizer<4,>=2 in /usr/local/lib/python3.11/dist-packages (from requests->kubernetes>=28.1.0->chromadb) (3.4.1)\n",
            "Requirement already satisfied: sniffio>=1.1 in /usr/local/lib/python3.11/dist-packages (from anyio->httpx>=0.27.0->chromadb) (1.3.1)\n",
            "Requirement already satisfied: humanfriendly>=9.1 in /usr/local/lib/python3.11/dist-packages (from coloredlogs->onnxruntime>=1.14.1->chromadb) (10.0)\n",
            "Requirement already satisfied: mpmath<1.4,>=1.1.0 in /usr/local/lib/python3.11/dist-packages (from sympy->onnxruntime>=1.14.1->chromadb) (1.3.0)\n",
            "Requirement already satisfied: pyasn1<0.7.0,>=0.6.1 in /usr/local/lib/python3.11/dist-packages (from pyasn1-modules>=0.2.1->google-auth>=1.0.1->kubernetes>=28.1.0->chromadb) (0.6.1)\n",
            "Requirement already satisfied: sentence-transformers in /usr/local/lib/python3.11/dist-packages (3.4.1)\n",
            "Requirement already satisfied: transformers<5.0.0,>=4.41.0 in /usr/local/lib/python3.11/dist-packages (from sentence-transformers) (4.51.3)\n",
            "Requirement already satisfied: tqdm in /usr/local/lib/python3.11/dist-packages (from sentence-transformers) (4.67.1)\n",
            "Requirement already satisfied: torch>=1.11.0 in /usr/local/lib/python3.11/dist-packages (from sentence-transformers) (2.6.0+cu124)\n",
            "Requirement already satisfied: scikit-learn in /usr/local/lib/python3.11/dist-packages (from sentence-transformers) (1.6.1)\n",
            "Requirement already satisfied: scipy in /usr/local/lib/python3.11/dist-packages (from sentence-transformers) (1.15.2)\n",
            "Requirement already satisfied: huggingface-hub>=0.20.0 in /usr/local/lib/python3.11/dist-packages (from sentence-transformers) (0.30.2)\n",
            "Requirement already satisfied: Pillow in /usr/local/lib/python3.11/dist-packages (from sentence-transformers) (11.2.1)\n",
            "Requirement already satisfied: filelock in /usr/local/lib/python3.11/dist-packages (from huggingface-hub>=0.20.0->sentence-transformers) (3.18.0)\n",
            "Requirement already satisfied: fsspec>=2023.5.0 in /usr/local/lib/python3.11/dist-packages (from huggingface-hub>=0.20.0->sentence-transformers) (2025.3.2)\n",
            "Requirement already satisfied: packaging>=20.9 in /usr/local/lib/python3.11/dist-packages (from huggingface-hub>=0.20.0->sentence-transformers) (24.2)\n",
            "Requirement already satisfied: pyyaml>=5.1 in /usr/local/lib/python3.11/dist-packages (from huggingface-hub>=0.20.0->sentence-transformers) (6.0.2)\n",
            "Requirement already satisfied: requests in /usr/local/lib/python3.11/dist-packages (from huggingface-hub>=0.20.0->sentence-transformers) (2.32.3)\n",
            "Requirement already satisfied: typing-extensions>=3.7.4.3 in /usr/local/lib/python3.11/dist-packages (from huggingface-hub>=0.20.0->sentence-transformers) (4.13.2)\n",
            "Requirement already satisfied: networkx in /usr/local/lib/python3.11/dist-packages (from torch>=1.11.0->sentence-transformers) (3.4.2)\n",
            "Requirement already satisfied: jinja2 in /usr/local/lib/python3.11/dist-packages (from torch>=1.11.0->sentence-transformers) (3.1.6)\n",
            "Requirement already satisfied: nvidia-cuda-nvrtc-cu12==12.4.127 in /usr/local/lib/python3.11/dist-packages (from torch>=1.11.0->sentence-transformers) (12.4.127)\n",
            "Requirement already satisfied: nvidia-cuda-runtime-cu12==12.4.127 in /usr/local/lib/python3.11/dist-packages (from torch>=1.11.0->sentence-transformers) (12.4.127)\n",
            "Requirement already satisfied: nvidia-cuda-cupti-cu12==12.4.127 in /usr/local/lib/python3.11/dist-packages (from torch>=1.11.0->sentence-transformers) (12.4.127)\n",
            "Requirement already satisfied: nvidia-cudnn-cu12==9.1.0.70 in /usr/local/lib/python3.11/dist-packages (from torch>=1.11.0->sentence-transformers) (9.1.0.70)\n",
            "Requirement already satisfied: nvidia-cublas-cu12==12.4.5.8 in /usr/local/lib/python3.11/dist-packages (from torch>=1.11.0->sentence-transformers) (12.4.5.8)\n",
            "Requirement already satisfied: nvidia-cufft-cu12==11.2.1.3 in /usr/local/lib/python3.11/dist-packages (from torch>=1.11.0->sentence-transformers) (11.2.1.3)\n",
            "Requirement already satisfied: nvidia-curand-cu12==10.3.5.147 in /usr/local/lib/python3.11/dist-packages (from torch>=1.11.0->sentence-transformers) (10.3.5.147)\n",
            "Requirement already satisfied: nvidia-cusolver-cu12==11.6.1.9 in /usr/local/lib/python3.11/dist-packages (from torch>=1.11.0->sentence-transformers) (11.6.1.9)\n",
            "Requirement already satisfied: nvidia-cusparse-cu12==12.3.1.170 in /usr/local/lib/python3.11/dist-packages (from torch>=1.11.0->sentence-transformers) (12.3.1.170)\n",
            "Requirement already satisfied: nvidia-cusparselt-cu12==0.6.2 in /usr/local/lib/python3.11/dist-packages (from torch>=1.11.0->sentence-transformers) (0.6.2)\n",
            "Requirement already satisfied: nvidia-nccl-cu12==2.21.5 in /usr/local/lib/python3.11/dist-packages (from torch>=1.11.0->sentence-transformers) (2.21.5)\n",
            "Requirement already satisfied: nvidia-nvtx-cu12==12.4.127 in /usr/local/lib/python3.11/dist-packages (from torch>=1.11.0->sentence-transformers) (12.4.127)\n",
            "Requirement already satisfied: nvidia-nvjitlink-cu12==12.4.127 in /usr/local/lib/python3.11/dist-packages (from torch>=1.11.0->sentence-transformers) (12.4.127)\n",
            "Requirement already satisfied: triton==3.2.0 in /usr/local/lib/python3.11/dist-packages (from torch>=1.11.0->sentence-transformers) (3.2.0)\n",
            "Requirement already satisfied: sympy==1.13.1 in /usr/local/lib/python3.11/dist-packages (from torch>=1.11.0->sentence-transformers) (1.13.1)\n",
            "Requirement already satisfied: mpmath<1.4,>=1.1.0 in /usr/local/lib/python3.11/dist-packages (from sympy==1.13.1->torch>=1.11.0->sentence-transformers) (1.3.0)\n",
            "Requirement already satisfied: numpy>=1.17 in /usr/local/lib/python3.11/dist-packages (from transformers<5.0.0,>=4.41.0->sentence-transformers) (2.0.2)\n",
            "Requirement already satisfied: regex!=2019.12.17 in /usr/local/lib/python3.11/dist-packages (from transformers<5.0.0,>=4.41.0->sentence-transformers) (2024.11.6)\n",
            "Requirement already satisfied: tokenizers<0.22,>=0.21 in /usr/local/lib/python3.11/dist-packages (from transformers<5.0.0,>=4.41.0->sentence-transformers) (0.21.1)\n",
            "Requirement already satisfied: safetensors>=0.4.3 in /usr/local/lib/python3.11/dist-packages (from transformers<5.0.0,>=4.41.0->sentence-transformers) (0.5.3)\n",
            "Requirement already satisfied: joblib>=1.2.0 in /usr/local/lib/python3.11/dist-packages (from scikit-learn->sentence-transformers) (1.4.2)\n",
            "Requirement already satisfied: threadpoolctl>=3.1.0 in /usr/local/lib/python3.11/dist-packages (from scikit-learn->sentence-transformers) (3.6.0)\n",
            "Requirement already satisfied: MarkupSafe>=2.0 in /usr/local/lib/python3.11/dist-packages (from jinja2->torch>=1.11.0->sentence-transformers) (3.0.2)\n",
            "Requirement already satisfied: charset-normalizer<4,>=2 in /usr/local/lib/python3.11/dist-packages (from requests->huggingface-hub>=0.20.0->sentence-transformers) (3.4.1)\n",
            "Requirement already satisfied: idna<4,>=2.5 in /usr/local/lib/python3.11/dist-packages (from requests->huggingface-hub>=0.20.0->sentence-transformers) (3.10)\n",
            "Requirement already satisfied: urllib3<3,>=1.21.1 in /usr/local/lib/python3.11/dist-packages (from requests->huggingface-hub>=0.20.0->sentence-transformers) (2.4.0)\n",
            "Requirement already satisfied: certifi>=2017.4.17 in /usr/local/lib/python3.11/dist-packages (from requests->huggingface-hub>=0.20.0->sentence-transformers) (2025.4.26)\n",
            "Requirement already satisfied: openai in /usr/local/lib/python3.11/dist-packages (1.76.2)\n",
            "Requirement already satisfied: anyio<5,>=3.5.0 in /usr/local/lib/python3.11/dist-packages (from openai) (4.9.0)\n",
            "Requirement already satisfied: distro<2,>=1.7.0 in /usr/local/lib/python3.11/dist-packages (from openai) (1.9.0)\n",
            "Requirement already satisfied: httpx<1,>=0.23.0 in /usr/local/lib/python3.11/dist-packages (from openai) (0.28.1)\n",
            "Requirement already satisfied: jiter<1,>=0.4.0 in /usr/local/lib/python3.11/dist-packages (from openai) (0.9.0)\n",
            "Requirement already satisfied: pydantic<3,>=1.9.0 in /usr/local/lib/python3.11/dist-packages (from openai) (2.11.4)\n",
            "Requirement already satisfied: sniffio in /usr/local/lib/python3.11/dist-packages (from openai) (1.3.1)\n",
            "Requirement already satisfied: tqdm>4 in /usr/local/lib/python3.11/dist-packages (from openai) (4.67.1)\n",
            "Requirement already satisfied: typing-extensions<5,>=4.11 in /usr/local/lib/python3.11/dist-packages (from openai) (4.13.2)\n",
            "Requirement already satisfied: idna>=2.8 in /usr/local/lib/python3.11/dist-packages (from anyio<5,>=3.5.0->openai) (3.10)\n",
            "Requirement already satisfied: certifi in /usr/local/lib/python3.11/dist-packages (from httpx<1,>=0.23.0->openai) (2025.4.26)\n",
            "Requirement already satisfied: httpcore==1.* in /usr/local/lib/python3.11/dist-packages (from httpx<1,>=0.23.0->openai) (1.0.9)\n",
            "Requirement already satisfied: h11>=0.16 in /usr/local/lib/python3.11/dist-packages (from httpcore==1.*->httpx<1,>=0.23.0->openai) (0.16.0)\n",
            "Requirement already satisfied: annotated-types>=0.6.0 in /usr/local/lib/python3.11/dist-packages (from pydantic<3,>=1.9.0->openai) (0.7.0)\n",
            "Requirement already satisfied: pydantic-core==2.33.2 in /usr/local/lib/python3.11/dist-packages (from pydantic<3,>=1.9.0->openai) (2.33.2)\n",
            "Requirement already satisfied: typing-inspection>=0.4.0 in /usr/local/lib/python3.11/dist-packages (from pydantic<3,>=1.9.0->openai) (0.4.0)\n",
            "Requirement already satisfied: pandas in /usr/local/lib/python3.11/dist-packages (2.2.2)\n",
            "Requirement already satisfied: numpy>=1.23.2 in /usr/local/lib/python3.11/dist-packages (from pandas) (2.0.2)\n",
            "Requirement already satisfied: python-dateutil>=2.8.2 in /usr/local/lib/python3.11/dist-packages (from pandas) (2.9.0.post0)\n",
            "Requirement already satisfied: pytz>=2020.1 in /usr/local/lib/python3.11/dist-packages (from pandas) (2025.2)\n",
            "Requirement already satisfied: tzdata>=2022.7 in /usr/local/lib/python3.11/dist-packages (from pandas) (2025.2)\n",
            "Requirement already satisfied: six>=1.5 in /usr/local/lib/python3.11/dist-packages (from python-dateutil>=2.8.2->pandas) (1.17.0)\n",
            "Requirement already satisfied: requests in /usr/local/lib/python3.11/dist-packages (2.32.3)\n",
            "Requirement already satisfied: beautifulsoup4 in /usr/local/lib/python3.11/dist-packages (4.13.4)\n",
            "Requirement already satisfied: charset-normalizer<4,>=2 in /usr/local/lib/python3.11/dist-packages (from requests) (3.4.1)\n",
            "Requirement already satisfied: idna<4,>=2.5 in /usr/local/lib/python3.11/dist-packages (from requests) (3.10)\n",
            "Requirement already satisfied: urllib3<3,>=1.21.1 in /usr/local/lib/python3.11/dist-packages (from requests) (2.4.0)\n",
            "Requirement already satisfied: certifi>=2017.4.17 in /usr/local/lib/python3.11/dist-packages (from requests) (2025.4.26)\n",
            "Requirement already satisfied: soupsieve>1.2 in /usr/local/lib/python3.11/dist-packages (from beautifulsoup4) (2.7)\n",
            "Requirement already satisfied: typing-extensions>=4.0.0 in /usr/local/lib/python3.11/dist-packages (from beautifulsoup4) (4.13.2)\n"
          ]
        }
      ],
      "source": [
        "# このセルは2度実行の必要性があります,
        "!pip install --upgrade transformers\n",
        "!pip install bitsandbytes accelerate\n",
        "!pip install langchain-community #wikipedia # WikipediaLoaderは今回は使用しませんが、以前のコードとの整合性のため残します\n",
        "!pip install chromadb # ベクトルストア用\n",
        "!pip install sentence-transformers # エンベディングモデル用\n",
        "!pip install openai # 評価用 (OpenAI APIキーが必要です)\n",
        "!pip install pandas # 表の読み込み用\n",
        "!pip install requests beautifulsoup4 # HTML取得・解析用"
      ]
    },
    {
      "cell_type": "markdown",
      "metadata": {
        "id": "us6F3AnO7Dqn"
      },
      "source": [
        "Hugging Face Hubにログインします（モデルのダウンロードに必要です）。ColabのSecretsに`hf_TOKEN`としてAPIトークンを保存しておくことを推奨します。"
      ]
    },
    {
      "cell_type": "code",
      "execution_count": null,
      "metadata": {
        "id": "yPLX3OQe7KW9"
      },
      "outputs": [],
      "source": [
        "from google.colab import userdata\n",
        "import os\n",
        "\n",
        "# Colab SecretsからHugging Faceトークンを取得\n",
        "HUGGINGFACE_HUB_TOKEN = userdata.get('HF_TOKEN')\n",
        "\n",
        "# 環境変数に設定\n",
        "os.environ[\"HF_TOKEN\"] = HUGGINGFACE_HUB_TOKEN"
      ]
    },
    {
      "cell_type": "markdown",
      "metadata": {
        "id": "Z3dY2xIV7jta"
      },
      "source": []
    },
    {
      "cell_type": "code",
      "execution_count": null,
      "metadata": {
        "colab": {
          "base_uri": "https://localhost:8080/"
        },
        "id": "GHeLEiOQ7OVd",
        "outputId": "a0e79754-a86b-4934-b1ad-74ed23df9eb1"
      },
      "outputs": [
        {
          "name": "stderr",
          "output_type": "stream",
          "text": [
            "Note: Environment variable`HF_TOKEN` is set and is the current active token independently from the token you've just configured.\n",
            "WARNING:huggingface_hub._login:Note: Environment variable`HF_TOKEN` is set and is the current active token independently from the token you've just configured.\n"
          ]
        },
        {
          "name": "stdout",
          "output_type": "stream",
          "text": [
            "Hugging Face Hubにログインしました。\n"
          ]
        }
      ],
      "source": [
        "# Hugging Face Hubにログイン\n",
        "from huggingface_hub import login\n",
        "try:\n",
        "    login(HUGGINGFACE_HUB_TOKEN)\n",
        "    print(\"Hugging Face Hubにログインしました。\")\n",
        "except Exception as e:\n",
        "    print(f\"Hugging Face Hubへのログインに失敗しました: {e}\")\n",
        "    print(\"Colab Secretsに 'hf_TOKEN' が正しく設定されているか確認してください。\")"
      ]
    },
    {
      "cell_type": "markdown",
      "metadata": {
        "id": "tIzIRt5v7V1R"
      },
      "source": [
        "OpenAI APIキーも評価用に取得 (必要に応じて)"
      ]
    },
    {
      "cell_type": "code",
      "execution_count": null,
      "metadata": {
        "id": "uVQI_BVc7Tof"
      },
      "outputs": [],
      "source": [
        "OPENAI_API_KEY = userdata.get('OPENAI_API_KEY')\n",
        "os.environ[\"OPENAI_API_KEY\"] = OPENAI_API_KEY"
      ]
    },
    {
      "cell_type": "markdown",
      "metadata": {
        "id": "V1coPAmn7qBg"
      },
      "source": [
        "使用するデバイスを設定します。"
      ]
    },
    {
      "cell_type": "code",
      "execution_count": null,
      "metadata": {
        "colab": {
          "base_uri": "https://localhost:8080/"
        },
        "id": "mzEB5-8W7onY",
        "outputId": "15f6ef42-fdb8-4ce0-e0c9-a927fcee5cf5"
      },
      "outputs": [
        {
          "name": "stdout",
          "output_type": "stream",
          "text": [
            "使用デバイス: cuda\n"
          ]
        }
      ],
      "source": [
        "import torch\n",
        "device = torch.device(\"cuda\" if torch.cuda.is_available() else \"cpu\")\n",
        "print(f\"使用デバイス: {device}\")"
      ]
    },
    {
      "cell_type": "markdown",
      "metadata": {
        "id": "w0iJVTDE9KGZ"
      },
      "source": [
        "乱数シードを設定します。"
      ]
    },
    {
      "cell_type": "code",
      "execution_count": null,
      "metadata": {
        "id": "go-Uvd-69Qix"
      },
      "outputs": [],
      "source": [
        "import random\n",
        "random.seed(42) # 再現性のためにシードを固定"
      ]
    },
    {
      "cell_type": "markdown",
      "metadata": {
        "id": "YeYRlzS99WF3"
      },
      "source": [
        "LLMモデル (`google/gemma-2-2b-jpn-it`) を読み込みます。Colab無料版のT4 GPUで実行できるよう、4bit量子化を使用します。"
      ]
    },
    {
      "cell_type": "code",
      "execution_count": null,
      "metadata": {
        "colab": {
          "base_uri": "https://localhost:8080/",
          "height": 145,
          "referenced_widgets": [
            "7f5cb66517a048169d92a33a7c4f938f",
            "12b151e22a9940aabc74f4058fe2bcd9",
            "ac74cc53385f498ea45e7c8db27583e6",
            "8e4f2f49fe2941438ee7915422cb5721",
            "0a3cb48e3daa4965a262314d1a13762c",
            "eb87be2a0d0e4835946eb11424aae322",
            "8d2d438fe84341daad20b975d1626a0e",
            "cf433eeb2d384aa3bae93f9812a5fa9e",
            "a36c38280d4b4c999552a4f211e2994b",
            "8ef8513d10cd407bbabafe2cd187bbef",
            "fd3fb9b17d074d179a6c18637a0b6011",
            "7201b2e180ce41d9832122705907c852",
            "cbf1d15ae2dc45f1b69caa9615e56bb3",
            "7917127755c141a5894f0a62d029336b",
            "c7cb3556245344c399c89e29b5bd7b43",
            "8e03da9660804cb29a8da19a6572ad10",
            "84d1eca00ab34d69950e867dfbc91d09",
            "fd0320161d484447aac25b0f7c759620",
            "0fcd6c28448748feacd89be4da04e997",
            "e812cd3d1db44e73b96098bfe189861d",
            "6221800d4f2e4390b8aca68df99fcd25",
            "1bed17e323794df08562cc94b0c3499e",
            "dc4a3265c1a6492e84b7960776156fd3",
            "4e2244b70b024e80b5b72f09e0b0fe05",
            "32a71787752c47069637fa043e15b6dd",
            "6e0afe29828c41b88e2af04868195417",
            "438eee549b8a4b7f89c425d9f1a1c879",
            "edfdfe18b53448a4b64d632b2ac15ff5",
            "1ed7db80bc6e48d89e0314924b8e4a8a",
            "efcaf70f495f4df3a2dfd2bc34c86f4f",
            "fc69f25ac4e94d41892a0adeca741501",
            "3761696da89e425dbdb0367c961d7a23",
            "7d3cef58832b4caa8308c7ea9d11060c",
            "f6d538f1883246ea84595da70b7cdc7d",
            "502ad7cf6f094b4796a43572659089b0",
            "47b1279735d34a4e829d3f2deabe350d",
            "33c68e4f8b3549cf9d83ac31bb44b5bb",
            "c2247aaac6f1473bb269305c1e7c1a81",
            "c8bfc1a97f404f5ba4bb3b12539ea5e8",
            "1d9de4d6a80446f384af13c288988a51",
            "80d9a82e0f7b40a982c5db9d56563136",
            "3e216dd7fa3f43f38786bc1c3ba1fd63",
            "e2b61cacc89f4b7e9ee8042452eb34b1",
            "c646e9a74b7544dba31ead5c46bb404f"
          ]
        },
        "id": "5x22yajn9Z_N",
        "outputId": "6e6244a1-cf7e-4cf8-d544-9166b3fdddbb"
      },
      "outputs": [
        {
          "data": {
            "application/vnd.jupyter.widget-view+json": {
              "model_id": "7f5cb66517a048169d92a33a7c4f938f",
              "version_major": 2,
              "version_minor": 0
            },
            "text/plain": [
              "tokenizer_config.json:   0%|          | 0.00/46.9k [00:00<?, ?B/s]"
            ]
          },
          "metadata": {},
          "output_type": "display_data"
        },
        {
          "data": {
            "application/vnd.jupyter.widget-view+json": {
              "model_id": "7201b2e180ce41d9832122705907c852",
              "version_major": 2,
              "version_minor": 0
            },
            "text/plain": [
              "tokenizer.model:   0%|          | 0.00/4.24M [00:00<?, ?B/s]"
            ]
          },
          "metadata": {},
          "output_type": "display_data"
        },
        {
          "data": {
            "application/vnd.jupyter.widget-view+json": {
              "model_id": "dc4a3265c1a6492e84b7960776156fd3",
              "version_major": 2,
              "version_minor": 0
            },
            "text/plain": [
              "tokenizer.json:   0%|          | 0.00/17.5M [00:00<?, ?B/s]"
            ]
          },
          "metadata": {},
          "output_type": "display_data"
        },
        {
          "data": {
            "application/vnd.jupyter.widget-view+json": {
              "model_id": "f6d538f1883246ea84595da70b7cdc7d",
              "version_major": 2,
              "version_minor": 0
            },
            "text/plain": [
              "special_tokens_map.json:   0%|          | 0.00/555 [00:00<?, ?B/s]"
            ]
          },
          "metadata": {},
          "output_type": "display_data"
        }
      ],
      "source": [
        "from transformers import AutoModelForCausalLM, AutoTokenizer, BitsAndBytesConfig\n",
        "\n",
        "model_name = \"google/gemma-2-2b-jpn-it\"\n",
        "tokenizer = AutoTokenizer.from_pretrained(model_name)"
      ]
    },
    {
      "cell_type": "code",
      "execution_count": null,
      "metadata": {
        "id": "q8Pe5K_z9fo7"
      },
      "outputs": [],
      "source": [
        "# 4bit量子化設定\n",
        "bnb_config = BitsAndBytesConfig(\n",
        "    load_in_4bit=True,\n",
        "    bnb_4bit_compute_dtype=torch.float16, # T4 GPUはfloat16をサポート\n",
        "    bnb_4bit_quant_type=\"nf4\",\n",
        "    bnb_4bit_use_double_quant=False,\n",
        ")"
      ]
    },
    {
      "cell_type": "code",
      "execution_count": null,
      "metadata": {
        "colab": {
          "base_uri": "https://localhost:8080/",
          "height": 259,
          "referenced_widgets": [
            "edb652dd0b56431495c34e315774e5e8",
            "74293cb03bd044ea9a683c0ef28856b1",
            "84cbe21bd7914fcc871d847efd717a35",
            "5ab8d0ecb70840079df8370bbd9bfa60",
            "5cb2e0c22312489b8b99aa519b27686c",
            "5224ef1f0a594c108bfd4a1da7b660b1",
            "3394b40b877142aaba233fcd1e00b626",
            "96d5e1f6f91c42d1b6b1ed397c01c6c4",
            "ce7a84a3b3614c66b6eeee4028d8e776",
            "2988a2fa7daf495797a46697cee14b03",
            "f7612abf1d0345fc915500680f459667",
            "098e887231bd4fa78beee5d9a2b15784",
            "a1272d3030e84b89af7f920667e830b7",
            "90c8a14b3fda49ceb513066b21eb31f5",
            "3aadc4b736c74b8eb3e212d81124e1d8",
            "bab1768976714f72958da07a20565a87",
            "3929db4b81c646e1a67c19a190e38cda",
            "c4ecfa989e6b4ef292794f4b96172d91",
            "85c9f3f95efd4e9aa6aeb8205a7d2b47",
            "fa6fc056ace045638c3b17df53a3253d",
            "29aa5a09ef3d40f981b7394af5b0592f",
            "979d3243740f4539a5b284d8475a3b59",
            "32c1a229e3e140d6a10bf43538193598",
            "153821460d8345b78763f6ef69df1b7c",
            "191311a1d14f44f881260ce461e83821",
            "db83e330487542fa95fe1c87c789ba40",
            "5002b2cdccff4f58a9ce37c89043a77b",
            "7365467cb5394376bb0f11716ccc1632",
            "4e7c735515ba4ed4b66e72e2273e7901",
            "48129681f1ff45358e67216fe7341e91",
            "a99c71fdd5804bbcb9bf4afe348714eb",
            "e1df53cdeea34997a3abdfc18c9622bd",
            "c6ab5eced80b452f86d485c8998c8923",
            "124b276c443743549fe8817e4a07d419",
            "ad8b70596cc340bc97877633e4b3d87c",
            "1fe0c48bb7c446f4bc04f370176b467f",
            "edb8f6bb1cee470bbba4696679a2e05d",
            "4f6979c2584f4f6ebe9810f5b9854dcc",
            "861c7a99a9cf483f9f59f4ebe12c835a",
            "db2f4e92e8844417bf5238ccea310928",
            "f466d1a72cd84ce681b003f99e53c6ee",
            "fc92ff740ede4b2aa06a19514764865f",
            "76fdfa6f9ca549bb98a895b000c3aa3b",
            "635e069c73de4c1f8228ec50408d0671",
            "32d17f744df54e10a2cbac4a24847860",
            "7bacbc23dfc148bea4bbb380983ac89d",
            "c6a4223703ba42ae8b11460ac7d9b1dc",
            "cb2945020ec44650bd66e2e1830acab9",
            "ec743fe4c13a4911abe24b5f6bd02243",
            "05835ae5ce8946a986be83a094d848f2",
            "9edc1edbe43243c3b877c0a24003ed14",
            "2063790a7d6d4a818002dfde6cf79829",
            "a3ccae160b7f4117b8c7dd90c32e71a7",
            "57b3f13acc454fe08daa2bbf1f30e09f",
            "ddebd8f7bc7f433dbdec7383a6b051c6",
            "edbc5bfbea344ff98c8f85f239b7a577",
            "924339965f164607a815102f45691655",
            "006319e4105f457a8c06b9ed539b3761",
            "e235902807f54fbdb488c32baa893cee",
            "d47a5f9a0ead47f19d99bb59a3f879e9",
            "329f69a2d7f64781ae3ff4cb2a60982c",
            "0cb7edbbb5f44d19956e080157a2ab80",
            "7916d9ce184b4a0db472590239b91768",
            "e7d901b7e2db459abe29f6447971bd52",
            "8ea4e79f9e284cc19a4a70249498a24d",
            "d3e6f69bea2c409a86f802a3dfd12396",
            "2f485524ccdc440abc054aa5eeaacc7d",
            "bf89a372423848869fa5f69130d7901f",
            "4e9b7cc370624ed1964c8e490b32c4d7",
            "102ea6a9ba404069b1198691397b0532",
            "458c0746b51345268b80d98f11bd8d1d",
            "c74d39b21b5d4705af6fb379647da1f5",
            "05c18deb9d28468d98007f2f5bf0eac8",
            "b50341da523541d08c20d418df955429",
            "58b3c425278141fe90da951c30c3c5ee",
            "8c41f3a2a7db46f4a04ceea9615630dd",
            "775d7a860c68422a8c8b475da850d3b0"
          ]
        },
        "id": "II__gXr89g65",
        "outputId": "87010c33-2e20-4f4f-89c7-aa558d996fcf"
      },
      "outputs": [
        {
          "data": {
            "application/vnd.jupyter.widget-view+json": {
              "model_id": "edb652dd0b56431495c34e315774e5e8",
              "version_major": 2,
              "version_minor": 0
            },
            "text/plain": [
              "config.json:   0%|          | 0.00/805 [00:00<?, ?B/s]"
            ]
          },
          "metadata": {},
          "output_type": "display_data"
        },
        {
          "data": {
            "application/vnd.jupyter.widget-view+json": {
              "model_id": "098e887231bd4fa78beee5d9a2b15784",
              "version_major": 2,
              "version_minor": 0
            },
            "text/plain": [
              "model.safetensors.index.json:   0%|          | 0.00/24.2k [00:00<?, ?B/s]"
            ]
          },
          "metadata": {},
          "output_type": "display_data"
        },
        {
          "data": {
            "application/vnd.jupyter.widget-view+json": {
              "model_id": "32c1a229e3e140d6a10bf43538193598",
              "version_major": 2,
              "version_minor": 0
            },
            "text/plain": [
              "Fetching 2 files:   0%|          | 0/2 [00:00<?, ?it/s]"
            ]
          },
          "metadata": {},
          "output_type": "display_data"
        },
        {
          "data": {
            "application/vnd.jupyter.widget-view+json": {
              "model_id": "124b276c443743549fe8817e4a07d419",
              "version_major": 2,
              "version_minor": 0
            },
            "text/plain": [
              "model-00001-of-00002.safetensors:   0%|          | 0.00/4.99G [00:00<?, ?B/s]"
            ]
          },
          "metadata": {},
          "output_type": "display_data"
        },
        {
          "data": {
            "application/vnd.jupyter.widget-view+json": {
              "model_id": "32d17f744df54e10a2cbac4a24847860",
              "version_major": 2,
              "version_minor": 0
            },
            "text/plain": [
              "model-00002-of-00002.safetensors:   0%|          | 0.00/241M [00:00<?, ?B/s]"
            ]
          },
          "metadata": {},
          "output_type": "display_data"
        },
        {
          "data": {
            "application/vnd.jupyter.widget-view+json": {
              "model_id": "edbc5bfbea344ff98c8f85f239b7a577",
              "version_major": 2,
              "version_minor": 0
            },
            "text/plain": [
              "Loading checkpoint shards:   0%|          | 0/2 [00:00<?, ?it/s]"
            ]
          },
          "metadata": {},
          "output_type": "display_data"
        },
        {
          "data": {
            "application/vnd.jupyter.widget-view+json": {
              "model_id": "2f485524ccdc440abc054aa5eeaacc7d",
              "version_major": 2,
              "version_minor": 0
            },
            "text/plain": [
              "generation_config.json:   0%|          | 0.00/168 [00:00<?, ?B/s]"
            ]
          },
          "metadata": {},
          "output_type": "display_data"
        },
        {
          "name": "stdout",
          "output_type": "stream",
          "text": [
            "モデル google/gemma-2-2b-jpn-it をロードしました。\n"
          ]
        }
      ],
      "source": [
        "# モデルの読み込み\n",
        "try:\n",
        "    model = AutoModelForCausalLM.from_pretrained(\n",
        "                model_name,\n",
        "                device_map=\"auto\", # 可能な限りGPUを使用\n",
        "                quantization_config=bnb_config,\n",
        "                torch_dtype=torch.bfloat16, # bfloat16を使用\n",
        "            )\n",
        "    print(f\"モデル {model_name} をロードしました。\")\n",
        "except Exception as e:\n",
        "    print(f\"モデルのロードに失敗しました: {e}\")\n",
        "    print(\"GPUが利用可能か、または必要なライブラリが正しくインストールされているか確認してください。\")"
      ]
    },
    {
      "cell_type": "markdown",
      "metadata": {
        "id": "chl7_5lH9mm-"
      },
      "source": [
        "LLMで回答を生成するための関数を定義します。"
      ]
    },
    {
      "cell_type": "code",
      "execution_count": null,
      "metadata": {
        "id": "Ai8i-ueM9rDn"
      },
      "outputs": [],
      "source": [
        "def generate_output(query, model, tokenizer):\n",
        "    '''\n",
        "    #指定されたモデルとトークナイザーを使用してクエリに対する回答を生成します。\n",
        "\n",
        "    Args:\n",
        "        query (str): 生成するクエリまたはプロンプト。\n",
        "        model: ロードされたLLMモデル。\n",
        "        tokenizer: ロードされたトークナイザー。\n",
        "\n",
        "    Returns:\n",
        "        str: 生成された回答テキスト。\n",
        "    '''\n",
        "    messages = [\n",
        "        {\"role\": \"user\", \"content\": query},\n",
        "    ]\n",
        "\n",
        "    # チャットテンプレートを適用し、入力IDに変換\n",
        "    input_ids = tokenizer.apply_chat_template(\n",
        "        messages,\n",
        "        add_generation_prompt=True, # モデルによっては不要な場合あり\n",
        "        return_tensors=\"pt\"\n",
        "    ).to(model.device) # モデルと同じデバイスに配置\n",
        "\n",
        "    # 生成停止条件 (EOSトークンや特定の特殊トークン)\n",
        "    terminators = [\n",
        "        tokenizer.eos_token_id,\n",
        "        tokenizer.convert_tokens_to_ids(\"<|eot_id|>\") # GemmaのEOTトークン\n",
        "    ]\n",
        "\n",
        "    # 回答生成\n",
        "    outputs = model.generate(\n",
        "        input_ids,\n",
        "        max_new_tokens=512, # 生成する最大トークン数（必要に応じて調整）\n",
        "        eos_token_id=terminators,\n",
        "        do_sample=False, # 決定的な生成 (Trueにすると多様な回答になる)\n",
        "        # temperature=0.6, # do_sample=Trueの場合に使用\n",
        "        # top_p=0.9,  # do_sample=Trueの場合に使用\n",
        "    )\n",
        "\n",
        "    # 生成されたトークンからテキストをデコード\n",
        "    # 入力プロンプト部分を除外して回答のみを取得\n",
        "    response = outputs[0][input_ids.shape[-1]:]\n",
        "    return tokenizer.decode(response, skip_special_tokens=True)"
      ]
    },
    {
      "cell_type": "markdown",
      "metadata": {
        "id": "AdrOLWd-9wID"
      },
      "source": [
        "評価関数を定義します。これはOpenAI APIを使用するため、実行にはAPIキーが必要です。"
      ]
    },
    {
      "cell_type": "code",
      "execution_count": null,
      "metadata": {
        "colab": {
          "base_uri": "https://localhost:8080/"
        },
        "id": "-IsfeBxJyV1I",
        "outputId": "00ef5ca1-d845-4fd5-8014-acf51b356302"
      },
      "outputs": [
        {
          "name": "stdout",
          "output_type": "stream",
          "text": [
            "OpenAIクライアントを初期化しました。\n"
          ]
        }
      ],
      "source": [
        "# @title 評価実装 (OpenAI APIを使用)\n",
        "# 注意: このセルを実行するには、Google Colab Secretsに 'OPENAI_API_KEY' が設定されている必要があります。\n",
        "# また、OpenAI APIの利用料金が発生する可能性があります。\n",
        "\n",
        "from openai import OpenAI\n",
        "from google.colab import userdata # 既に上でインポート済み\n",
        "\n",
        "# OpenAIクライアントの初期化\n",
        "try:\n",
        "    client = OpenAI(api_key=userdata.get(\"OPENAI_API_KEY\"), max_retries=5, timeout=60)\n",
        "    print(\"OpenAIクライアントを初期化しました。\")\n",
        "except Exception as e:\n",
        "    print(f\"OpenAIクライアントの初期化に失敗しました: {e}\")\n",
        "    print(\"評価を実行するには、Colab Secretsに 'OPENAI_API_KEY' が正しく設定されているか確認してください。\")\n",
        "    client = None # 初期化失敗時はNoneとする\n",
        "\n"
      ]
    },
    {
      "cell_type": "code",
      "execution_count": null,
      "metadata": {
        "id": "f8C42-Q2yhxm"
      },
      "outputs": [],
      "source": [
        "# 評価用のLLM生成関数 (OpenAI APIを使用)\n",
        "def openai_generator(query):\n",
        "    if client is None:\n",
        "        print(\"OpenAIクライアントが初期化されていません。評価をスキップします。\")\n",
        "        return \"評価スキップ\"\n",
        "    try:\n",
        "        messages = [\n",
        "                            {\n",
        "                                \"role\": \"user\",\n",
        "                                \"content\": query\n",
        "                            }\n",
        "                        ]\n",
        "\n",
        "        response = client.chat.completions.create(\n",
        "            model=\"gpt-4o-mini\", # または他の適切なモデル\n",
        "            messages=messages,\n",
        "            max_tokens=256, # 生成する最大トークン数\n",
        "            temperature=0 # 決定的な評価のために温度を0に設定\n",
        "        )\n",
        "        return response.choices[0].message.content\n",
        "    except Exception as e:\n",
        "        print(f\"OpenAI API呼び出し中にエラーが発生しました: {e}\")\n",
        "        return \"評価エラー\"\n",
        "\n",
        "\n",
        "# 評価指標関数 (Answer Accuracy)\n",
        "def evaluate_answer_accuracy(query, response, reference):\n",
        "    if client is None:\n",
        "        return 0.0 # OpenAIクライアントがなければ評価できない\n",
        "\n",
        "    # RagasのAnswer Accuracy評価プロンプトを参考に作成\n",
        "    template_accuracy = (\\\n",
        "          \"Instruction: You are a world class state of the art assistant for rating \"\n",
        "          \"a User Answer given a Question and a Reference Answer. The Reference Answer is a perfect answer to the Question.\\\\n\"\n",
        "          \"Rate the User Answer based on how consistent it is with the Reference Answer.\\\\n\"\n",
        "          \"Say 4, if User Answer is full consistent and equivalent to Reference Answer \"\n",
        "          \"in all terms, topics, numbers, metrics, dates and units.\\\\n\"\n",
        "          \"Say 2, if User Answer is partially consistent and almost equivalent to Reference Answer \"\n",
        "          \"in all terms, topics, numbers, metrics, dates and units.\\\\n\"\n",
        "          \"Say 0, if User Answer is not consistent with Reference Answer or not accurate in all terms, topics,\"\n",
        "          \"numbers, metrics, dates and units or the User Answer do not answer the question.\\\\n\"\n",
        "          \"Do not explain or justify your rating. Your rating must be only 4, 2 or 0 according to the instructions above.\\\\n\"\n",
        "          \"Even small discrepancies in meaning, terminology, directionality, or implication must result in a lower score. Only rate 4 if the User Answer is a complete and precise match to the Reference Answer in every aspect.\\\\n\"\n",
        "          \"### Question: {query}\\\\n\"\n",
        "          \"### User Answer: {user_answer}\\\\n\"\n",
        "          \"### Reference Answer: {reference_answer}\\\\n\"\n",
        "          \"The rating is:\\\\n\"\n",
        "      )\n",
        "\n",
        "    # 評価プロンプトの生成\n",
        "    eval_prompt = template_accuracy.format(\n",
        "        query=query,\n",
        "        user_answer=response,\n",
        "        reference_answer=reference\n",
        "    )\n",
        "\n",
        "    # OpenAIで評価を実行\n",
        "    score_text = openai_generator(eval_prompt)\n",
        "\n",
        "    # スコアのパース\n",
        "    try:\n",
        "        score = int(score_text.strip())\n",
        "        # スコアを0-4から0-1に正規化 (Ragasのデフォルトスコア範囲に合わせる場合)\n",
        "        # score = score / 4.0\n",
        "        return score # 0, 2, 4 のまま返す場合\n",
        "    except:\n",
        "        print(f\"評価スコアのパースに失敗しました: '{score_text}'\")\n",
        "        return 0.0 # パース失敗時は0とする"
      ]
    },
    {
      "cell_type": "code",
      "execution_count": null,
      "metadata": {
        "id": "nUpTq6VABErI"
      },
      "outputs": [],
      "source": [
        "# 評価用のゴールドアンサーを定義 (表データに基づいて作成)\n",
        "\n",
        "gold_answers = {\n",
        "    \"日本に課される「相互関税」の税率は何%ですか？\": \"日本に課される「相互関税」の税率は24%です。\",\n",
        "    \"記載されている国の中で、最も高い「相互関税」が課されているのはどの国ですか？またその税率は何%ですか？\": \"最も高い「相互関税」が課されているのはレソトで、その税率は50%です。\", # 修正\n",
        "    \"「相互関税」が10%とされている国はどこですか？\": \"「相互関税」が10%とされているのはすべての国と地域です。\", # 修正\n",
        "    \"このデータの時点は何時ですか？\": \"読みとった表のデータは2025年4月2日時点の情報です。\",\n",
        "    \"第二次トランプ政権で導入が検討されているとされる「普遍的な基礎関税」とは、どのような構想ですか？\": \"普遍的な基礎関税とは、第二次トランプ政権が誕生した場合に、全ての輸入品に対して一律に関税を引き上げる構想です。国内産業の保護、貿易赤字の削減、公正な貿易条件の確立を目指しています。\" # この回答は表データには含まれませんが、ベースラインとの比較のために残します。\n",
        "}"
      ]
    },
    {
      "cell_type": "code",
      "execution_count": null,
      "metadata": {
        "colab": {
          "base_uri": "https://localhost:8080/"
        },
        "id": "pHclkw3rBEiD",
        "outputId": "51a9d84b-e1d8-4f0b-f71d-39f344ad8b1c"
      },
      "outputs": [
        {
          "name": "stdout",
          "output_type": "stream",
          "text": [
            "質問: 日本に課される「相互関税」の税率は何%ですか？\n",
            "ベースモデル回答評価スコア: 0\n",
            "RAGモデル回答評価スコア: 0\n"
          ]
        }
      ],
      "source": [
        "# # 評価を実行する例 (OpenAI APIキーが必要です)\n",
        "question_to_evaluate = list(gold_answers.keys())[0] # 最初の質問を例として評価\n",
        "base_response = generate_output(question_to_evaluate, model, tokenizer)\n",
        "rag_response = \"ここにRAGによる回答を生成した結果を入れます\" # RAGパートで生成した回答\n",
        "base_score = evaluate_answer_accuracy(question_to_evaluate, base_response, gold_answers[question_to_evaluate])\n",
        "print(f\"質問: {question_to_evaluate}\")\n",
        "print(f\"ベースモデル回答評価スコア: {base_score}\")\n",
        "rag_score = evaluate_answer_accuracy(question_to_evaluate, rag_response, gold_answers[question_to_evaluate])\n",
        "print(f\"RAGモデル回答評価スコア: {rag_score}\")"
      ]
    },
    {
      "cell_type": "code",
      "execution_count": null,
      "metadata": {
        "colab": {
          "base_uri": "https://localhost:8080/"
        },
        "id": "K9BHc3CjBEVW",
        "outputId": "d8e4cbd7-d0ea-4ffa-cc50-e65744c9b450"
      },
      "outputs": [
        {
          "name": "stdout",
          "output_type": "stream",
          "text": [
            "評価関数はOpenAI APIを使用します。実行にはAPIキー設定と利用料金が発生する可能性があります。\n",
            "評価コードはコメントアウトされています。実行する場合はコメントアウトを解除し、APIキーを設定してください。\n"
          ]
        }
      ],
      "source": [
        "print(\"評価関数はOpenAI APIを使用します。実行にはAPIキー設定と利用料金が発生する可能性があります。\")\n",
        "print(\"評価コードはコメントアウトされています。実行する場合はコメントアウトを解除し、APIキーを設定してください。\")"
      ]
    },
    {
      "cell_type": "markdown",
      "metadata": {
        "id": "ONvOciE0BZIJ"
      },
      "source": [
        "## 参照資料の準備 (Wikipediaの表データ)\n",
        "\n",
        "Wikipediaページから「表1. 国別の「相互関税」の一覧（2025年4月2日時点）」を取得し、RAGに適した形に処理します。`pandas`を使用して表を読み込み、テキスト形式に変換します。"
      ]
    },
    {
      "cell_type": "code",
      "execution_count": null,
      "metadata": {
        "id": "tMmp962TBUxO"
      },
      "outputs": [],
      "source": [
        "import pandas as pd\n",
        "from langchain.text_splitter import RecursiveCharacterTextSplitter\n",
        "from langchain_community.embeddings import SentenceTransformerEmbeddings\n",
        "from langchain_community.vectorstores import Chroma\n",
        "from langchain.schema import Document # LangChainのDocumentオブジェクトを使用\n",
        "import requests  # requests libraryをインポート\n",
        "from io import StringIO # StringIOをインポート\n",
        "from bs4 import BeautifulSoup # BeautifulSoupをインポート"
      ]
    },
    {
      "cell_type": "code",
      "execution_count": null,
      "metadata": {
        "colab": {
          "base_uri": "https://localhost:8080/",
          "height": 1000,
          "referenced_widgets": [
            "22f238702c8a4f89b3edf2a168a3c549",
            "c56a74735ffa4da8a239d2a96ad613b4",
            "29296a952de14ee8ae81faebd3db5128",
            "08d1bf208ff04d07a4ad4b9425458e3d",
            "fc93ac4eba084b77b99157c8060c1b37",
            "af093b6f677c46ed924894ceb1bedd08",
            "e40e95af9d45481e8b9412f274f3b62a",
            "061215bfab884b179dc2e3de37eed66d",
            "ea440e58bb444a55866039d2cde7cd6f",
            "43634e68c22647009cd0dd3ac5d6d0c1",
            "c7f1c8be31f34dc1a5c07e783a487a2b",
            "8e8c8533bfa1459d8b2156f6a657ee7c",
            "3dd20aee5ac445409e4378b7ae2bb3ce",
            "12cae397b4d04bf985b0092e8411e90a",
            "508ccbffd05c44bda77673eb8beea370",
            "7be6a3f890eb4e6ba41bccbec2609b95",
            "ec8921e50a134b81b2eb67bb9cee5c31",
            "294c508d6be24e7a8ea8d9e444463065",
            "05c787c85d1e4af29ee83436e29fd237",
            "848e9288ac7740e5b300363b76bc1d3b",
            "c8e0314fecb7487c962232ff6cc636dd",
            "061241288e7a4323ab1d27fc0ea0d796",
            "39b45acddd184249a7b2e5eb9442ee0e",
            "e9fb75e847c144f6b6278692fa8e7bd1",
            "331b93f7d1d54b158bce5887b5033646",
            "46f60d5476c8454a8504be87e1b681e8",
            "8a3ea47e2d9c498ebd36745539826088",
            "9049ae1344404af38cc7f938c5fcf9f7",
            "e68bed9deff142aba67047ebdc75a4c1",
            "74f40aae515d478483045ea04c602b18",
            "d0387417aff14e419695befa1b6900a7",
            "9108a3923abd4104a63da697f7f5fb06",
            "bd8bf105e78e41819c7e44cfafd9da7a",
            "c906883667b34788b85a3e3f23611c74",
            "143af6f9e9c04f579fddec56c2a17a97",
            "34912541cb1341da818286f005fdb570",
            "e96b26803dd248969d97d3deff719bb4",
            "7585f7253bde417885f6ad17e45f0d71",
            "cc5d0b4170464e87a9e48b1b48791b13",
            "1dae6cc87f9d418abe966cf90ade1c43",
            "77d9fa24686349359bd30142e99e02c7",
            "89028bd7538948afb74c5faface2172a",
            "7133803a66fe45a7bde64b427b1f59c8",
            "637303779b7a497ea77fa018b418c29f",
            "cef2205f8fe545499b97a3b6f0eff1aa",
            "263b607f6a0941a2ae004815d78b26af",
            "d4bbc60e9e264dd4b916754da19a4bad",
            "aa0edff2550a4dbbb2a88ee5f90e5197",
            "b1f9ff37915048e9a415a531f5a53947",
            "0f8b387ad4ce4b64bb8f59e364648431",
            "82390eebd7bc452997afcc53733c16ed",
            "2edbd5952e14448081e13d462e8b86b1",
            "c62b93d3e7ed4e77b06fab7295c15cee",
            "f935d11bd04c4974831761587b0beab6",
            "cfa6301d109b42a3854c931dabb17523",
            "b3fac8cd786a46a489ae7f7516995400",
            "7eaf6f67d7ba4f789b71f63dd52fd6ee",
            "ac19d6ff4b444258b869b932e6858728",
            "ee186a66d3484c86859662ff0c865e42",
            "3dc3d4d64c9c4420b29c494ea3dd254c",
            "9080d7b69d0b40dc9a06d0f3b423627d",
            "e9505281c4a4450c9dbcf779ea1ff35a",
            "436df7a821ec4e3d99c10c389bebb674",
            "d1fd73513bc84e9b80525ecb6046ca0b",
            "42b1554c6e8043f1aa62ea7d80709c6b",
            "846ab46e18c847e1a011118303ee1dbd",
            "261f2d401a0945dabf823102b8f77739",
            "fd948f4db2cc48b8b7e452feaaf5eb88",
            "a69bfccc65ec40999c3b6699d3298a8d",
            "7edf33a86d6345eca9e97a69116683ba",
            "505206a205664074b51fc960c7a5e054",
            "ee5ddf2112f740e292067a12a9d6e07c",
            "ac7666d8de7e48edb80e05316356a86b",
            "8582fbd5f63744fd960dd9864a531149",
            "77afe8a475934f6a93977ef6d49bf9e6",
            "3df4ab10e91e4d05bf0f84308f9d3064",
            "527f6e2fe6cd46cea6b10da4565c0d6d",
            "08e95d5bd2f7416386f40dc7fca98cfd",
            "6e6ff56d34d740589eb5bd2305eaa7a6",
            "df29650a8c1547e5a17cd5eeb4401efc",
            "fe8a47492ada4f1ba17ca13d3047dfc1",
            "7dc4c66999e349a5aea08ae4ca9f9d51",
            "ec9e854246ea4d74af60eb195d17e0ae",
            "cd480c0a8b2041b99478805b23d5f53b",
            "cb3e37b4a0c84f2d941b5fce45c2fccf",
            "63e09c84e9b54a5e9f61b53cd1d537b3",
            "6c48d8df707b47bb977a6ce224fa62fc",
            "574ff5a7421640ab826b141ccbb10a16",
            "f2f8ec08ad1343b4a092bd1bb77a7899",
            "1b0a00ccf1d044b4a4e117bbf1053ece",
            "262f15a130c1491695876a55617d7aec",
            "d163bf648a6641dea7e67c6c562fc1ca",
            "6825b48f46574d329353dfbffd6845a5",
            "c72eb3cc32244d99b75e96e4eab6e75f",
            "ab73ab7b82654aeaacfe9a82f6e7e960",
            "eb22e0f300cb42a3bd9bf044e51868b3",
            "5918a05587334cefadc7cebb18d5d16d",
            "bb922ca227db41ad86031d37e0aa5807",
            "f90fc02047f94dccb3013e6d2e051b78",
            "f1da49ceb3994ab39eaad329d7762934",
            "7cbc900bb359400f85101d151bd1713a",
            "fd6a498b492f49b3a9f7dd26ba23a17d",
            "443b13feedd0440e93f8869691fcc0b2",
            "530d8098658d41c8b2cb31c7633c1172",
            "89efcf8607084f89b9bde772aa03c8b4",
            "2abfe0b6e2d8428da57a59a0ede5490a",
            "79df78e9c5e541828b7cffca79e4c0d0",
            "a8c6903e29ac43289d367dd3a185d05f",
            "ce8122bf6f944dcd90d78b2e77d10f80",
            "3078614eaee24c18a61c0cc08a48a367",
            "e14b54b335234e10b2e2c3c7a21b8cf6",
            "9a91618b39e94c0bad3cf5b92431726e",
            "d359a3a719014e73b10abbc04ed0f00b",
            "7a7d332478c84c34b6d3eef98b87c79d",
            "96c56ac5c5024909871a43a76c691370",
            "32198e49a9b44a5a92eb2d64b7d076ce",
            "71422111ccd84c7c8e6f28adb8c53543",
            "eb767093c38e4bd9ac669bec6b3a1f28",
            "665f58b539f043c6ba7b86cb2d4dae63",
            "86781df30b834350b6c597cf32c2b435",
            "dff69c130ea4408c855ad083da65da59",
            "c60e6568c3034bb5a53d4b5230b2c5fa",
            "00bf794d104b45c99383bedff2bc0b66",
            "69b2172a796349a89214e1bedb191ba9",
            "6a0bf3615fc64a24b3102681d34334da",
            "fe8ae4a1c3fc417294ed342c530cae04",
            "7eec545d9b5c4df2a797859462c35256",
            "0a88ec1bd6bc47559afd3bcc6c5fe3bc",
            "7173d628e9834d96b61a0f5dbd304ced",
            "ba7445c99fef4697aefd33e1bdc66f2a",
            "ac5ab86404724f7492db877d245cbd09",
            "c247660c7fab4a939f4fe04d145aa95d",
            "28493921c9c847718a417ef9107da013",
            "59cc4d9bca3b4c45a84b367df5a935fa",
            "3f98d6b6da3d4f929ea6f1090c8864cd",
            "70db5579dc6642f9840421d297d0fc5f",
            "8a2eca157c3248f0922fe4cd7d71f482",
            "972e1ed0bba441309a633795f3557f6d",
            "1896c220b19c45d699cdf2478c5f1248",
            "6f3666c1ed7545a59f60c15c4f7b0862",
            "518863d3509d4c18bf1ec0b4ae343978",
            "9d84493cc4964de4a6a583855ac63c0f",
            "bdbe5c68d55b4a7caec2633195afeaa7"
          ]
        },
        "id": "zUM_US7vG3nC",
        "outputId": "0b731875-836b-4145-a486-561a86df5b81"
      },
      "outputs": [
        {
          "name": "stdout",
          "output_type": "stream",
          "text": [
            "Wikipediaページから表データをロードします: https://ja.wikipedia.org/wiki/%E7%AC%AC2%E6%AC%A1%E3%83%88%E3%83%A9%E3%83%B3%E3%83%97%E6%94%BF%E6%A8%A9%E3%81%AE%E9%96%A2%E7%A8%8E#cite_note-18\n",
            "ページから 6 個の表を検出しました。\n",
            "目的の表 (表 2) を検出しました。列名: ['国または地域', '関税率']\n",
            "\n",
            "--- 抽出した表データ (文字列形式) ---\n",
            "                    国または地域 関税率\n",
            "                    アルジェリア 30%\n",
            "                      アンゴラ 32%\n",
            "                   バングラデシュ 37%\n",
            "              ボスニア・ヘルツェゴビナ 35%\n",
            "                      ボツワナ 37%\n",
            "                      ブルネイ 24%\n",
            "                     カンボジア 49%\n",
            "                     カメルーン 11%\n",
            "                       チャド 13%\n",
            "                        中国 34%\n",
            "                  コンゴ民主共和国 11%\n",
            "                     赤道ギニア 13%\n",
            "                      欧州連合 20%\n",
            "フォークランド諸島 (United Kingdom) 41%\n",
            "                      フィジー 32%\n",
            "                      ガイアナ 38%\n",
            "                       インド 26%\n",
            "                    インドネシア 32%\n",
            "                       イラク 39%\n",
            "                     イスラエル 17%\n",
            "                  コートジボワール 21%\n",
            "                        日本 24%\n",
            "                      ヨルダン 20%\n",
            "                    カザフスタン 27%\n",
            "                       ラオス 48%\n",
            "                       レソト 50%\n",
            "                       リビア 31%\n",
            "                 リヒテンシュタイン 37%\n",
            "                    マダガスカル 47%\n",
            "                      マラウイ 17%\n",
            "                     マレーシア 24%\n",
            "                    モーリシャス 40%\n",
            "                      モルドバ 31%\n",
            "                    モザンビーク 16%\n",
            "                     ミャンマー 44%\n",
            "                      ナミビア 21%\n",
            "                       ナウル 30%\n",
            "                     ニカラグア 18%\n",
            "                    ナイジェリア 14%\n",
            "                 北マケドニア共和国 33%\n",
            "                     ノルウェー 15%\n",
            "                     パキスタン 29%\n",
            "                     フィリピン 17%\n",
            "                      セルビア 37%\n",
            "                     南アフリカ 30%\n",
            "                        韓国 25%\n",
            "                     スリランカ 44%\n",
            "                       スイス 31%\n",
            "                       シリア 41%\n",
            "                        台湾 32%\n",
            "                        タイ 36%\n",
            "                     チュニジア 28%\n",
            "                      バヌアツ 22%\n",
            "                     ベネズエラ 15%\n",
            "                      ベトナム 46%\n",
            "                      ザンビア 17%\n",
            "                     ジンバブエ 18%\n",
            "            すべての国と地域[注釈 1] 10%\n",
            "\n",
            "-------------------------------------\n",
            "\n",
            "--- 抽出したキャプション ---\n",
            "国別の「相互関税」の一覧（2025年4月2日時点）[16][17]\n",
            "----------------------------\n",
            "追加情報を含むドキュメントを生成しました。\n",
            "分割後のチャンク数: 2\n",
            "\n",
            "--- 分割されたチャンクの例 ---\n",
            "国または地域 関税率\n",
            "                    アルジェリア 30%\n",
            "                      アンゴラ 32%\n",
            "                   バングラデシュ 37%\n",
            "              ボスニア・ヘルツェゴビナ 35%\n",
            "                      ボツワナ 37%\n",
            "                      ブルネイ 24%\n",
            "                     カンボジア 49%\n",
            "                     カメルーン 11%\n",
            "                       チャド 13%\n",
            "                        中国 34%\n",
            "                  コンゴ民主共和国 11%\n",
            "                     赤道ギニア 13%\n",
            "                      欧州連合 20%\n",
            "フォークランド諸島 (United Kingdom) 41%\n",
            "                      フィジー 32%\n",
            "                      ガイアナ 38%\n",
            "                       インド 26%\n",
            "                    インドネシア 32%\n",
            "                       イラク 39%\n",
            "                     イスラエル 17%\n",
            "                  コートジボワール 21%\n",
            "                        日本 24%\n",
            "                      ヨルダン 20%\n",
            "                    カザフスタン 27%\n",
            "                       ラオス 48%\n",
            "                       レソト 50%\n",
            "                       リビア 31%\n",
            "                 リヒテンシュタイン 37%\n",
            "                    マダガスカル 47%\n",
            "                      マラウイ 17%\n",
            "                     マレーシア 24%\n",
            "                    モーリシャス 40%\n",
            "                      モルドバ 31%\n",
            "                    モザンビーク 16%\n",
            "                     ミャンマー 44%\n",
            "                      ナミビア 21%\n",
            "                       ナウル 30%\n",
            "                     ニカラグア 18%\n",
            "                    ナイジェリア 14%\n",
            "                 北マケドニア共和国 33%\n",
            "                     ノルウェー 15%\n",
            "                     パキスタン 29%\n",
            "                     フィリピン 17%\n",
            "                      セルビア 37%\n",
            "                     南アフリカ 30%\n",
            "                        韓国 25%\n",
            "                     スリランカ 44%\n",
            "                       スイス 31%\n",
            "                       シリア 41%\n",
            "                        台湾 32%\n",
            "                        タイ 36%\n",
            "                     チュニジア 28%\n",
            "                      バヌアツ 22%\n",
            "                     ベネズエラ 15%\n",
            "                      ベトナム 46%\n",
            "                      ザンビア 17%\n",
            "                     ジンバブエ 18%\n",
            "            すべての国と地域[注釈 1] 10%\n",
            "------------------------------\n",
            "\n",
            "エンベディングモデルをロードします...\n"
          ]
        },
        {
          "name": "stderr",
          "output_type": "stream",
          "text": [
            "<ipython-input-18-195cd1e22a5f>:117: LangChainDeprecationWarning: The class `HuggingFaceEmbeddings` was deprecated in LangChain 0.2.2 and will be removed in 1.0. An updated version of the class exists in the :class:`~langchain-huggingface package and should be used instead. To use it run `pip install -U :class:`~langchain-huggingface` and import as `from :class:`~langchain_huggingface import HuggingFaceEmbeddings``.\n",
            "  embedding_model = SentenceTransformerEmbeddings(model_name=\"infly/inf-retriever-v1-1.5b\")\n"
          ]
        },
        {
          "data": {
            "application/vnd.jupyter.widget-view+json": {
              "model_id": "22f238702c8a4f89b3edf2a168a3c549",
              "version_major": 2,
              "version_minor": 0
            },
            "text/plain": [
              "modules.json:   0%|          | 0.00/349 [00:00<?, ?B/s]"
            ]
          },
          "metadata": {},
          "output_type": "display_data"
        },
        {
          "data": {
            "application/vnd.jupyter.widget-view+json": {
              "model_id": "8e8c8533bfa1459d8b2156f6a657ee7c",
              "version_major": 2,
              "version_minor": 0
            },
            "text/plain": [
              "config_sentence_transformers.json:   0%|          | 0.00/284 [00:00<?, ?B/s]"
            ]
          },
          "metadata": {},
          "output_type": "display_data"
        },
        {
          "data": {
            "application/vnd.jupyter.widget-view+json": {
              "model_id": "39b45acddd184249a7b2e5eb9442ee0e",
              "version_major": 2,
              "version_minor": 0
            },
            "text/plain": [
              "README.md:   0%|          | 0.00/19.8k [00:00<?, ?B/s]"
            ]
          },
          "metadata": {},
          "output_type": "display_data"
        },
        {
          "data": {
            "application/vnd.jupyter.widget-view+json": {
              "model_id": "c906883667b34788b85a3e3f23611c74",
              "version_major": 2,
              "version_minor": 0
            },
            "text/plain": [
              "sentence_bert_config.json:   0%|          | 0.00/55.0 [00:00<?, ?B/s]"
            ]
          },
          "metadata": {},
          "output_type": "display_data"
        },
        {
          "data": {
            "application/vnd.jupyter.widget-view+json": {
              "model_id": "cef2205f8fe545499b97a3b6f0eff1aa",
              "version_major": 2,
              "version_minor": 0
            },
            "text/plain": [
              "config.json:   0%|          | 0.00/918 [00:00<?, ?B/s]"
            ]
          },
          "metadata": {},
          "output_type": "display_data"
        },
        {
          "data": {
            "application/vnd.jupyter.widget-view+json": {
              "model_id": "b3fac8cd786a46a489ae7f7516995400",
              "version_major": 2,
              "version_minor": 0
            },
            "text/plain": [
              "model.safetensors:   0%|          | 0.00/3.09G [00:00<?, ?B/s]"
            ]
          },
          "metadata": {},
          "output_type": "display_data"
        },
        {
          "data": {
            "application/vnd.jupyter.widget-view+json": {
              "model_id": "261f2d401a0945dabf823102b8f77739",
              "version_major": 2,
              "version_minor": 0
            },
            "text/plain": [
              "tokenizer_config.json:   0%|          | 0.00/1.33k [00:00<?, ?B/s]"
            ]
          },
          "metadata": {},
          "output_type": "display_data"
        },
        {
          "data": {
            "application/vnd.jupyter.widget-view+json": {
              "model_id": "08e95d5bd2f7416386f40dc7fca98cfd",
              "version_major": 2,
              "version_minor": 0
            },
            "text/plain": [
              "vocab.json:   0%|          | 0.00/2.78M [00:00<?, ?B/s]"
            ]
          },
          "metadata": {},
          "output_type": "display_data"
        },
        {
          "data": {
            "application/vnd.jupyter.widget-view+json": {
              "model_id": "f2f8ec08ad1343b4a092bd1bb77a7899",
              "version_major": 2,
              "version_minor": 0
            },
            "text/plain": [
              "merges.txt:   0%|          | 0.00/1.67M [00:00<?, ?B/s]"
            ]
          },
          "metadata": {},
          "output_type": "display_data"
        },
        {
          "data": {
            "application/vnd.jupyter.widget-view+json": {
              "model_id": "f1da49ceb3994ab39eaad329d7762934",
              "version_major": 2,
              "version_minor": 0
            },
            "text/plain": [
              "tokenizer.json:   0%|          | 0.00/7.03M [00:00<?, ?B/s]"
            ]
          },
          "metadata": {},
          "output_type": "display_data"
        },
        {
          "data": {
            "application/vnd.jupyter.widget-view+json": {
              "model_id": "e14b54b335234e10b2e2c3c7a21b8cf6",
              "version_major": 2,
              "version_minor": 0
            },
            "text/plain": [
              "added_tokens.json:   0%|          | 0.00/80.0 [00:00<?, ?B/s]"
            ]
          },
          "metadata": {},
          "output_type": "display_data"
        },
        {
          "data": {
            "application/vnd.jupyter.widget-view+json": {
              "model_id": "c60e6568c3034bb5a53d4b5230b2c5fa",
              "version_major": 2,
              "version_minor": 0
            },
            "text/plain": [
              "special_tokens_map.json:   0%|          | 0.00/370 [00:00<?, ?B/s]"
            ]
          },
          "metadata": {},
          "output_type": "display_data"
        },
        {
          "data": {
            "application/vnd.jupyter.widget-view+json": {
              "model_id": "28493921c9c847718a417ef9107da013",
              "version_major": 2,
              "version_minor": 0
            },
            "text/plain": [
              "config.json:   0%|          | 0.00/297 [00:00<?, ?B/s]"
            ]
          },
          "metadata": {},
          "output_type": "display_data"
        },
        {
          "name": "stdout",
          "output_type": "stream",
          "text": [
            "エンベディングモデルをロードしました。\n",
            "\n",
            "ベクトルストアを作成し、チャンクを格納します...\n",
            "ベクトルストアにチャンクを格納しました。\n",
            "リトリーバーを作成しました。\n"
          ]
        }
      ],
      "source": [
        "# URL文字列の修正: Markdownリンク形式ではなく、純粋なURL文字列にする\n",
        "wikipedia_url = \"https://ja.wikipedia.org/wiki/%E7%AC%AC2%E6%AC%A1%E3%83%88%E3%83%A9%E3%83%B3%E3%83%97%E6%94%BF%E6%A8%A9%E3%81%AE%E9%96%A2%E7%A8%8E#cite_note-18\"\n",
        "table_title_identifier = \"表1. 国別の「相互関税」の一覧\" # 表を特定するためのキーワード（列名チェックが主になります）\n",
        "\n",
        "print(f\"Wikipediaページから表データをロードします: {wikipedia_url}\")\n",
        "\n",
        "table_documents = [] # 表データを格納するDocumentオブジェクトのリスト\n",
        "\n",
        "try:\n",
        "    # requestsとBeautifulSoupを使用してHTMLを取得・解析\n",
        "    response = requests.get(wikipedia_url)\n",
        "    response.raise_for_status() # HTTPエラーがあれば例外を発生\n",
        "    response.encoding = 'utf-8' # エンコーディングを指定\n",
        "    soup = BeautifulSoup(response.text, 'html.parser')\n",
        "\n",
        "    # ページ内の全ての表要素を探す\n",
        "    # pandas.read_htmlに直接soupオブジェクトを渡すと、BeautifulSoupでパース済みのHTMLから表を読み込める\n",
        "    dfs = pd.read_html(StringIO(str(soup))) # soupオブジェクトを文字列化してStringIOでラップ\n",
        "\n",
        "    print(f\"ページから {len(dfs)} 個の表を検出しました。\")\n",
        "\n",
        "    # 目的の表（カラム名に「国または地域」と「関税率」が含まれるもの）を探す\n",
        "    target_df = None\n",
        "    target_table_element = None # 対象の表のBeautifulSoup要素を保持するための変数\n",
        "    for i, df in enumerate(dfs):\n",
        "        # DataFrameの列名を確認して目的の表を特定\n",
        "        # 実際の表の列名に合わせてキーを調整してください\n",
        "        if \"国または地域\" in df.columns and \"関税率\" in df.columns:\n",
        "             target_df = df\n",
        "             # pandas.read_htmlはDataFrameを返すため、元のBeautifulSoup要素を別途見つける必要がある\n",
        "             # ここでは、検出したDataFrameに対応する元の<table>要素を探す\n",
        "             # これは簡易的な方法であり、より頑健な方法が必要な場合もある\n",
        "             tables_in_soup = soup.find_all('table')\n",
        "             if i < len(tables_in_soup):\n",
        "                 target_table_element = tables_in_soup[i]\n",
        "             print(f\"目的の表 (表 {i+1}) を検出しました。列名: {list(df.columns)}\")\n",
        "             break\n",
        "\n",
        "    if target_df is not None:\n",
        "        # 検出したDataFrameを整形された文字列に変換\n",
        "        # index=FalseでDataFrameの行インデックスを非表示に\n",
        "        # header=Trueで列ヘッダーを含める\n",
        "        table_string = target_df.to_string(index=False, header=True)\n",
        "\n",
        "        # 変換した表の文字列を表示\n",
        "        print(\"\\n--- 抽出した表データ (文字列形式) ---\")\n",
        "        print(table_string)\n",
        "        print(\"\\n-------------------------------------\")\n",
        "\n",
        "        # 抽出した表の文字列をLangChainのDocumentオブジェクトに変換\n",
        "        # メタデータとしてソースURLや表のタイトルを含める\n",
        "        table_document = Document(\n",
        "            page_content=table_string,\n",
        "            metadata={\n",
        "                \"source\": wikipedia_url,\n",
        "                \"table_title\": \"国別の「相互関税」の一覧\", # 検出した表のタイトルをメタデータに設定\n",
        "                \"description\": \"Wikipediaページの「表1. 国別の「相互関税」の一覧」のデータ本体\"\n",
        "            }\n",
        "        )\n",
        "        table_documents.append(table_document)\n",
        "\n",
        "        # 表のキャプションまたは周囲のテキストを抽出\n",
        "        additional_info = \"\"\n",
        "        if target_table_element:\n",
        "            # キャプションタグを探す\n",
        "            caption = target_table_element.find('caption')\n",
        "            if caption:\n",
        "                additional_info += caption.get_text(strip=True) + \"\\n\"\n",
        "                print(f\"\\n--- 抽出したキャプション ---\")\n",
        "                print(caption.get_text(strip=True))\n",
        "                print(\"----------------------------\")\n",
        "            else:\n",
        "                 # キャプションがない場合、表の直前の要素からテキストを抽出する試み\n",
        "                 # これはページの構造に依存するため、調整が必要な場合がある\n",
        "                 previous_sibling = target_table_element.find_previous_sibling()\n",
        "                 if previous_sibling and previous_sibling.name in ['h2', 'h3', 'p']: # 見出しや段落など\n",
        "                     additional_info += previous_sibling.get_text(strip=True) + \"\\n\"\n",
        "                     print(f\"\\n--- 抽出した直前テキスト ({previous_sibling.name}) ---\")\n",
        "                     print(previous_sibling.get_text(strip=True))\n",
        "                     print(\"------------------------------------\")\n",
        "\n",
        "\n",
        "        # 抽出した追加情報をDocumentオブジェクトとして追加\n",
        "        if additional_info:\n",
        "            additional_document = Document(\n",
        "                page_content=additional_info.strip(), # 前後の空白を削除\n",
        "                metadata={\n",
        "                    \"source\": wikipedia_url,\n",
        "                    \"description\": \"Wikipediaページの表に関連するキャプションまたは周囲のテキスト\"\n",
        "                }\n",
        "            )\n",
        "            table_documents.append(additional_document)\n",
        "            print(f\"追加情報を含むドキュメントを生成しました。\")\n",
        "\n",
        "\n",
        "        # テキスト分割 (チャンク化)\n",
        "        # 表データ本体と追加情報をまとめてチャンク化する\n",
        "        # chunk_sizeは表全体と追加情報が収まるように十分大きく設定\n",
        "        text_splitter = RecursiveCharacterTextSplitter(chunk_size=2000, chunk_overlap=0) # 表全体が収まるようにチャンクサイズを大きめに\n",
        "        chunked_documents = text_splitter.split_documents(table_documents)\n",
        "\n",
        "\n",
        "        print(f\"分割後のチャンク数: {len(chunked_documents)}\")\n",
        "        if chunked_documents:\n",
        "            print(\"\\n--- 分割されたチャンクの例 ---\")\n",
        "            # 複数のドキュメントがある場合、最初のチャンクが表データ本体とは限らない\n",
        "            # ここではシンプルに最初のチャンクを表示\n",
        "            print(chunked_documents[0].page_content)\n",
        "            print(\"------------------------------\")\n",
        "\n",
        "\n",
        "        # エンベディングモデルのロード\n",
        "        print(\"\\nエンベディングモデルをロードします...\")\n",
        "        try:\n",
        "            # オリジナルノートブックと同じモデルを使用\n",
        "            # trust_remote_code=True を削除または False に変更\n",
        "            embedding_model = SentenceTransformerEmbeddings(model_name=\"infly/inf-retriever-v1-1.5b\")\n",
        "            print(\"エンベディングモデルをロードしました。\")\n",
        "        except Exception as e:\n",
        "            print(f\"エンベディングモデルのロードに失敗しました: {e}\")\n",
        "            embedding_model = None # ロード失敗時はNoneとする\n",
        "\n",
        "        # ベクトルストアの作成とデータの格納\n",
        "        if embedding_model and chunked_documents:\n",
        "            print(\"\\nベクトルストアを作成し、チャンクを格納します...\")\n",
        "            try:\n",
        "                # インメモリのChromaベクトルストアを使用\n",
        "                vectorstore = Chroma.from_documents(documents=chunked_documents, embedding=embedding_model)\n",
        "                print(\"ベクトルストアにチャンクを格納しました。\")\n",
        "                # retrieverはベクトルストアから関連性の高い上位N件を取得する役割\n",
        "                # k=3は取得するチャンク数。表全体が1チャンクならk=1でも良いが、念のため複数取得できるようにしておく。\n",
        "                retriever = vectorstore.as_retriever(search_kwargs={\"k\": 3}) # 表データから関連性の高い上位3件を取得\n",
        "                print(\"リトリーバーを作成しました。\")\n",
        "            except Exception as e:\n",
        "                 print(f\"ベクトルストアの作成またはデータ格納に失敗しました: {e}\")\n",
        "                 vectorstore = None\n",
        "                 retriever = None\n",
        "        # 修正: 論理構造を修正し、不要なelseブロックを削除\n",
        "        elif not embedding_model:\n",
        "             print(\"エンベディングモデルがロードできなかったため、ベクトルストアとリトリーバーは作成されません。\")\n",
        "        elif not chunked_documents:\n",
        "             print(\"チャンク化されたドキュメントがないため、ベクトルストアとリトリーバーは作成されません。\")\n",
        "\n",
        "\n",
        "    else: # target_df が None の場合\n",
        "        print(f\"指定された条件（列名に「国または地域」と「関税率」を含む）に合う表が見つかりませんでした。\")\n",
        "        chunked_documents = []\n",
        "        vectorstore = None\n",
        "        retriever = None\n",
        "        embedding_model = None\n",
        "\n",
        "\n",
        "except requests.exceptions.RequestException as e:\n",
        "    print(f\"ウェブページの取得中にエラーが発生しました: {e}\")\n",
        "    chunked_documents = []\n",
        "    vectorstore = None\n",
        "    retriever = None\n",
        "    embedding_model = None\n",
        "except Exception as e:\n",
        "    print(f\"表データの処理中にエラーが発生しました: {e}\")\n",
        "    chunked_documents = []\n",
        "    vectorstore = None\n",
        "    retriever = None\n",
        "    embedding_model = None"
      ]
    },
    {
      "cell_type": "markdown",
      "metadata": {
        "id": "oqze4bG7G1mv"
      },
      "source": []
    },
    {
      "cell_type": "markdown",
      "metadata": {
        "id": "4XEdxsXjBtk3"
      },
      "source": [
        "## 3. ベースラインモデル評価 (RAGなし)"
      ]
    },
    {
      "cell_type": "code",
      "execution_count": null,
      "metadata": {
        "colab": {
          "base_uri": "https://localhost:8080/"
        },
        "id": "VpQaDxI2Blg1",
        "outputId": "22b31a87-d2a2-46c2-854f-e381b4ffc892"
      },
      "outputs": [
        {
          "name": "stdout",
          "output_type": "stream",
          "text": [
            "--- ベースラインモデルによる回答生成 (RAGなし) ---\n",
            "\n",
            "質問 1: 日本に課される「相互関税」の税率は何%ですか？\n",
            "回答:\n",
            " 日本に課される相互関税の税率は、**商品やサービスによって異なります**。 \n",
            "\n",
            "一般的に、相互関税は**輸入品に対して課される税率**です。 \n",
            "\n",
            "詳細な税率は、**輸入品の種類や国**によって異なります。 \n",
            "\n",
            "\n",
            "\n",
            " \n",
            "\n",
            "\n",
            "\n",
            "\n",
            "質問 2: 記載されている国の中で、最も高い「相互関税」が課されているのはどの国ですか？またその税率は何%ですか？\n",
            "回答:\n",
            "申し訳ありませんが、私はリアルタイムの情報にアクセスできません。そのため、現在の相互関税の税率や国を特定することはできません。\n",
            "\n",
            "相互関税に関する最新の情報を取得するには、以下の機関をご確認ください。\n",
            "\n",
            "* **国際機関:**\n",
            "    * 世界貿易機関 (WTO): https://www.wto.org/\n",
            "    * 国際通貨基金 (IMF): https://www.imf.org/\n",
            "* **政府機関:**\n",
            "    * 各国の税務当局\n",
            "    * 各国の貿易省\n",
            "\n",
            "\n",
            " \n",
            "\n",
            "\n",
            "\n",
            "\n",
            "質問 3: 「相互関税」が10%とされている国はどこですか？\n",
            "回答:\n",
            "相互関税が10%とされている国は、**特定の国々**です。 \n",
            "\n",
            "**具体的な国名**を挙げると、**正確な情報を得ることが難しい**場合があります。\n",
            "\n",
            "**なぜなら**\n",
            "\n",
            "* **相互関税の適用状況は常に変化する**\n",
            "* **複数の国が相互関税を適用する場合もある**\n",
            "\n",
            "\n",
            "\n",
            " \n",
            " \n",
            "\n",
            "\n",
            "\n",
            "\n",
            "質問 4: このデータの時点は何時ですか？\n",
            "回答:\n",
            "すみません、データの時点を教えていただけますか？ \n",
            "\n",
            "\n",
            " \n",
            "\n",
            "\n",
            "\n",
            "\n",
            "質問 5: 第二次トランプ政権で導入が検討されているとされる「普遍的な基礎関税」とは、どのような構想ですか？\n",
            "回答:\n",
            "##  第二次トランプ政権で導入が検討されていた「普遍的な基礎関税」とは？\n",
            "\n",
            "「普遍的な基礎関税」は、トランプ政権において、**関税の導入を検討**していた政策の一環です。 \n",
            "\n",
            "**基本的な構想**\n",
            "\n",
            "* **消費税の導入**:  消費税を導入し、国民の消費活動に税金を課す。\n",
            "* **公平性と透明性**:  税収の公平性と透明性を確保し、国民の理解を得る。\n",
            "* **経済活性化**:  経済活動の活性化と雇用創出を促進する。\n",
            "* **税制の簡素化**:  複雑な税制を簡素化し、国民の税務負担を軽減する。\n",
            "\n",
            "**具体的な内容**\n",
            "\n",
            "* **税率**:  具体的な税率は検討中でしたが、一般的に**消費税の導入**を想定していました。\n",
            "* **対象**:  国民の消費活動全体を対象とする。\n",
            "* **徴収**:  税収の管理と分配を明確にする。\n",
            "\n",
            "**課題と批判**\n",
            "\n",
            "* **国民への影響**:  国民の生活費や経済状況への影響を考慮する必要がある。\n",
            "* **税制の複雑化**:  複雑な税制の導入は、国民の理解と税務負担の増加を招く可能性がある。\n",
            "* **政治的課題**:  政治的影響力や反対意見を考慮する必要がある。\n",
            "\n",
            "**現在の状況**\n",
            "\n",
            "* **実現**:  トランプ政権の終了後、実現は困難です。\n",
            "* **代替案**:  消費税の導入は、他の税制改革や税制制度の改善と組み合わせる可能性があります。\n",
            "\n",
            "\n",
            "\n",
            "**補足**\n",
            "\n",
            "*  「普遍的な基礎関税」は、トランプ政権の政策の一環として検討されましたが、具体的な計画や具体的な内容については、公開されていません。\n",
            "*  この政策は、経済政策や税制政策の複雑な側面を考慮する必要がある複雑な課題です。\n",
            "\n",
            "\n",
            "\n",
            "\n",
            "\n"
          ]
        }
      ],
      "source": [
        "# 評価用の質問リスト (表データに関する質問が中心)\n",
        "questions = [\n",
        "    \"日本に課される「相互関税」の税率は何%ですか？\",\n",
        "    \"記載されている国の中で、最も高い「相互関税」が課されているのはどの国ですか？またその税率は何%ですか？\",\n",
        "    \"「相互関税」が10%とされている国はどこですか？\",\n",
        "    \"このデータの時点は何時ですか？\",\n",
        "    \"第二次トランプ政権で導入が検討されているとされる「普遍的な基礎関税」とは、どのような構想ですか？\" # 表データにはないが、比較のために残す\n",
        "]\n",
        "\n",
        "# ベースライン回答を格納する辞書\n",
        "baseline_responses = {}\n",
        "\n",
        "print(\"--- ベースラインモデルによる回答生成 (RAGなし) ---\")\n",
        "for i, question in enumerate(questions):\n",
        "    print(f\"\\n質問 {i+1}: {question}\")\n",
        "    try:\n",
        "        # 表データに関する質問であることを明示的に伝えるプロンプトは使用しない\n",
        "        # LLMの一般的な知識で回答できるかを確認\n",
        "        response = generate_output(question, model, tokenizer)\n",
        "        baseline_responses[question] = response\n",
        "        print(f\"回答:\\n{response}\")\n",
        "    except Exception as e:\n",
        "        print(f\"回答生成中にエラーが発生しました: {e}\")\n",
        "        baseline_responses[question] = f\"エラー: {e}\"\n",
        "# 評価用の質問リスト (表データに関する質問が中心)\n",
        "questions = [\n",
        "    \"日本に課される「相互関税」の税率は何%ですか？\",\n",
        "    \"記載されている国の中で、最も高い「相互関税」が課されているのはどの国ですか？またその税率は何%ですか？\",\n",
        "    \"「相互関税」が10%とされている国はどこですか？\",\n",
        "    \"このデータの時点は何時ですか？\",\n",
        "    \"第二次トランプ政権で導入が検討されているとされる「普遍的な基礎関税」とは、どのような構想ですか？\" # 表データにはないが、比較のために残す\n",
        "]\n"
      ]
    },
    {
      "cell_type": "code",
      "execution_count": null,
      "metadata": {
        "colab": {
          "base_uri": "https://localhost:8080/"
        },
        "id": "KUVK5QmpCkDa",
        "outputId": "66e1fc6a-8628-4b8f-d472-93657a583012"
      },
      "outputs": [
        {
          "name": "stdout",
          "output_type": "stream",
          "text": [
            "\n",
            "--- ベースライン回答の評価 ---\n",
            "\n",
            "質問: 日本に課される「相互関税」の税率は何%ですか？\n",
            "評価スコア: 0\n",
            "\n",
            "質問: 記載されている国の中で、最も高い「相互関税」が課されているのはどの国ですか？またその税率は何%ですか？\n",
            "評価スコア: 0\n",
            "\n",
            "質問: 「相互関税」が10%とされている国はどこですか？\n",
            "評価スコア: 0\n",
            "\n",
            "質問: このデータの時点は何時ですか？\n",
            "評価スコア: 0\n",
            "\n",
            "質問: 第二次トランプ政権で導入が検討されているとされる「普遍的な基礎関税」とは、どのような構想ですか？\n",
            "評価スコア: 0\n"
          ]
        }
      ],
      "source": [
        "# # ベースライン回答の評価 (OpenAI APIキーが必要です)\n",
        "print(\"\\n--- ベースライン回答の評価 ---\")\n",
        "if client is not None and gold_answers:\n",
        "    baseline_scores = {}\n",
        "    for question in questions:\n",
        "        if question in gold_answers and question in baseline_responses:\n",
        "            print(f\"\\n質問: {question}\")\n",
        "            score = evaluate_answer_accuracy(question, baseline_responses[question], gold_answers[question])\n",
        "            baseline_scores[question] = score\n",
        "            print(f\"評価スコア: {score}\")\n",
        "        else:\n",
        "            print(f\"\\n質問 '{question}' のゴールドアンサーまたはベースライン回答が見つかりません。評価をスキップします。\")\n",
        "else:\n",
        "    print(\"\\nOpenAIクライアントが初期化されていないか、ゴールドアンサーが定義されていません。ベースライン評価はスキップされます。\")"
      ]
    },
    {
      "cell_type": "markdown",
      "metadata": {
        "id": "PRbESiokBy8U"
      },
      "source": [
        "## 4. RAGを組み合わせた回答生成と評価\n",
        "RAGを用いて関連情報（表データ）を取得し、その情報をLLMへの入力として組み込んで回答を生成・評価します。"
      ]
    },
    {
      "cell_type": "code",
      "execution_count": null,
      "metadata": {
        "colab": {
          "base_uri": "https://localhost:8080/"
        },
        "id": "PAKitCz8B1VV",
        "outputId": "8783c4b6-10e2-4847-d002-55af8552449a"
      },
      "outputs": [
        {
          "name": "stdout",
          "output_type": "stream",
          "text": [
            "\n",
            "--- RAGを組み合わせた回答生成 ---\n",
            "\n",
            "質問 1: 日本に課される「相互関税」の税率は何%ですか？\n",
            "取得したドキュメント数: 2\n",
            "回答:\n",
            "日本に課される「相互関税」の税率は24%です。\n",
            "\n",
            "\n",
            "\n",
            "\n",
            "質問 2: 記載されている国の中で、最も高い「相互関税」が課されているのはどの国ですか？またその税率は何%ですか？\n",
            "取得したドキュメント数: 2\n",
            "回答:\n",
            "最も高い「相互関税」が課されている国は **シリア** です。税率は **41%** です。 \n",
            "\n",
            "\n",
            "\n",
            "\n",
            "\n",
            "質問 3: 「相互関税」が10%とされている国はどこですか？\n",
            "取得したドキュメント数: 2\n",
            "回答:\n",
            "「相互関税」が10%とされている国は、**すべての国と地域**です。 \n",
            "\n",
            "\n",
            "\n",
            "\n",
            "\n",
            "質問 4: このデータの時点は何時ですか？\n",
            "取得したドキュメント数: 2\n",
            "回答:\n",
            "このデータの時点は2025年4月2日です。\n",
            "\n",
            "\n",
            "\n",
            "\n",
            "質問 5: 第二次トランプ政権で導入が検討されているとされる「普遍的な基礎関税」とは、どのような構想ですか？\n",
            "取得したドキュメント数: 2\n",
            "回答:\n",
            "参考情報には「普遍的な基礎関税」に関する情報は含まれていません。\n",
            "\n",
            "\n",
            " \n",
            "\n",
            "\n",
            "\n"
          ]
        }
      ],
      "source": [
        "# RAG回答を格納する辞書\n",
        "rag_responses = {}\n",
        "\n",
        "print(\"\\n--- RAGを組み合わせた回答生成 ---\")\n",
        "if retriever is not None and model is not None and tokenizer is not None:\n",
        "    for i, question in enumerate(questions):\n",
        "        print(f\"\\n質問 {i+1}: {question}\")\n",
        "        try:\n",
        "            # RAGによる関連ドキュメント（表データチャンク）の取得\n",
        "            # retrieverはベクトルストアから関連性の高いチャンクを取得します\n",
        "            retrieved_docs = retriever.invoke(question)\n",
        "            print(f\"取得したドキュメント数: {len(retrieved_docs)}\")\n",
        "            # 取得したドキュメントの内容を表示 (確認用)\n",
        "            # for j, doc in enumerate(retrieved_docs):\n",
        "            #     print(f\"--- 取得ドキュメント {j+1} ---\")\n",
        "            #     print(doc.page_content)\n",
        "            #     print(\"-------------------------\")\n",
        "\n",
        "\n",
        "            # プロンプトの構築\n",
        "            # 取得したドキュメント（表データチャンク）をコンテキストとしてプロンプトに含める\n",
        "            context = \"\\n\\n\".join([doc.page_content for doc in retrieved_docs])\n",
        "            # 質問自体に「表1によると」という記述は含めないが、RAGのプロンプトで表データであることを明示する\n",
        "            rag_prompt = f\"\"\"以下の参考情報を考慮して、質問に回答してください。参考情報はWikipediaの表データです。\n",
        "\n",
        "[参考情報（表データ）]\n",
        "{context}\n",
        "\n",
        "[質問]\n",
        "{question}\n",
        "\"\"\"\n",
        "            # RAGプロンプトで回答生成\n",
        "            response = generate_output(rag_prompt, model, tokenizer)\n",
        "            rag_responses[question] = response\n",
        "            print(f\"回答:\\n{response}\")\n",
        "\n",
        "        except Exception as e:\n",
        "            print(f\"RAG回答生成中にエラーが発生しました: {e}\")\n",
        "            rag_responses[question] = f\"エラー: {e}\"\n",
        "else:\n",
        "    print(\"リトリーバーまたはモデルが正しく初期化されていないため、RAG回答生成はスキップされます。\")\n",
        "\n"
      ]
    },
    {
      "cell_type": "code",
      "execution_count": null,
      "metadata": {
        "colab": {
          "base_uri": "https://localhost:8080/"
        },
        "id": "MJ8TcZcvCwjq",
        "outputId": "0a09f179-8753-4f5f-f763-5bb0f5060c35"
      },
      "outputs": [
        {
          "name": "stdout",
          "output_type": "stream",
          "text": [
            "\n",
            "--- RAG回答の評価 ---\n",
            "\n",
            "質問: 日本に課される「相互関税」の税率は何%ですか？\n",
            "評価スコア: 4\n",
            "\n",
            "質問: 記載されている国の中で、最も高い「相互関税」が課されているのはどの国ですか？またその税率は何%ですか？\n",
            "評価スコア: 0\n",
            "\n",
            "質問: 「相互関税」が10%とされている国はどこですか？\n",
            "評価スコア: 4\n",
            "\n",
            "質問: このデータの時点は何時ですか？\n",
            "評価スコア: 2\n",
            "\n",
            "質問: 第二次トランプ政権で導入が検討されているとされる「普遍的な基礎関税」とは、どのような構想ですか？\n",
            "評価スコア: 0\n"
          ]
        }
      ],
      "source": [
        "# # RAG回答の評価 (OpenAI APIキーが必要です)\n",
        "print(\"\\n--- RAG回答の評価 ---\")\n",
        "if client is not None and gold_answers:\n",
        "    rag_scores = {}\n",
        "    for question in questions:\n",
        "        if question in gold_answers and question in rag_responses:\n",
        "            print(f\"\\n質問: {question}\")\n",
        "            score = evaluate_answer_accuracy(question, rag_responses[question], gold_answers[question])\n",
        "            rag_scores[question] = score\n",
        "            print(f\"評価スコア: {score}\")\n",
        "        else:\n",
        "            print(f\"\\n質問 '{question}' のゴールドアンサーまたはRAG回答が見つかりません。評価をスキップします。\")\n",
        "else:\n",
        "    print(\"\\nOpenAIクライアントが初期化されていないか、ゴールドアンサーが定義されていません。RAG評価はスキップされます。\")"
      ]
    }
  ],
  "metadata": {
    "accelerator": "GPU",
    "colab": {
      "gpuType": "T4",
      "provenance": [],
      "authorship_tag": "ABX9TyP3pFUv1rQ9/V7rjivK+tOR",
      "include_colab_link": true
    },
    "kernelspec": {
      "display_name": "Python 3",
      "name": "python3"
    },
    "language_info": {
      "name": "python"
    }
  },
  "nbformat": 4,
  "nbformat_minor": 0
}
