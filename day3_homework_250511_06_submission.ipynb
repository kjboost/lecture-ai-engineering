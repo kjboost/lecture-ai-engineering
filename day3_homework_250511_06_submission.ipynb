{
  "cells": [
    {
      "cell_type": "markdown",
      "metadata": {
        "id": "view-in-github",
        "colab_type": "text"
      },
      "source": [
        "<a href=\"https://colab.research.google.com/github/kjboost/lecture-ai-engineering/blob/master/day3_homework_250511_06_submission.ipynb\" target=\"_parent\"><img src=\"https://colab.research.google.com/assets/colab-badge.svg\" alt=\"Open In Colab\"/></a>"
      ]
    },
    {
      "cell_type": "markdown",
      "metadata": {
        "id": "lWDvEX_S6ia8"
      },
      "source": [
        "# 第二次トランプ政権の関税（表データ）に関するRAGの効果検証\n",
        "\n",
        "このノートブックでは、Wikipediaの「第二次トランプ政権の関税」ページに含まれる特定の表データ（「表. 国別の「相互関税」の一覧（2025年4月2日時点）」）を用いて、Retrieval Augmented Generation (RAG) がLLMの回答精度に与える効果を検証します。特に、表データに含まれる具体的な数値情報（日本への関税率24%）について、LLMが単体では回答できないことを想定し、RAGによる情報提供の効果を確認します。\n",
        "\n",
        "使用モデル: google/gemma-2-2b-jpn-it\n",
        "参照資料: Wikipedia「第二次トランプ政権の関税」ページ中の「表.国別の「相互関税」の一覧（2025年4月2日時点）」\n",
        "\n",
        "## 演習の方針\n",
        "\n",
        "1.  **環境準備:** 必要なライブラリのインストールとモデルのロードを行います。\n",
        "2.  **参照資料の準備:** Wikipediaページから特定の表データを取得し、RAGに使用できる形式に処理します。\n",
        "3.  **ベースラインモデル評価:** 参照資料なしでLLMに質問し、回答を生成・評価します。\n",
        "4.  **RAG実装と評価:** 参照資料（表データ）を組み込んだRAGでLLMに質問し、回答を生成・評価します。\n",
        "5.  **結果分析と考察:** ベースラインとRAGありの回答を比較し、RAGの効果について考察します。\n",
        "\n",
        "## 扱う質問と参照資料\n",
        "\n",
        "以下の質問と、Wikipedia記事中の「表.国別の「相互関税」の一覧（2025年4月2日時点）」の内容をRAGの参照資料として使用します。特に、日本への関税率に関する質問は、LLMが単体では正確に回答できないことを想定しています。\n",
        "\n",
        "参照元記事：[\"https://ja.wikipedia.org/wiki/%E7%AC%AC2%E6%AC%A1%E3%83%88%E3%83%A9%E3%83%B3%E3%83%97%E6%94%BF%E6%A8%A9%E3%81%AE%E9%96%A2%E7%A8%8E#cite_note-18\"]\n",
        "RAG参照資料：上記記事中の「表. 国別の「相互関税」の一覧（2025年4月2日時点）」のデータ\n",
        "\n",
        "**質問リスト:**\n",
        "1.  日本に課される「相互関税」の税率は何%ですか？\n",
        "2.  記載されている国の中で、最も高い「相互関税」が課されているのはどの国ですか？またその税率は何%ですか？\n",
        "3.  「相互関税」が10%とされている国はどこですか？\n",
        "4.  このデータの時点は何時ですか？\n",
        "5.  第二次トランプ政権で導入が検討されているとされる「普遍的な基礎関税」とは、どのような構想ですか？（※この質問に対するRAGは、表データのみを基に行われるため、適切な回答が得られない可能性があります。これはRAGの限界を示す例となります。）\n",
        "\n",
        "**RAG参照資料の概要（表1のデータそのものを使用）:**\n",
        "RAGでは、Wikipediaから抽出した「表. 国別の「相互関税」の一覧（2025年4月2日時点）」のテキストデータをそのまま参照情報として使用します。LLMはこの表データをコンテキストとして受け取り、質問に回答します。"
      ]
    },
    {
      "cell_type": "markdown",
      "metadata": {
        "id": "3UcHSm_r61oU"
      },
      "source": [
        "## 演習環境の準備\n",
        "必要なライブラリをインストールします。`pandas`は表の読み込みに使用します。"
      ]
    },
    {
      "cell_type": "code",
      "execution_count": null,
      "metadata": {
        "colab": {
          "base_uri": "https://localhost:8080/"
        },
        "id": "kK5Ggehp7ABx",
        "outputId": "ad2cb567-2f66-403a-ad50-2435f4d49414"
      },
      "outputs": [
        {
          "name": "stdout",
          "output_type": "stream",
          "text": [
            "Requirement already satisfied: transformers in /usr/local/lib/python3.11/dist-packages (4.51.3)\n",
            "Requirement already satisfied: filelock in /usr/local/lib/python3.11/dist-packages (from transformers) (3.18.0)\n",
            "Requirement already satisfied: huggingface-hub<1.0,>=0.30.0 in /usr/local/lib/python3.11/dist-packages (from transformers) (0.30.2)\n",
            "Requirement already satisfied: numpy>=1.17 in /usr/local/lib/python3.11/dist-packages (from transformers) (2.0.2)\n",
            "Requirement already satisfied: packaging>=20.0 in /usr/local/lib/python3.11/dist-packages (from transformers) (24.2)\n",
            "Requirement already satisfied: pyyaml>=5.1 in /usr/local/lib/python3.11/dist-packages (from transformers) (6.0.2)\n",
            "Requirement already satisfied: regex!=2019.12.17 in /usr/local/lib/python3.11/dist-packages (from transformers) (2024.11.6)\n",
            "Requirement already satisfied: requests in /usr/local/lib/python3.11/dist-packages (from transformers) (2.32.3)\n",
            "Requirement already satisfied: tokenizers<0.22,>=0.21 in /usr/local/lib/python3.11/dist-packages (from transformers) (0.21.1)\n",
            "Requirement already satisfied: safetensors>=0.4.3 in /usr/local/lib/python3.11/dist-packages (from transformers) (0.5.3)\n",
            "Requirement already satisfied: tqdm>=4.27 in /usr/local/lib/python3.11/dist-packages (from transformers) (4.67.1)\n",
            "Requirement already satisfied: fsspec>=2023.5.0 in /usr/local/lib/python3.11/dist-packages (from huggingface-hub<1.0,>=0.30.0->transformers) (2025.3.2)\n",
            "Requirement already satisfied: typing-extensions>=3.7.4.3 in /usr/local/lib/python3.11/dist-packages (from huggingface-hub<1.0,>=0.30.0->transformers) (4.13.2)\n",
            "Requirement already satisfied: charset-normalizer<4,>=2 in /usr/local/lib/python3.11/dist-packages (from requests->transformers) (3.4.1)\n",
            "Requirement already satisfied: idna<4,>=2.5 in /usr/local/lib/python3.11/dist-packages (from requests->transformers) (3.10)\n",
            "Requirement already satisfied: urllib3<3,>=1.21.1 in /usr/local/lib/python3.11/dist-packages (from requests->transformers) (2.4.0)\n",
            "Requirement already satisfied: certifi>=2017.4.17 in /usr/local/lib/python3.11/dist-packages (from requests->transformers) (2025.4.26)\n",
            "Requirement already satisfied: bitsandbytes in /usr/local/lib/python3.11/dist-packages (0.45.5)\n",
            "Requirement already satisfied: accelerate in /usr/local/lib/python3.11/dist-packages (1.6.0)\n",
            "Requirement already satisfied: torch<3,>=2.0 in /usr/local/lib/python3.11/dist-packages (from bitsandbytes) (2.6.0+cu124)\n",
            "Requirement already satisfied: numpy>=1.17 in /usr/local/lib/python3.11/dist-packages (from bitsandbytes) (2.0.2)\n",
            "Requirement already satisfied: packaging>=20.0 in /usr/local/lib/python3.11/dist-packages (from accelerate) (24.2)\n",
            "Requirement already satisfied: psutil in /usr/local/lib/python3.11/dist-packages (from accelerate) (5.9.5)\n",
            "Requirement already satisfied: pyyaml in /usr/local/lib/python3.11/dist-packages (from accelerate) (6.0.2)\n",
            "Requirement already satisfied: huggingface-hub>=0.21.0 in /usr/local/lib/python3.11/dist-packages (from accelerate) (0.30.2)\n",
            "Requirement already satisfied: safetensors>=0.4.3 in /usr/local/lib/python3.11/dist-packages (from accelerate) (0.5.3)\n",
            "Requirement already satisfied: filelock in /usr/local/lib/python3.11/dist-packages (from huggingface-hub>=0.21.0->accelerate) (3.18.0)\n",
            "Requirement already satisfied: fsspec>=2023.5.0 in /usr/local/lib/python3.11/dist-packages (from huggingface-hub>=0.21.0->accelerate) (2025.3.2)\n",
            "Requirement already satisfied: requests in /usr/local/lib/python3.11/dist-packages (from huggingface-hub>=0.21.0->accelerate) (2.32.3)\n",
            "Requirement already satisfied: tqdm>=4.42.1 in /usr/local/lib/python3.11/dist-packages (from huggingface-hub>=0.21.0->accelerate) (4.67.1)\n",
            "Requirement already satisfied: typing-extensions>=3.7.4.3 in /usr/local/lib/python3.11/dist-packages (from huggingface-hub>=0.21.0->accelerate) (4.13.2)\n",
            "Requirement already satisfied: networkx in /usr/local/lib/python3.11/dist-packages (from torch<3,>=2.0->bitsandbytes) (3.4.2)\n",
            "Requirement already satisfied: jinja2 in /usr/local/lib/python3.11/dist-packages (from torch<3,>=2.0->bitsandbytes) (3.1.6)\n",
            "Requirement already satisfied: nvidia-cuda-nvrtc-cu12==12.4.127 in /usr/local/lib/python3.11/dist-packages (from torch<3,>=2.0->bitsandbytes) (12.4.127)\n",
            "Requirement already satisfied: nvidia-cuda-runtime-cu12==12.4.127 in /usr/local/lib/python3.11/dist-packages (from torch<3,>=2.0->bitsandbytes) (12.4.127)\n",
            "Requirement already satisfied: nvidia-cuda-cupti-cu12==12.4.127 in /usr/local/lib/python3.11/dist-packages (from torch<3,>=2.0->bitsandbytes) (12.4.127)\n",
            "Requirement already satisfied: nvidia-cudnn-cu12==9.1.0.70 in /usr/local/lib/python3.11/dist-packages (from torch<3,>=2.0->bitsandbytes) (9.1.0.70)\n",
            "Requirement already satisfied: nvidia-cublas-cu12==12.4.5.8 in /usr/local/lib/python3.11/dist-packages (from torch<3,>=2.0->bitsandbytes) (12.4.5.8)\n",
            "Requirement already satisfied: nvidia-cufft-cu12==11.2.1.3 in /usr/local/lib/python3.11/dist-packages (from torch<3,>=2.0->bitsandbytes) (11.2.1.3)\n",
            "Requirement already satisfied: nvidia-curand-cu12==10.3.5.147 in /usr/local/lib/python3.11/dist-packages (from torch<3,>=2.0->bitsandbytes) (10.3.5.147)\n",
            "Requirement already satisfied: nvidia-cusolver-cu12==11.6.1.9 in /usr/local/lib/python3.11/dist-packages (from torch<3,>=2.0->bitsandbytes) (11.6.1.9)\n",
            "Requirement already satisfied: nvidia-cusparse-cu12==12.3.1.170 in /usr/local/lib/python3.11/dist-packages (from torch<3,>=2.0->bitsandbytes) (12.3.1.170)\n",
            "Requirement already satisfied: nvidia-cusparselt-cu12==0.6.2 in /usr/local/lib/python3.11/dist-packages (from torch<3,>=2.0->bitsandbytes) (0.6.2)\n",
            "Requirement already satisfied: nvidia-nccl-cu12==2.21.5 in /usr/local/lib/python3.11/dist-packages (from torch<3,>=2.0->bitsandbytes) (2.21.5)\n",
            "Requirement already satisfied: nvidia-nvtx-cu12==12.4.127 in /usr/local/lib/python3.11/dist-packages (from torch<3,>=2.0->bitsandbytes) (12.4.127)\n",
            "Requirement already satisfied: nvidia-nvjitlink-cu12==12.4.127 in /usr/local/lib/python3.11/dist-packages (from torch<3,>=2.0->bitsandbytes) (12.4.127)\n",
            "Requirement already satisfied: triton==3.2.0 in /usr/local/lib/python3.11/dist-packages (from torch<3,>=2.0->bitsandbytes) (3.2.0)\n",
            "Requirement already satisfied: sympy==1.13.1 in /usr/local/lib/python3.11/dist-packages (from torch<3,>=2.0->bitsandbytes) (1.13.1)\n",
            "Requirement already satisfied: mpmath<1.4,>=1.1.0 in /usr/local/lib/python3.11/dist-packages (from sympy==1.13.1->torch<3,>=2.0->bitsandbytes) (1.3.0)\n",
            "Requirement already satisfied: MarkupSafe>=2.0 in /usr/local/lib/python3.11/dist-packages (from jinja2->torch<3,>=2.0->bitsandbytes) (3.0.2)\n",
            "Requirement already satisfied: charset-normalizer<4,>=2 in /usr/local/lib/python3.11/dist-packages (from requests->huggingface-hub>=0.21.0->accelerate) (3.4.1)\n",
            "Requirement already satisfied: idna<4,>=2.5 in /usr/local/lib/python3.11/dist-packages (from requests->huggingface-hub>=0.21.0->accelerate) (3.10)\n",
            "Requirement already satisfied: urllib3<3,>=1.21.1 in /usr/local/lib/python3.11/dist-packages (from requests->huggingface-hub>=0.21.0->accelerate) (2.4.0)\n",
            "Requirement already satisfied: certifi>=2017.4.17 in /usr/local/lib/python3.11/dist-packages (from requests->huggingface-hub>=0.21.0->accelerate) (2025.4.26)\n",
            "Requirement already satisfied: langchain-community in /usr/local/lib/python3.11/dist-packages (0.3.23)\n",
            "Requirement already satisfied: langchain-core<1.0.0,>=0.3.56 in /usr/local/lib/python3.11/dist-packages (from langchain-community) (0.3.56)\n",
            "Requirement already satisfied: langchain<1.0.0,>=0.3.24 in /usr/local/lib/python3.11/dist-packages (from langchain-community) (0.3.24)\n",
            "Requirement already satisfied: SQLAlchemy<3,>=1.4 in /usr/local/lib/python3.11/dist-packages (from langchain-community) (2.0.40)\n",
            "Requirement already satisfied: requests<3,>=2 in /usr/local/lib/python3.11/dist-packages (from langchain-community) (2.32.3)\n",
            "Requirement already satisfied: PyYAML>=5.3 in /usr/local/lib/python3.11/dist-packages (from langchain-community) (6.0.2)\n",
            "Requirement already satisfied: aiohttp<4.0.0,>=3.8.3 in /usr/local/lib/python3.11/dist-packages (from langchain-community) (3.11.15)\n",
            "Requirement already satisfied: tenacity!=8.4.0,<10,>=8.1.0 in /usr/local/lib/python3.11/dist-packages (from langchain-community) (9.1.2)\n",
            "Requirement already satisfied: dataclasses-json<0.7,>=0.5.7 in /usr/local/lib/python3.11/dist-packages (from langchain-community) (0.6.7)\n",
            "Requirement already satisfied: pydantic-settings<3.0.0,>=2.4.0 in /usr/local/lib/python3.11/dist-packages (from langchain-community) (2.9.1)\n",
            "Requirement already satisfied: langsmith<0.4,>=0.1.125 in /usr/local/lib/python3.11/dist-packages (from langchain-community) (0.3.39)\n",
            "Requirement already satisfied: httpx-sse<1.0.0,>=0.4.0 in /usr/local/lib/python3.11/dist-packages (from langchain-community) (0.4.0)\n",
            "Requirement already satisfied: numpy>=1.26.2 in /usr/local/lib/python3.11/dist-packages (from langchain-community) (2.0.2)\n",
            "Requirement already satisfied: aiohappyeyeballs>=2.3.0 in /usr/local/lib/python3.11/dist-packages (from aiohttp<4.0.0,>=3.8.3->langchain-community) (2.6.1)\n",
            "Requirement already satisfied: aiosignal>=1.1.2 in /usr/local/lib/python3.11/dist-packages (from aiohttp<4.0.0,>=3.8.3->langchain-community) (1.3.2)\n",
            "Requirement already satisfied: attrs>=17.3.0 in /usr/local/lib/python3.11/dist-packages (from aiohttp<4.0.0,>=3.8.3->langchain-community) (25.3.0)\n",
            "Requirement already satisfied: frozenlist>=1.1.1 in /usr/local/lib/python3.11/dist-packages (from aiohttp<4.0.0,>=3.8.3->langchain-community) (1.6.0)\n",
            "Requirement already satisfied: multidict<7.0,>=4.5 in /usr/local/lib/python3.11/dist-packages (from aiohttp<4.0.0,>=3.8.3->langchain-community) (6.4.3)\n",
            "Requirement already satisfied: propcache>=0.2.0 in /usr/local/lib/python3.11/dist-packages (from aiohttp<4.0.0,>=3.8.3->langchain-community) (0.3.1)\n",
            "Requirement already satisfied: yarl<2.0,>=1.17.0 in /usr/local/lib/python3.11/dist-packages (from aiohttp<4.0.0,>=3.8.3->langchain-community) (1.20.0)\n",
            "Requirement already satisfied: marshmallow<4.0.0,>=3.18.0 in /usr/local/lib/python3.11/dist-packages (from dataclasses-json<0.7,>=0.5.7->langchain-community) (3.26.1)\n",
            "Requirement already satisfied: typing-inspect<1,>=0.4.0 in /usr/local/lib/python3.11/dist-packages (from dataclasses-json<0.7,>=0.5.7->langchain-community) (0.9.0)\n",
            "Requirement already satisfied: langchain-text-splitters<1.0.0,>=0.3.8 in /usr/local/lib/python3.11/dist-packages (from langchain<1.0.0,>=0.3.24->langchain-community) (0.3.8)\n",
            "Requirement already satisfied: pydantic<3.0.0,>=2.7.4 in /usr/local/lib/python3.11/dist-packages (from langchain<1.0.0,>=0.3.24->langchain-community) (2.11.4)\n",
            "Requirement already satisfied: jsonpatch<2.0,>=1.33 in /usr/local/lib/python3.11/dist-packages (from langchain-core<1.0.0,>=0.3.56->langchain-community) (1.33)\n",
            "Requirement already satisfied: packaging<25,>=23.2 in /usr/local/lib/python3.11/dist-packages (from langchain-core<1.0.0,>=0.3.56->langchain-community) (24.2)\n",
            "Requirement already satisfied: typing-extensions>=4.7 in /usr/local/lib/python3.11/dist-packages (from langchain-core<1.0.0,>=0.3.56->langchain-community) (4.13.2)\n",
            "Requirement already satisfied: httpx<1,>=0.23.0 in /usr/local/lib/python3.11/dist-packages (from langsmith<0.4,>=0.1.125->langchain-community) (0.28.1)\n",
            "Requirement already satisfied: orjson<4.0.0,>=3.9.14 in /usr/local/lib/python3.11/dist-packages (from langsmith<0.4,>=0.1.125->langchain-community) (3.10.18)\n",
            "Requirement already satisfied: requests-toolbelt<2.0.0,>=1.0.0 in /usr/local/lib/python3.11/dist-packages (from langsmith<0.4,>=0.1.125->langchain-community) (1.0.0)\n",
            "Requirement already satisfied: zstandard<0.24.0,>=0.23.0 in /usr/local/lib/python3.11/dist-packages (from langsmith<0.4,>=0.1.125->langchain-community) (0.23.0)\n",
            "Requirement already satisfied: python-dotenv>=0.21.0 in /usr/local/lib/python3.11/dist-packages (from pydantic-settings<3.0.0,>=2.4.0->langchain-community) (1.1.0)\n",
            "Requirement already satisfied: typing-inspection>=0.4.0 in /usr/local/lib/python3.11/dist-packages (from pydantic-settings<3.0.0,>=2.4.0->langchain-community) (0.4.0)\n",
            "Requirement already satisfied: charset-normalizer<4,>=2 in /usr/local/lib/python3.11/dist-packages (from requests<3,>=2->langchain-community) (3.4.1)\n",
            "Requirement already satisfied: idna<4,>=2.5 in /usr/local/lib/python3.11/dist-packages (from requests<3,>=2->langchain-community) (3.10)\n",
            "Requirement already satisfied: urllib3<3,>=1.21.1 in /usr/local/lib/python3.11/dist-packages (from requests<3,>=2->langchain-community) (2.4.0)\n",
            "Requirement already satisfied: certifi>=2017.4.17 in /usr/local/lib/python3.11/dist-packages (from requests<3,>=2->langchain-community) (2025.4.26)\n",
            "Requirement already satisfied: greenlet>=1 in /usr/local/lib/python3.11/dist-packages (from SQLAlchemy<3,>=1.4->langchain-community) (3.2.1)\n",
            "Requirement already satisfied: anyio in /usr/local/lib/python3.11/dist-packages (from httpx<1,>=0.23.0->langsmith<0.4,>=0.1.125->langchain-community) (4.9.0)\n",
            "Requirement already satisfied: httpcore==1.* in /usr/local/lib/python3.11/dist-packages (from httpx<1,>=0.23.0->langsmith<0.4,>=0.1.125->langchain-community) (1.0.9)\n",
            "Requirement already satisfied: h11>=0.16 in /usr/local/lib/python3.11/dist-packages (from httpcore==1.*->httpx<1,>=0.23.0->langsmith<0.4,>=0.1.125->langchain-community) (0.16.0)\n",
            "Requirement already satisfied: jsonpointer>=1.9 in /usr/local/lib/python3.11/dist-packages (from jsonpatch<2.0,>=1.33->langchain-core<1.0.0,>=0.3.56->langchain-community) (3.0.0)\n",
            "Requirement already satisfied: annotated-types>=0.6.0 in /usr/local/lib/python3.11/dist-packages (from pydantic<3.0.0,>=2.7.4->langchain<1.0.0,>=0.3.24->langchain-community) (0.7.0)\n",
            "Requirement already satisfied: pydantic-core==2.33.2 in /usr/local/lib/python3.11/dist-packages (from pydantic<3.0.0,>=2.7.4->langchain<1.0.0,>=0.3.24->langchain-community) (2.33.2)\n",
            "Requirement already satisfied: mypy-extensions>=0.3.0 in /usr/local/lib/python3.11/dist-packages (from typing-inspect<1,>=0.4.0->dataclasses-json<0.7,>=0.5.7->langchain-community) (1.1.0)\n",
            "Requirement already satisfied: sniffio>=1.1 in /usr/local/lib/python3.11/dist-packages (from anyio->httpx<1,>=0.23.0->langsmith<0.4,>=0.1.125->langchain-community) (1.3.1)\n",
            "Requirement already satisfied: chromadb in /usr/local/lib/python3.11/dist-packages (1.0.8)\n",
            "Requirement already satisfied: build>=1.0.3 in /usr/local/lib/python3.11/dist-packages (from chromadb) (1.2.2.post1)\n",
            "Requirement already satisfied: pydantic>=1.9 in /usr/local/lib/python3.11/dist-packages (from chromadb) (2.11.4)\n",
            "Requirement already satisfied: fastapi==0.115.9 in /usr/local/lib/python3.11/dist-packages (from chromadb) (0.115.9)\n",
            "Requirement already satisfied: uvicorn>=0.18.3 in /usr/local/lib/python3.11/dist-packages (from uvicorn[standard]>=0.18.3->chromadb) (0.34.2)\n",
            "Requirement already satisfied: numpy>=1.22.5 in /usr/local/lib/python3.11/dist-packages (from chromadb) (2.0.2)\n",
            "Requirement already satisfied: posthog>=2.4.0 in /usr/local/lib/python3.11/dist-packages (from chromadb) (4.0.1)\n",
            "Requirement already satisfied: typing-extensions>=4.5.0 in /usr/local/lib/python3.11/dist-packages (from chromadb) (4.13.2)\n",
            "Requirement already satisfied: onnxruntime>=1.14.1 in /usr/local/lib/python3.11/dist-packages (from chromadb) (1.22.0)\n",
            "Requirement already satisfied: opentelemetry-api>=1.2.0 in /usr/local/lib/python3.11/dist-packages (from chromadb) (1.33.0)\n",
            "Requirement already satisfied: opentelemetry-exporter-otlp-proto-grpc>=1.2.0 in /usr/local/lib/python3.11/dist-packages (from chromadb) (1.33.0)\n",
            "Requirement already satisfied: opentelemetry-instrumentation-fastapi>=0.41b0 in /usr/local/lib/python3.11/dist-packages (from chromadb) (0.54b0)\n",
            "Requirement already satisfied: opentelemetry-sdk>=1.2.0 in /usr/local/lib/python3.11/dist-packages (from chromadb) (1.33.0)\n",
            "Requirement already satisfied: tokenizers>=0.13.2 in /usr/local/lib/python3.11/dist-packages (from chromadb) (0.21.1)\n",
            "Requirement already satisfied: pypika>=0.48.9 in /usr/local/lib/python3.11/dist-packages (from chromadb) (0.48.9)\n",
            "Requirement already satisfied: tqdm>=4.65.0 in /usr/local/lib/python3.11/dist-packages (from chromadb) (4.67.1)\n",
            "Requirement already satisfied: overrides>=7.3.1 in /usr/local/lib/python3.11/dist-packages (from chromadb) (7.7.0)\n",
            "Requirement already satisfied: importlib-resources in /usr/local/lib/python3.11/dist-packages (from chromadb) (6.5.2)\n",
            "Requirement already satisfied: grpcio>=1.58.0 in /usr/local/lib/python3.11/dist-packages (from chromadb) (1.71.0)\n",
            "Requirement already satisfied: bcrypt>=4.0.1 in /usr/local/lib/python3.11/dist-packages (from chromadb) (4.3.0)\n",
            "Requirement already satisfied: typer>=0.9.0 in /usr/local/lib/python3.11/dist-packages (from chromadb) (0.15.3)\n",
            "Requirement already satisfied: kubernetes>=28.1.0 in /usr/local/lib/python3.11/dist-packages (from chromadb) (32.0.1)\n",
            "Requirement already satisfied: tenacity>=8.2.3 in /usr/local/lib/python3.11/dist-packages (from chromadb) (9.1.2)\n",
            "Requirement already satisfied: pyyaml>=6.0.0 in /usr/local/lib/python3.11/dist-packages (from chromadb) (6.0.2)\n",
            "Requirement already satisfied: mmh3>=4.0.1 in /usr/local/lib/python3.11/dist-packages (from chromadb) (5.1.0)\n",
            "Requirement already satisfied: orjson>=3.9.12 in /usr/local/lib/python3.11/dist-packages (from chromadb) (3.10.18)\n",
            "Requirement already satisfied: httpx>=0.27.0 in /usr/local/lib/python3.11/dist-packages (from chromadb) (0.28.1)\n",
            "Requirement already satisfied: rich>=10.11.0 in /usr/local/lib/python3.11/dist-packages (from chromadb) (13.9.4)\n",
            "Requirement already satisfied: jsonschema>=4.19.0 in /usr/local/lib/python3.11/dist-packages (from chromadb) (4.23.0)\n",
            "Requirement already satisfied: starlette<0.46.0,>=0.40.0 in /usr/local/lib/python3.11/dist-packages (from fastapi==0.115.9->chromadb) (0.45.3)\n",
            "Requirement already satisfied: packaging>=19.1 in /usr/local/lib/python3.11/dist-packages (from build>=1.0.3->chromadb) (24.2)\n",
            "Requirement already satisfied: pyproject_hooks in /usr/local/lib/python3.11/dist-packages (from build>=1.0.3->chromadb) (1.2.0)\n",
            "Requirement already satisfied: anyio in /usr/local/lib/python3.11/dist-packages (from httpx>=0.27.0->chromadb) (4.9.0)\n",
            "Requirement already satisfied: certifi in /usr/local/lib/python3.11/dist-packages (from httpx>=0.27.0->chromadb) (2025.4.26)\n",
            "Requirement already satisfied: httpcore==1.* in /usr/local/lib/python3.11/dist-packages (from httpx>=0.27.0->chromadb) (1.0.9)\n",
            "Requirement already satisfied: idna in /usr/local/lib/python3.11/dist-packages (from httpx>=0.27.0->chromadb) (3.10)\n",
            "Requirement already satisfied: h11>=0.16 in /usr/local/lib/python3.11/dist-packages (from httpcore==1.*->httpx>=0.27.0->chromadb) (0.16.0)\n",
            "Requirement already satisfied: attrs>=22.2.0 in /usr/local/lib/python3.11/dist-packages (from jsonschema>=4.19.0->chromadb) (25.3.0)\n",
            "Requirement already satisfied: jsonschema-specifications>=2023.03.6 in /usr/local/lib/python3.11/dist-packages (from jsonschema>=4.19.0->chromadb) (2025.4.1)\n",
            "Requirement already satisfied: referencing>=0.28.4 in /usr/local/lib/python3.11/dist-packages (from jsonschema>=4.19.0->chromadb) (0.36.2)\n",
            "Requirement already satisfied: rpds-py>=0.7.1 in /usr/local/lib/python3.11/dist-packages (from jsonschema>=4.19.0->chromadb) (0.24.0)\n",
            "Requirement already satisfied: six>=1.9.0 in /usr/local/lib/python3.11/dist-packages (from kubernetes>=28.1.0->chromadb) (1.17.0)\n",
            "Requirement already satisfied: python-dateutil>=2.5.3 in /usr/local/lib/python3.11/dist-packages (from kubernetes>=28.1.0->chromadb) (2.9.0.post0)\n",
            "Requirement already satisfied: google-auth>=1.0.1 in /usr/local/lib/python3.11/dist-packages (from kubernetes>=28.1.0->chromadb) (2.38.0)\n",
            "Requirement already satisfied: websocket-client!=0.40.0,!=0.41.*,!=0.42.*,>=0.32.0 in /usr/local/lib/python3.11/dist-packages (from kubernetes>=28.1.0->chromadb) (1.8.0)\n",
            "Requirement already satisfied: requests in /usr/local/lib/python3.11/dist-packages (from kubernetes>=28.1.0->chromadb) (2.32.3)\n",
            "Requirement already satisfied: requests-oauthlib in /usr/local/lib/python3.11/dist-packages (from kubernetes>=28.1.0->chromadb) (2.0.0)\n",
            "Requirement already satisfied: oauthlib>=3.2.2 in /usr/local/lib/python3.11/dist-packages (from kubernetes>=28.1.0->chromadb) (3.2.2)\n",
            "Requirement already satisfied: urllib3>=1.24.2 in /usr/local/lib/python3.11/dist-packages (from kubernetes>=28.1.0->chromadb) (2.4.0)\n",
            "Requirement already satisfied: durationpy>=0.7 in /usr/local/lib/python3.11/dist-packages (from kubernetes>=28.1.0->chromadb) (0.9)\n",
            "Requirement already satisfied: coloredlogs in /usr/local/lib/python3.11/dist-packages (from onnxruntime>=1.14.1->chromadb) (15.0.1)\n",
            "Requirement already satisfied: flatbuffers in /usr/local/lib/python3.11/dist-packages (from onnxruntime>=1.14.1->chromadb) (25.2.10)\n",
            "Requirement already satisfied: protobuf in /usr/local/lib/python3.11/dist-packages (from onnxruntime>=1.14.1->chromadb) (5.29.4)\n",
            "Requirement already satisfied: sympy in /usr/local/lib/python3.11/dist-packages (from onnxruntime>=1.14.1->chromadb) (1.13.1)\n",
            "Requirement already satisfied: deprecated>=1.2.6 in /usr/local/lib/python3.11/dist-packages (from opentelemetry-api>=1.2.0->chromadb) (1.2.18)\n",
            "Requirement already satisfied: importlib-metadata<8.7.0,>=6.0 in /usr/local/lib/python3.11/dist-packages (from opentelemetry-api>=1.2.0->chromadb) (8.6.1)\n",
            "Requirement already satisfied: googleapis-common-protos~=1.52 in /usr/local/lib/python3.11/dist-packages (from opentelemetry-exporter-otlp-proto-grpc>=1.2.0->chromadb) (1.70.0)\n",
            "Requirement already satisfied: opentelemetry-exporter-otlp-proto-common==1.33.0 in /usr/local/lib/python3.11/dist-packages (from opentelemetry-exporter-otlp-proto-grpc>=1.2.0->chromadb) (1.33.0)\n",
            "Requirement already satisfied: opentelemetry-proto==1.33.0 in /usr/local/lib/python3.11/dist-packages (from opentelemetry-exporter-otlp-proto-grpc>=1.2.0->chromadb) (1.33.0)\n",
            "Requirement already satisfied: opentelemetry-instrumentation-asgi==0.54b0 in /usr/local/lib/python3.11/dist-packages (from opentelemetry-instrumentation-fastapi>=0.41b0->chromadb) (0.54b0)\n",
            "Requirement already satisfied: opentelemetry-instrumentation==0.54b0 in /usr/local/lib/python3.11/dist-packages (from opentelemetry-instrumentation-fastapi>=0.41b0->chromadb) (0.54b0)\n",
            "Requirement already satisfied: opentelemetry-semantic-conventions==0.54b0 in /usr/local/lib/python3.11/dist-packages (from opentelemetry-instrumentation-fastapi>=0.41b0->chromadb) (0.54b0)\n",
            "Requirement already satisfied: opentelemetry-util-http==0.54b0 in /usr/local/lib/python3.11/dist-packages (from opentelemetry-instrumentation-fastapi>=0.41b0->chromadb) (0.54b0)\n",
            "Requirement already satisfied: wrapt<2.0.0,>=1.0.0 in /usr/local/lib/python3.11/dist-packages (from opentelemetry-instrumentation==0.54b0->opentelemetry-instrumentation-fastapi>=0.41b0->chromadb) (1.17.2)\n",
            "Requirement already satisfied: asgiref~=3.0 in /usr/local/lib/python3.11/dist-packages (from opentelemetry-instrumentation-asgi==0.54b0->opentelemetry-instrumentation-fastapi>=0.41b0->chromadb) (3.8.1)\n",
            "Requirement already satisfied: backoff>=1.10.0 in /usr/local/lib/python3.11/dist-packages (from posthog>=2.4.0->chromadb) (2.2.1)\n",
            "Requirement already satisfied: distro>=1.5.0 in /usr/local/lib/python3.11/dist-packages (from posthog>=2.4.0->chromadb) (1.9.0)\n",
            "Requirement already satisfied: annotated-types>=0.6.0 in /usr/local/lib/python3.11/dist-packages (from pydantic>=1.9->chromadb) (0.7.0)\n",
            "Requirement already satisfied: pydantic-core==2.33.2 in /usr/local/lib/python3.11/dist-packages (from pydantic>=1.9->chromadb) (2.33.2)\n",
            "Requirement already satisfied: typing-inspection>=0.4.0 in /usr/local/lib/python3.11/dist-packages (from pydantic>=1.9->chromadb) (0.4.0)\n",
            "Requirement already satisfied: markdown-it-py>=2.2.0 in /usr/local/lib/python3.11/dist-packages (from rich>=10.11.0->chromadb) (3.0.0)\n",
            "Requirement already satisfied: pygments<3.0.0,>=2.13.0 in /usr/local/lib/python3.11/dist-packages (from rich>=10.11.0->chromadb) (2.19.1)\n",
            "Requirement already satisfied: huggingface-hub<1.0,>=0.16.4 in /usr/local/lib/python3.11/dist-packages (from tokenizers>=0.13.2->chromadb) (0.30.2)\n",
            "Requirement already satisfied: click>=8.0.0 in /usr/local/lib/python3.11/dist-packages (from typer>=0.9.0->chromadb) (8.1.8)\n",
            "Requirement already satisfied: shellingham>=1.3.0 in /usr/local/lib/python3.11/dist-packages (from typer>=0.9.0->chromadb) (1.5.4)\n",
            "Requirement already satisfied: httptools>=0.6.3 in /usr/local/lib/python3.11/dist-packages (from uvicorn[standard]>=0.18.3->chromadb) (0.6.4)\n",
            "Requirement already satisfied: python-dotenv>=0.13 in /usr/local/lib/python3.11/dist-packages (from uvicorn[standard]>=0.18.3->chromadb) (1.1.0)\n",
            "Requirement already satisfied: uvloop!=0.15.0,!=0.15.1,>=0.14.0 in /usr/local/lib/python3.11/dist-packages (from uvicorn[standard]>=0.18.3->chromadb) (0.21.0)\n",
            "Requirement already satisfied: watchfiles>=0.13 in /usr/local/lib/python3.11/dist-packages (from uvicorn[standard]>=0.18.3->chromadb) (1.0.5)\n",
            "Requirement already satisfied: websockets>=10.4 in /usr/local/lib/python3.11/dist-packages (from uvicorn[standard]>=0.18.3->chromadb) (15.0.1)\n",
            "Requirement already satisfied: cachetools<6.0,>=2.0.0 in /usr/local/lib/python3.11/dist-packages (from google-auth>=1.0.1->kubernetes>=28.1.0->chromadb) (5.5.2)\n",
            "Requirement already satisfied: pyasn1-modules>=0.2.1 in /usr/local/lib/python3.11/dist-packages (from google-auth>=1.0.1->kubernetes>=28.1.0->chromadb) (0.4.2)\n",
            "Requirement already satisfied: rsa<5,>=3.1.4 in /usr/local/lib/python3.11/dist-packages (from google-auth>=1.0.1->kubernetes>=28.1.0->chromadb) (4.9.1)\n",
            "Requirement already satisfied: filelock in /usr/local/lib/python3.11/dist-packages (from huggingface-hub<1.0,>=0.16.4->tokenizers>=0.13.2->chromadb) (3.18.0)\n",
            "Requirement already satisfied: fsspec>=2023.5.0 in /usr/local/lib/python3.11/dist-packages (from huggingface-hub<1.0,>=0.16.4->tokenizers>=0.13.2->chromadb) (2025.3.2)\n",
            "Requirement already satisfied: zipp>=3.20 in /usr/local/lib/python3.11/dist-packages (from importlib-metadata<8.7.0,>=6.0->opentelemetry-api>=1.2.0->chromadb) (3.21.0)\n",
            "Requirement already satisfied: mdurl~=0.1 in /usr/local/lib/python3.11/dist-packages (from markdown-it-py>=2.2.0->rich>=10.11.0->chromadb) (0.1.2)\n",
            "Requirement already satisfied: charset-normalizer<4,>=2 in /usr/local/lib/python3.11/dist-packages (from requests->kubernetes>=28.1.0->chromadb) (3.4.1)\n",
            "Requirement already satisfied: sniffio>=1.1 in /usr/local/lib/python3.11/dist-packages (from anyio->httpx>=0.27.0->chromadb) (1.3.1)\n",
            "Requirement already satisfied: humanfriendly>=9.1 in /usr/local/lib/python3.11/dist-packages (from coloredlogs->onnxruntime>=1.14.1->chromadb) (10.0)\n",
            "Requirement already satisfied: mpmath<1.4,>=1.1.0 in /usr/local/lib/python3.11/dist-packages (from sympy->onnxruntime>=1.14.1->chromadb) (1.3.0)\n",
            "Requirement already satisfied: pyasn1<0.7.0,>=0.6.1 in /usr/local/lib/python3.11/dist-packages (from pyasn1-modules>=0.2.1->google-auth>=1.0.1->kubernetes>=28.1.0->chromadb) (0.6.1)\n",
            "Requirement already satisfied: sentence-transformers in /usr/local/lib/python3.11/dist-packages (3.4.1)\n",
            "Requirement already satisfied: transformers<5.0.0,>=4.41.0 in /usr/local/lib/python3.11/dist-packages (from sentence-transformers) (4.51.3)\n",
            "Requirement already satisfied: tqdm in /usr/local/lib/python3.11/dist-packages (from sentence-transformers) (4.67.1)\n",
            "Requirement already satisfied: torch>=1.11.0 in /usr/local/lib/python3.11/dist-packages (from sentence-transformers) (2.6.0+cu124)\n",
            "Requirement already satisfied: scikit-learn in /usr/local/lib/python3.11/dist-packages (from sentence-transformers) (1.6.1)\n",
            "Requirement already satisfied: scipy in /usr/local/lib/python3.11/dist-packages (from sentence-transformers) (1.15.2)\n",
            "Requirement already satisfied: huggingface-hub>=0.20.0 in /usr/local/lib/python3.11/dist-packages (from sentence-transformers) (0.30.2)\n",
            "Requirement already satisfied: Pillow in /usr/local/lib/python3.11/dist-packages (from sentence-transformers) (11.2.1)\n",
            "Requirement already satisfied: filelock in /usr/local/lib/python3.11/dist-packages (from huggingface-hub>=0.20.0->sentence-transformers) (3.18.0)\n",
            "Requirement already satisfied: fsspec>=2023.5.0 in /usr/local/lib/python3.11/dist-packages (from huggingface-hub>=0.20.0->sentence-transformers) (2025.3.2)\n",
            "Requirement already satisfied: packaging>=20.9 in /usr/local/lib/python3.11/dist-packages (from huggingface-hub>=0.20.0->sentence-transformers) (24.2)\n",
            "Requirement already satisfied: pyyaml>=5.1 in /usr/local/lib/python3.11/dist-packages (from huggingface-hub>=0.20.0->sentence-transformers) (6.0.2)\n",
            "Requirement already satisfied: requests in /usr/local/lib/python3.11/dist-packages (from huggingface-hub>=0.20.0->sentence-transformers) (2.32.3)\n",
            "Requirement already satisfied: typing-extensions>=3.7.4.3 in /usr/local/lib/python3.11/dist-packages (from huggingface-hub>=0.20.0->sentence-transformers) (4.13.2)\n",
            "Requirement already satisfied: networkx in /usr/local/lib/python3.11/dist-packages (from torch>=1.11.0->sentence-transformers) (3.4.2)\n",
            "Requirement already satisfied: jinja2 in /usr/local/lib/python3.11/dist-packages (from torch>=1.11.0->sentence-transformers) (3.1.6)\n",
            "Requirement already satisfied: nvidia-cuda-nvrtc-cu12==12.4.127 in /usr/local/lib/python3.11/dist-packages (from torch>=1.11.0->sentence-transformers) (12.4.127)\n",
            "Requirement already satisfied: nvidia-cuda-runtime-cu12==12.4.127 in /usr/local/lib/python3.11/dist-packages (from torch>=1.11.0->sentence-transformers) (12.4.127)\n",
            "Requirement already satisfied: nvidia-cuda-cupti-cu12==12.4.127 in /usr/local/lib/python3.11/dist-packages (from torch>=1.11.0->sentence-transformers) (12.4.127)\n",
            "Requirement already satisfied: nvidia-cudnn-cu12==9.1.0.70 in /usr/local/lib/python3.11/dist-packages (from torch>=1.11.0->sentence-transformers) (9.1.0.70)\n",
            "Requirement already satisfied: nvidia-cublas-cu12==12.4.5.8 in /usr/local/lib/python3.11/dist-packages (from torch>=1.11.0->sentence-transformers) (12.4.5.8)\n",
            "Requirement already satisfied: nvidia-cufft-cu12==11.2.1.3 in /usr/local/lib/python3.11/dist-packages (from torch>=1.11.0->sentence-transformers) (11.2.1.3)\n",
            "Requirement already satisfied: nvidia-curand-cu12==10.3.5.147 in /usr/local/lib/python3.11/dist-packages (from torch>=1.11.0->sentence-transformers) (10.3.5.147)\n",
            "Requirement already satisfied: nvidia-cusolver-cu12==11.6.1.9 in /usr/local/lib/python3.11/dist-packages (from torch>=1.11.0->sentence-transformers) (11.6.1.9)\n",
            "Requirement already satisfied: nvidia-cusparse-cu12==12.3.1.170 in /usr/local/lib/python3.11/dist-packages (from torch>=1.11.0->sentence-transformers) (12.3.1.170)\n",
            "Requirement already satisfied: nvidia-cusparselt-cu12==0.6.2 in /usr/local/lib/python3.11/dist-packages (from torch>=1.11.0->sentence-transformers) (0.6.2)\n",
            "Requirement already satisfied: nvidia-nccl-cu12==2.21.5 in /usr/local/lib/python3.11/dist-packages (from torch>=1.11.0->sentence-transformers) (2.21.5)\n",
            "Requirement already satisfied: nvidia-nvtx-cu12==12.4.127 in /usr/local/lib/python3.11/dist-packages (from torch>=1.11.0->sentence-transformers) (12.4.127)\n",
            "Requirement already satisfied: nvidia-nvjitlink-cu12==12.4.127 in /usr/local/lib/python3.11/dist-packages (from torch>=1.11.0->sentence-transformers) (12.4.127)\n",
            "Requirement already satisfied: triton==3.2.0 in /usr/local/lib/python3.11/dist-packages (from torch>=1.11.0->sentence-transformers) (3.2.0)\n",
            "Requirement already satisfied: sympy==1.13.1 in /usr/local/lib/python3.11/dist-packages (from torch>=1.11.0->sentence-transformers) (1.13.1)\n",
            "Requirement already satisfied: mpmath<1.4,>=1.1.0 in /usr/local/lib/python3.11/dist-packages (from sympy==1.13.1->torch>=1.11.0->sentence-transformers) (1.3.0)\n",
            "Requirement already satisfied: numpy>=1.17 in /usr/local/lib/python3.11/dist-packages (from transformers<5.0.0,>=4.41.0->sentence-transformers) (2.0.2)\n",
            "Requirement already satisfied: regex!=2019.12.17 in /usr/local/lib/python3.11/dist-packages (from transformers<5.0.0,>=4.41.0->sentence-transformers) (2024.11.6)\n",
            "Requirement already satisfied: tokenizers<0.22,>=0.21 in /usr/local/lib/python3.11/dist-packages (from transformers<5.0.0,>=4.41.0->sentence-transformers) (0.21.1)\n",
            "Requirement already satisfied: safetensors>=0.4.3 in /usr/local/lib/python3.11/dist-packages (from transformers<5.0.0,>=4.41.0->sentence-transformers) (0.5.3)\n",
            "Requirement already satisfied: joblib>=1.2.0 in /usr/local/lib/python3.11/dist-packages (from scikit-learn->sentence-transformers) (1.4.2)\n",
            "Requirement already satisfied: threadpoolctl>=3.1.0 in /usr/local/lib/python3.11/dist-packages (from scikit-learn->sentence-transformers) (3.6.0)\n",
            "Requirement already satisfied: MarkupSafe>=2.0 in /usr/local/lib/python3.11/dist-packages (from jinja2->torch>=1.11.0->sentence-transformers) (3.0.2)\n",
            "Requirement already satisfied: charset-normalizer<4,>=2 in /usr/local/lib/python3.11/dist-packages (from requests->huggingface-hub>=0.20.0->sentence-transformers) (3.4.1)\n",
            "Requirement already satisfied: idna<4,>=2.5 in /usr/local/lib/python3.11/dist-packages (from requests->huggingface-hub>=0.20.0->sentence-transformers) (3.10)\n",
            "Requirement already satisfied: urllib3<3,>=1.21.1 in /usr/local/lib/python3.11/dist-packages (from requests->huggingface-hub>=0.20.0->sentence-transformers) (2.4.0)\n",
            "Requirement already satisfied: certifi>=2017.4.17 in /usr/local/lib/python3.11/dist-packages (from requests->huggingface-hub>=0.20.0->sentence-transformers) (2025.4.26)\n",
            "Requirement already satisfied: openai in /usr/local/lib/python3.11/dist-packages (1.76.2)\n",
            "Requirement already satisfied: anyio<5,>=3.5.0 in /usr/local/lib/python3.11/dist-packages (from openai) (4.9.0)\n",
            "Requirement already satisfied: distro<2,>=1.7.0 in /usr/local/lib/python3.11/dist-packages (from openai) (1.9.0)\n",
            "Requirement already satisfied: httpx<1,>=0.23.0 in /usr/local/lib/python3.11/dist-packages (from openai) (0.28.1)\n",
            "Requirement already satisfied: jiter<1,>=0.4.0 in /usr/local/lib/python3.11/dist-packages (from openai) (0.9.0)\n",
            "Requirement already satisfied: pydantic<3,>=1.9.0 in /usr/local/lib/python3.11/dist-packages (from openai) (2.11.4)\n",
            "Requirement already satisfied: sniffio in /usr/local/lib/python3.11/dist-packages (from openai) (1.3.1)\n",
            "Requirement already satisfied: tqdm>4 in /usr/local/lib/python3.11/dist-packages (from openai) (4.67.1)\n",
            "Requirement already satisfied: typing-extensions<5,>=4.11 in /usr/local/lib/python3.11/dist-packages (from openai) (4.13.2)\n",
            "Requirement already satisfied: idna>=2.8 in /usr/local/lib/python3.11/dist-packages (from anyio<5,>=3.5.0->openai) (3.10)\n",
            "Requirement already satisfied: certifi in /usr/local/lib/python3.11/dist-packages (from httpx<1,>=0.23.0->openai) (2025.4.26)\n",
            "Requirement already satisfied: httpcore==1.* in /usr/local/lib/python3.11/dist-packages (from httpx<1,>=0.23.0->openai) (1.0.9)\n",
            "Requirement already satisfied: h11>=0.16 in /usr/local/lib/python3.11/dist-packages (from httpcore==1.*->httpx<1,>=0.23.0->openai) (0.16.0)\n",
            "Requirement already satisfied: annotated-types>=0.6.0 in /usr/local/lib/python3.11/dist-packages (from pydantic<3,>=1.9.0->openai) (0.7.0)\n",
            "Requirement already satisfied: pydantic-core==2.33.2 in /usr/local/lib/python3.11/dist-packages (from pydantic<3,>=1.9.0->openai) (2.33.2)\n",
            "Requirement already satisfied: typing-inspection>=0.4.0 in /usr/local/lib/python3.11/dist-packages (from pydantic<3,>=1.9.0->openai) (0.4.0)\n",
            "Requirement already satisfied: pandas in /usr/local/lib/python3.11/dist-packages (2.2.2)\n",
            "Requirement already satisfied: numpy>=1.23.2 in /usr/local/lib/python3.11/dist-packages (from pandas) (2.0.2)\n",
            "Requirement already satisfied: python-dateutil>=2.8.2 in /usr/local/lib/python3.11/dist-packages (from pandas) (2.9.0.post0)\n",
            "Requirement already satisfied: pytz>=2020.1 in /usr/local/lib/python3.11/dist-packages (from pandas) (2025.2)\n",
            "Requirement already satisfied: tzdata>=2022.7 in /usr/local/lib/python3.11/dist-packages (from pandas) (2025.2)\n",
            "Requirement already satisfied: six>=1.5 in /usr/local/lib/python3.11/dist-packages (from python-dateutil>=2.8.2->pandas) (1.17.0)\n",
            "Requirement already satisfied: requests in /usr/local/lib/python3.11/dist-packages (2.32.3)\n",
            "Requirement already satisfied: beautifulsoup4 in /usr/local/lib/python3.11/dist-packages (4.13.4)\n",
            "Requirement already satisfied: charset-normalizer<4,>=2 in /usr/local/lib/python3.11/dist-packages (from requests) (3.4.1)\n",
            "Requirement already satisfied: idna<4,>=2.5 in /usr/local/lib/python3.11/dist-packages (from requests) (3.10)\n",
            "Requirement already satisfied: urllib3<3,>=1.21.1 in /usr/local/lib/python3.11/dist-packages (from requests) (2.4.0)\n",
            "Requirement already satisfied: certifi>=2017.4.17 in /usr/local/lib/python3.11/dist-packages (from requests) (2025.4.26)\n",
            "Requirement already satisfied: soupsieve>1.2 in /usr/local/lib/python3.11/dist-packages (from beautifulsoup4) (2.7)\n",
            "Requirement already satisfied: typing-extensions>=4.0.0 in /usr/local/lib/python3.11/dist-packages (from beautifulsoup4) (4.13.2)\n"
          ]
        }
      ],
      "source": [
        "!pip install --upgrade transformers\n",
        "!pip install bitsandbytes accelerate\n",
        "!pip install langchain-community #wikipedia # WikipediaLoaderは今回は使用しませんが、以前のコードとの整合性のため残します\n",
        "!pip install chromadb # ベクトルストア用\n",
        "!pip install sentence-transformers # エンベディングモデル用\n",
        "!pip install openai # 評価用 (OpenAI APIキーが必要です)\n",
        "!pip install pandas # 表の読み込み用\n",
        "!pip install requests beautifulsoup4 # HTML取得・解析用"
      ]
    },
    {
      "cell_type": "markdown",
      "metadata": {
        "id": "us6F3AnO7Dqn"
      },
      "source": [
        "Hugging Face Hubにログインします（モデルのダウンロードに必要です）。ColabのSecretsに`hf_TOKEN`としてAPIトークンを保存しておくことを推奨します。"
      ]
    },
    {
      "cell_type": "code",
      "execution_count": null,
      "metadata": {
        "id": "yPLX3OQe7KW9"
      },
      "outputs": [],
      "source": [
        "from google.colab import userdata\n",
        "import os\n",
        "\n",
        "# Colab SecretsからHugging Faceトークンを取得\n",
        "HUGGINGFACE_HUB_TOKEN = userdata.get('HF_TOKEN')\n",
        "\n",
        "# 環境変数に設定\n",
        "os.environ[\"HF_TOKEN\"] = HUGGINGFACE_HUB_TOKEN"
      ]
    },
    {
      "cell_type": "markdown",
      "metadata": {
        "id": "Z3dY2xIV7jta"
      },
      "source": []
    },
    {
      "cell_type": "code",
      "execution_count": null,
      "metadata": {
        "colab": {
          "base_uri": "https://localhost:8080/"
        },
        "id": "GHeLEiOQ7OVd",
        "outputId": "026c6e65-e7ee-46d7-b8e1-94791440141e"
      },
      "outputs": [
        {
          "name": "stderr",
          "output_type": "stream",
          "text": [
            "Note: Environment variable`HF_TOKEN` is set and is the current active token independently from the token you've just configured.\n",
            "WARNING:huggingface_hub._login:Note: Environment variable`HF_TOKEN` is set and is the current active token independently from the token you've just configured.\n"
          ]
        },
        {
          "name": "stdout",
          "output_type": "stream",
          "text": [
            "Hugging Face Hubにログインしました。\n"
          ]
        }
      ],
      "source": [
        "# Hugging Face Hubにログイン\n",
        "from huggingface_hub import login\n",
        "try:\n",
        "    login(HUGGINGFACE_HUB_TOKEN)\n",
        "    print(\"Hugging Face Hubにログインしました。\")\n",
        "except Exception as e:\n",
        "    print(f\"Hugging Face Hubへのログインに失敗しました: {e}\")\n",
        "    print(\"Colab Secretsに 'hf_TOKEN' が正しく設定されているか確認してください。\")"
      ]
    },
    {
      "cell_type": "markdown",
      "metadata": {
        "id": "tIzIRt5v7V1R"
      },
      "source": [
        "OpenAI APIキーも評価用に取得 (必要に応じて)"
      ]
    },
    {
      "cell_type": "code",
      "execution_count": null,
      "metadata": {
        "id": "uVQI_BVc7Tof"
      },
      "outputs": [],
      "source": [
        "OPENAI_API_KEY = userdata.get('OPENAI_API_KEY')\n",
        "os.environ[\"OPENAI_API_KEY\"] = OPENAI_API_KEY"
      ]
    },
    {
      "cell_type": "markdown",
      "metadata": {
        "id": "V1coPAmn7qBg"
      },
      "source": [
        "使用するデバイスを設定します。"
      ]
    },
    {
      "cell_type": "code",
      "execution_count": null,
      "metadata": {
        "colab": {
          "base_uri": "https://localhost:8080/"
        },
        "id": "mzEB5-8W7onY",
        "outputId": "b12fd678-31dc-4f45-f7f7-296f58a860dc"
      },
      "outputs": [
        {
          "name": "stdout",
          "output_type": "stream",
          "text": [
            "使用デバイス: cuda\n"
          ]
        }
      ],
      "source": [
        "import torch\n",
        "device = torch.device(\"cuda\" if torch.cuda.is_available() else \"cpu\")\n",
        "print(f\"使用デバイス: {device}\")"
      ]
    },
    {
      "cell_type": "markdown",
      "metadata": {
        "id": "w0iJVTDE9KGZ"
      },
      "source": [
        "乱数シードを設定します。"
      ]
    },
    {
      "cell_type": "code",
      "execution_count": null,
      "metadata": {
        "id": "go-Uvd-69Qix"
      },
      "outputs": [],
      "source": [
        "import random\n",
        "random.seed(42) # 再現性のためにシードを固定"
      ]
    },
    {
      "cell_type": "markdown",
      "metadata": {
        "id": "YeYRlzS99WF3"
      },
      "source": [
        "LLMモデル (`google/gemma-2-2b-jpn-it`) を読み込みます。Colab無料版のT4 GPUで実行できるよう、4bit量子化を使用します。"
      ]
    },
    {
      "cell_type": "code",
      "execution_count": null,
      "metadata": {
        "colab": {
          "base_uri": "https://localhost:8080/",
          "height": 145,
          "referenced_widgets": [
            "9a1b32099ded4db49ffff656cef71318",
            "9135b3aba0084cba9b65f7fcc4ddb2c8",
            "a985a33d35f24264a8ee6ee77f53230f",
            "ff796f8b8a864f6fa80f9224932d8a7c",
            "38cdb0deff0543188c58be9ebf5e25ce",
            "ec50be356cf94375ac01df74dd8cdbd5",
            "b35bf2a649fe4329a0d7a7cd46f39848",
            "d89d24b21fb74106883e55c5d4fb9de3",
            "54929e0c4170473c952c53c0e9456df2",
            "7908384bf70b44deb09e8432f265d183",
            "fd37762185fe4117aa669880ff30e05a",
            "8ca222c7f6414fcf9bee4f8044222f6c",
            "cd8a76f368c14bb1a6aa6941dc314782",
            "63eca312bb8b464f9c6dae4a225ff26d",
            "c4214a00db254795a980d8195540d5a1",
            "a2bce2c0299848b8adca99509a0f11f1",
            "954e5544aaa84ce39b640b0c6e490cbb",
            "e4d1a7121bc7470186f68295d3d7e035",
            "58b494e8a7994a21be776eeec3aca777",
            "e70388ed15934098a64a35a7260a2ed1",
            "26b22cf39bf24d7fbe3e35a9b4c3b940",
            "00647692eaa74cc994c26a0281352fdb",
            "3730d752205a4fcaaa8f21a15cdac359",
            "351deb901390447c972098d8fa5ddcf3",
            "d85d115de8064f14b80b9a11da4ab30b",
            "1f1f87c22000460f9455d2953406def7",
            "53b58f3dd8e543b988bdf09b05b6f655",
            "58e43d6a7e0c4db094c7e1672f43230a",
            "b42ef84aba214624b61ae6244b003d2c",
            "c5f9437e280e4bc68329cfdb5feb1314",
            "7636570450fa45f5ad157d2b691a728f",
            "cdc1e569bbc8457fa822af5180029699",
            "e76f44f9934f480e9dba2381e560edc1",
            "70f9a25022ef4ce9842414fdcdd90c46",
            "95eab45c01394d978192770152005890",
            "82eeb8d02ada4783a2b03e8239c3b2ab",
            "a778ad8421954aa0b66b14d850014edc",
            "edb076f21c7348598db298dcdc1586be",
            "90262f9af8864c20bb276c3dc9581735",
            "0c37fa41de3a499a9479023015bb460b",
            "9ffca38944734f908c7d66de5a29f6ce",
            "307cacbcbb714a359a97b026fdcb1c5b",
            "a08157a18c444c548d5ccd855a046e7c",
            "0a424ef62f3249329d9ac6912d6dd1be"
          ]
        },
        "id": "5x22yajn9Z_N",
        "outputId": "300e3802-dc4f-4229-bc1f-12094eff7825"
      },
      "outputs": [
        {
          "data": {
            "application/vnd.jupyter.widget-view+json": {
              "model_id": "9a1b32099ded4db49ffff656cef71318",
              "version_major": 2,
              "version_minor": 0
            },
            "text/plain": [
              "tokenizer_config.json:   0%|          | 0.00/46.9k [00:00<?, ?B/s]"
            ]
          },
          "metadata": {},
          "output_type": "display_data"
        },
        {
          "data": {
            "application/vnd.jupyter.widget-view+json": {
              "model_id": "8ca222c7f6414fcf9bee4f8044222f6c",
              "version_major": 2,
              "version_minor": 0
            },
            "text/plain": [
              "tokenizer.model:   0%|          | 0.00/4.24M [00:00<?, ?B/s]"
            ]
          },
          "metadata": {},
          "output_type": "display_data"
        },
        {
          "data": {
            "application/vnd.jupyter.widget-view+json": {
              "model_id": "3730d752205a4fcaaa8f21a15cdac359",
              "version_major": 2,
              "version_minor": 0
            },
            "text/plain": [
              "tokenizer.json:   0%|          | 0.00/17.5M [00:00<?, ?B/s]"
            ]
          },
          "metadata": {},
          "output_type": "display_data"
        },
        {
          "data": {
            "application/vnd.jupyter.widget-view+json": {
              "model_id": "70f9a25022ef4ce9842414fdcdd90c46",
              "version_major": 2,
              "version_minor": 0
            },
            "text/plain": [
              "special_tokens_map.json:   0%|          | 0.00/555 [00:00<?, ?B/s]"
            ]
          },
          "metadata": {},
          "output_type": "display_data"
        }
      ],
      "source": [
        "from transformers import AutoModelForCausalLM, AutoTokenizer, BitsAndBytesConfig\n",
        "\n",
        "model_name = \"google/gemma-2-2b-jpn-it\"\n",
        "tokenizer = AutoTokenizer.from_pretrained(model_name)"
      ]
    },
    {
      "cell_type": "code",
      "execution_count": null,
      "metadata": {
        "id": "q8Pe5K_z9fo7"
      },
      "outputs": [],
      "source": [
        "# 4bit量子化設定\n",
        "bnb_config = BitsAndBytesConfig(\n",
        "    load_in_4bit=True,\n",
        "    bnb_4bit_compute_dtype=torch.float16, # T4 GPUはfloat16をサポート\n",
        "    bnb_4bit_quant_type=\"nf4\",\n",
        "    bnb_4bit_use_double_quant=False,\n",
        ")"
      ]
    },
    {
      "cell_type": "code",
      "execution_count": null,
      "metadata": {
        "colab": {
          "base_uri": "https://localhost:8080/",
          "height": 259,
          "referenced_widgets": [
            "1093421888d3451c9ba8901934170513",
            "b3e2cf3cf0fe4f6aab9e00b448240c10",
            "9ba5d675b327498ba023932520844b25",
            "ded7772a96544acda384101642e56bb2",
            "ce3453f2d68343e083331747a691ffee",
            "ccdfa5287cd04d2289615f75f185b87f",
            "4c2b30096bae46a8bbc13acf861133e9",
            "5a89b55de4cb4616866706f388021ddf",
            "6ec254407a044f5bab9cf4d1801d717b",
            "35e87c59eff5440e9f7743f76f6ab2c5",
            "78a2b6728da24146ac95d2ddee401208",
            "76f3f65d0f5048d7a329cf2109f295f8",
            "fa56b22b1ca5433eb7c1224e2d93ad5a",
            "6a5cf556ad75416fbbac4630dce22744",
            "3bada2a28f694437b50da29c19e953a6",
            "884e55bd8ea34c1aa7414bda7d1b4df7",
            "7d902c35cade4238b9441af9d49642c1",
            "77e6f9a995a244db98c4fd68742c68f6",
            "eadb25a7601049d3aa9ca6ac8a587212",
            "5d1003d139594df3be8fd4be5f955129",
            "66318e4bc12b463b979cdb1370884b95",
            "d22b7b60963d4dc8b69ea17361835d94",
            "7141021a968749b89d2d7eefaa8e24d8",
            "6a97d6e7abcc4186a51f40d5e54f30bc",
            "bb8e825ebd0a4758885ff1032aa5d8e3",
            "a868482acce94c92a0b28c6709424ad9",
            "6117ee619c584649850aa469abeb9291",
            "e42ae3e02c8d46858b46b18a00b424da",
            "6974e1b5c1d94850aae2aecf3f13849d",
            "b13212ee6de04d85bde9e942e443d1a3",
            "579849352e7d4f0fadefa08d48331492",
            "df309ce42e884a37966276fa5c72c8a7",
            "8f7c5c248b5d406d8bfcfe10a7d82315",
            "5fd8cbb66be64925864a093ac3cc14e4",
            "729295fbfa4049eba8bbd87cd6328fd6",
            "8053ddf494e947c388b5c8d07e29003c",
            "d16ce72ea79049eea6bb630b423f98e4",
            "728772701d1e42b0b1fdde0f122fd4da",
            "8dae3b9480b947519ce57ac0922800a5",
            "a5abeb3be83842cda93716cb91b5426d",
            "0d9ba2a46a2a4ebc9343725a9c5e26ae",
            "b861563d21da4272a31a1439ffafa7c2",
            "3251726f02a74b349e883165b6d8992d",
            "88d7b0289afe450ea16c7fd96373e3c4",
            "a6f67a63807e4cf4b77503c3c87d96f7",
            "0883b9aff66c434481e50236d6b8914f",
            "1c371c29119840b98a14e0fffa525ffa",
            "00b474b9f9614817982ca7b71922e57a",
            "54f16b370c97480a9fda003a62c8de1b",
            "3a39f07486b64405869d97b793d14d5a",
            "88ba7b0c0a2944fb8c461f548b2df7fa",
            "1b6dc9ceea2548c9853da81ad897ea66",
            "633aec897cb8459eadb4cd78bd061053",
            "a1ff6c4cc58d4c0590087ee00a1663d9",
            "8bed6fb748344459b10ce5cf029d1939",
            "3a0eb8cb840e4971b587877dd4ccb7a0",
            "02e4742fbebd48659e1322b1ba1e48ca",
            "f22da3e8419e4d9d84e37e9cada75ccd",
            "d7101f200ed04adbb43d05aa285e28ae",
            "860e522662674d2d80ee4e01cf8799c2",
            "d46122b6436d412b983223deddcd2e5d",
            "846178d737814a70b748f0ab2b7c6069",
            "6671825eca014a3a9724e3c2f234bb6d",
            "168c0dcdf6dd4b44b42550a70c6b06f2",
            "3369dfa84af74e9baab6f0d44c379651",
            "41b0c948a6ef435c968dc8a0892f829e",
            "c8f68e63d6c2473e8b8791b06d735128",
            "589f3b1e8c21405db683e791368520b4",
            "e49d7c54e4df4fd190535722ad681f7d",
            "f16047294d1d45fb84d246ad11e05f77",
            "d3c9bca1967346e2be391d7613327ac7",
            "0a9666f660504fa386567cb116ff1e36",
            "1a9b1f5fa2e14a2286d6a1977944205a",
            "6e854931e6dc452da9d68fc2b9c19457",
            "29a29e534280464f97b70c0a9a7671db",
            "32e7259f01c74a13aea2beec322eae75",
            "61f08b10cfd04d33854a6ca2dd786933"
          ]
        },
        "id": "II__gXr89g65",
        "outputId": "b45dbdb7-ce1e-487b-c089-984015ad824d"
      },
      "outputs": [
        {
          "data": {
            "application/vnd.jupyter.widget-view+json": {
              "model_id": "1093421888d3451c9ba8901934170513",
              "version_major": 2,
              "version_minor": 0
            },
            "text/plain": [
              "config.json:   0%|          | 0.00/805 [00:00<?, ?B/s]"
            ]
          },
          "metadata": {},
          "output_type": "display_data"
        },
        {
          "data": {
            "application/vnd.jupyter.widget-view+json": {
              "model_id": "76f3f65d0f5048d7a329cf2109f295f8",
              "version_major": 2,
              "version_minor": 0
            },
            "text/plain": [
              "model.safetensors.index.json:   0%|          | 0.00/24.2k [00:00<?, ?B/s]"
            ]
          },
          "metadata": {},
          "output_type": "display_data"
        },
        {
          "data": {
            "application/vnd.jupyter.widget-view+json": {
              "model_id": "7141021a968749b89d2d7eefaa8e24d8",
              "version_major": 2,
              "version_minor": 0
            },
            "text/plain": [
              "Fetching 2 files:   0%|          | 0/2 [00:00<?, ?it/s]"
            ]
          },
          "metadata": {},
          "output_type": "display_data"
        },
        {
          "data": {
            "application/vnd.jupyter.widget-view+json": {
              "model_id": "5fd8cbb66be64925864a093ac3cc14e4",
              "version_major": 2,
              "version_minor": 0
            },
            "text/plain": [
              "model-00001-of-00002.safetensors:   0%|          | 0.00/4.99G [00:00<?, ?B/s]"
            ]
          },
          "metadata": {},
          "output_type": "display_data"
        },
        {
          "data": {
            "application/vnd.jupyter.widget-view+json": {
              "model_id": "a6f67a63807e4cf4b77503c3c87d96f7",
              "version_major": 2,
              "version_minor": 0
            },
            "text/plain": [
              "model-00002-of-00002.safetensors:   0%|          | 0.00/241M [00:00<?, ?B/s]"
            ]
          },
          "metadata": {},
          "output_type": "display_data"
        },
        {
          "data": {
            "application/vnd.jupyter.widget-view+json": {
              "model_id": "3a0eb8cb840e4971b587877dd4ccb7a0",
              "version_major": 2,
              "version_minor": 0
            },
            "text/plain": [
              "Loading checkpoint shards:   0%|          | 0/2 [00:00<?, ?it/s]"
            ]
          },
          "metadata": {},
          "output_type": "display_data"
        },
        {
          "data": {
            "application/vnd.jupyter.widget-view+json": {
              "model_id": "c8f68e63d6c2473e8b8791b06d735128",
              "version_major": 2,
              "version_minor": 0
            },
            "text/plain": [
              "generation_config.json:   0%|          | 0.00/168 [00:00<?, ?B/s]"
            ]
          },
          "metadata": {},
          "output_type": "display_data"
        },
        {
          "name": "stdout",
          "output_type": "stream",
          "text": [
            "モデル google/gemma-2-2b-jpn-it をロードしました。\n"
          ]
        }
      ],
      "source": [
        "# モデルの読み込み\n",
        "try:\n",
        "    model = AutoModelForCausalLM.from_pretrained(\n",
        "                model_name,\n",
        "                device_map=\"auto\", # 可能な限りGPUを使用\n",
        "                quantization_config=bnb_config,\n",
        "                torch_dtype=torch.bfloat16, # bfloat16を使用\n",
        "            )\n",
        "    print(f\"モデル {model_name} をロードしました。\")\n",
        "except Exception as e:\n",
        "    print(f\"モデルのロードに失敗しました: {e}\")\n",
        "    print(\"GPUが利用可能か、または必要なライブラリが正しくインストールされているか確認してください。\")"
      ]
    },
    {
      "cell_type": "markdown",
      "metadata": {
        "id": "chl7_5lH9mm-"
      },
      "source": [
        "LLMで回答を生成するための関数を定義します。"
      ]
    },
    {
      "cell_type": "code",
      "execution_count": null,
      "metadata": {
        "id": "Ai8i-ueM9rDn"
      },
      "outputs": [],
      "source": [
        "def generate_output(query, model, tokenizer):\n",
        "    #\"\"\"\n",
        "    #指定されたモデルとトークナイザーを使用してクエリに対する回答を生成します。\n",
        "\n",
        "    #Args:\n",
        "    #    query (str): 生成するクエリまたはプロンプト。\n",
        "    #    model: ロードされたLLMモデル。\n",
        "    #    tokenizer: ロードされたトークナイザー。\n",
        "\n",
        "    #Returns:\n",
        "    #    str: 生成された回答テキスト。\n",
        "    #\"\"\"\n",
        "    messages = [\n",
        "        {\"role\": \"user\", \"content\": query},\n",
        "    ]\n",
        "\n",
        "    # チャットテンプレートを適用し、入力IDに変換\n",
        "    input_ids = tokenizer.apply_chat_template(\n",
        "        messages,\n",
        "        add_generation_prompt=True, # モデルによっては不要な場合あり\n",
        "        return_tensors=\"pt\"\n",
        "    ).to(model.device) # モデルと同じデバイスに配置\n",
        "\n",
        "    # 生成停止条件 (EOSトークンや特定の特殊トークン)\n",
        "    terminators = [\n",
        "        tokenizer.eos_token_id,\n",
        "        tokenizer.convert_tokens_to_ids(\"<|eot_id|>\") # GemmaのEOTトークン\n",
        "    ]\n",
        "\n",
        "    # 回答生成\n",
        "    outputs = model.generate(\n",
        "        input_ids,\n",
        "        max_new_tokens=512, # 生成する最大トークン数（必要に応じて調整）\n",
        "        eos_token_id=terminators,\n",
        "        do_sample=False, # 決定的な生成 (Trueにすると多様な回答になる)\n",
        "        # temperature=0.6, # do_sample=Trueの場合に使用\n",
        "        # top_p=0.9,  # do_sample=Trueの場合に使用\n",
        "    )\n",
        "\n",
        "    # 生成されたトークンからテキストをデコード\n",
        "    # 入力プロンプト部分を除外して回答のみを取得\n",
        "    response = outputs[0][input_ids.shape[-1]:]\n",
        "    return tokenizer.decode(response, skip_special_tokens=True)"
      ]
    },
    {
      "cell_type": "markdown",
      "metadata": {
        "id": "AdrOLWd-9wID"
      },
      "source": [
        "評価関数を定義します。これはOpenAI APIを使用するため、実行にはAPIキーが必要です。"
      ]
    },
    {
      "cell_type": "code",
      "execution_count": null,
      "metadata": {
        "colab": {
          "base_uri": "https://localhost:8080/"
        },
        "id": "-IsfeBxJyV1I",
        "outputId": "a7631730-6295-449c-a86e-985c786bf2b0"
      },
      "outputs": [
        {
          "name": "stdout",
          "output_type": "stream",
          "text": [
            "OpenAIクライアントを初期化しました。\n"
          ]
        }
      ],
      "source": [
        "# @title 評価実装 (OpenAI APIを使用)\n",
        "# 注意: このセルを実行するには、Google Colab Secretsに 'OPENAI_API_KEY' が設定されている必要があります。\n",
        "# また、OpenAI APIの利用料金が発生する可能性があります。\n",
        "\n",
        "from openai import OpenAI\n",
        "from google.colab import userdata # 既に上でインポート済み\n",
        "\n",
        "# OpenAIクライアントの初期化\n",
        "try:\n",
        "    client = OpenAI(api_key=userdata.get(\"OPENAI_API_KEY\"), max_retries=5, timeout=60)\n",
        "    print(\"OpenAIクライアントを初期化しました。\")\n",
        "except Exception as e:\n",
        "    print(f\"OpenAIクライアントの初期化に失敗しました: {e}\")\n",
        "    print(\"評価を実行するには、Colab Secretsに 'OPENAI_API_KEY' が正しく設定されているか確認してください。\")\n",
        "    client = None # 初期化失敗時はNoneとする\n",
        "\n"
      ]
    },
    {
      "cell_type": "code",
      "execution_count": null,
      "metadata": {
        "id": "f8C42-Q2yhxm"
      },
      "outputs": [],
      "source": [
        "# 評価用のLLM生成関数 (OpenAI APIを使用)\n",
        "def openai_generator(query):\n",
        "    if client is None:\n",
        "        print(\"OpenAIクライアントが初期化されていません。評価をスキップします。\")\n",
        "        return \"評価スキップ\"\n",
        "    try:\n",
        "        messages = [\n",
        "                            {\n",
        "                                \"role\": \"user\",\n",
        "                                \"content\": query\n",
        "                            }\n",
        "                        ]\n",
        "\n",
        "        response = client.chat.completions.create(\n",
        "            model=\"gpt-4o-mini\", # または他の適切なモデル\n",
        "            messages=messages,\n",
        "            max_tokens=256, # 生成する最大トークン数\n",
        "            temperature=0 # 決定的な評価のために温度を0に設定\n",
        "        )\n",
        "        return response.choices[0].message.content\n",
        "    except Exception as e:\n",
        "        print(f\"OpenAI API呼び出し中にエラーが発生しました: {e}\")\n",
        "        return \"評価エラー\"\n",
        "\n",
        "\n",
        "# 評価指標関数 (Answer Accuracy)\n",
        "def evaluate_answer_accuracy(query, response, reference):\n",
        "    if client is None:\n",
        "        return 0.0 # OpenAIクライアントがなければ評価できない\n",
        "\n",
        "    # RagasのAnswer Accuracy評価プロンプトを参考に作成\n",
        "    template_accuracy = (\\\n",
        "          \"Instruction: You are a world class state of the art assistant for rating \"\n",
        "          \"a User Answer given a Question and a Reference Answer. The Reference Answer is a perfect answer to the Question.\\\\n\"\n",
        "          \"Rate the User Answer based on how consistent it is with the Reference Answer.\\\\n\"\n",
        "          \"Say 4, if User Answer is full consistent and equivalent to Reference Answer \"\n",
        "          \"in all terms, topics, numbers, metrics, dates and units.\\\\n\"\n",
        "          \"Say 2, if User Answer is partially consistent and almost equivalent to Reference Answer \"\n",
        "          \"in all terms, topics, numbers, metrics, dates and units.\\\\n\"\n",
        "          \"Say 0, if User Answer is not consistent with Reference Answer or not accurate in all terms, topics,\"\n",
        "          \"numbers, metrics, dates and units or the User Answer do not answer the question.\\\\n\"\n",
        "          \"Do not explain or justify your rating. Your rating must be only 4, 2 or 0 according to the instructions above.\\\\n\"\n",
        "          \"Even small discrepancies in meaning, terminology, directionality, or implication must result in a lower score. Only rate 4 if the User Answer is a complete and precise match to the Reference Answer in every aspect.\\\\n\"\n",
        "          \"### Question: {query}\\\\n\"\n",
        "          \"### User Answer: {user_answer}\\\\n\"\n",
        "          \"### Reference Answer: {reference_answer}\\\\n\"\n",
        "          \"The rating is:\\\\n\"\n",
        "      )\n",
        "\n",
        "    # 評価プロンプトの生成\n",
        "    eval_prompt = template_accuracy.format(\n",
        "        query=query,\n",
        "        user_answer=response,\n",
        "        reference_answer=reference\n",
        "    )\n",
        "\n",
        "    # OpenAIで評価を実行\n",
        "    score_text = openai_generator(eval_prompt)\n",
        "\n",
        "    # スコアのパース\n",
        "    try:\n",
        "        score = int(score_text.strip())\n",
        "        # スコアを0-4から0-1に正規化 (Ragasのデフォルトスコア範囲に合わせる場合)\n",
        "        # score = score / 4.0\n",
        "        return score # 0, 2, 4 のまま返す場合\n",
        "    except:\n",
        "        print(f\"評価スコアのパースに失敗しました: '{score_text}'\")\n",
        "        return 0.0 # パース失敗時は0とする"
      ]
    },
    {
      "cell_type": "code",
      "execution_count": null,
      "metadata": {
        "id": "nUpTq6VABErI"
      },
      "outputs": [],
      "source": [
        "# 評価用のゴールドアンサーを定義 (表データに基づいて手動で作成)\n",
        "\n",
        "gold_answers = {\n",
        "    \"日本に課される「相互関税」の税率は何%ですか？\": \"表によると、日本に課される「相互関税」の税率は24%です。\",\n",
        "    \"記載されている国の中で、最も高い「相互関税」が課されているのはどの国ですか？またその税率は何%ですか？\": \"表によると、最も高い「相互関税」が課されているのはレソトで、その税率は50%です。\", # 修正\n",
        "    \"「相互関税」が10%とされている国はどこですか？\": \"表において、「相互関税」が10%とされているのはすべての国と地域です。\", # 修正\n",
        "    \"このデータの時点は何時ですか？\": \"表のデータは2025年4月2日時点の情報です。\",\n",
        "    \"第二次トランプ政権で導入が検討されているとされる「普遍的な基礎関税」とは、どのような構想ですか？\": \"普遍的な基礎関税とは、第二次トランプ政権が誕生した場合に、全ての輸入品に対して一律に関税を引き上げる構想です。国内産業の保護、貿易赤字の削減、公正な貿易条件の確立を目指しています。\" # この回答は表データには含まれませんが、ベースラインとの比較のために残します。\n",
        "}"
      ]
    },
    {
      "cell_type": "code",
      "execution_count": null,
      "metadata": {
        "colab": {
          "base_uri": "https://localhost:8080/"
        },
        "id": "pHclkw3rBEiD",
        "outputId": "ac2f67b0-ac7f-44fe-abaf-b88420710fcf"
      },
      "outputs": [
        {
          "name": "stdout",
          "output_type": "stream",
          "text": [
            "質問: 日本に課される「相互関税」の税率は何%ですか？\n",
            "ベースモデル回答評価スコア: 0\n",
            "RAGモデル回答評価スコア: 0\n"
          ]
        }
      ],
      "source": [
        "# # 評価を実行する例 (OpenAI APIキーが必要です)\n",
        "question_to_evaluate = list(gold_answers.keys())[0] # 最初の質問を例として評価\n",
        "base_response = generate_output(question_to_evaluate, model, tokenizer)\n",
        "rag_response = \"ここにRAGによる回答を生成した結果を入れます\" # RAGパートで生成した回答\n",
        "base_score = evaluate_answer_accuracy(question_to_evaluate, base_response, gold_answers[question_to_evaluate])\n",
        "print(f\"質問: {question_to_evaluate}\")\n",
        "print(f\"ベースモデル回答評価スコア: {base_score}\")\n",
        "rag_score = evaluate_answer_accuracy(question_to_evaluate, rag_response, gold_answers[question_to_evaluate])\n",
        "print(f\"RAGモデル回答評価スコア: {rag_score}\")"
      ]
    },
    {
      "cell_type": "code",
      "execution_count": null,
      "metadata": {
        "colab": {
          "base_uri": "https://localhost:8080/"
        },
        "id": "K9BHc3CjBEVW",
        "outputId": "4541b324-99b8-4346-ced9-3c8b7886c347"
      },
      "outputs": [
        {
          "name": "stdout",
          "output_type": "stream",
          "text": [
            "評価関数はOpenAI APIを使用します。実行にはAPIキー設定と利用料金が発生する可能性があります。\n",
            "評価コードはコメントアウトされています。実行する場合はコメントアウトを解除し、APIキーを設定してください。\n"
          ]
        }
      ],
      "source": [
        "print(\"評価関数はOpenAI APIを使用します。実行にはAPIキー設定と利用料金が発生する可能性があります。\")\n",
        "print(\"評価コードはコメントアウトされています。実行する場合はコメントアウトを解除し、APIキーを設定してください。\")"
      ]
    },
    {
      "cell_type": "markdown",
      "metadata": {
        "id": "ONvOciE0BZIJ"
      },
      "source": [
        "## 参照資料の準備 (Wikipediaの表データ)\n",
        "\n",
        "Wikipediaページから「表1. 国別の「相互関税」の一覧（2025年4月2日時点）」を取得し、RAGに適した形に処理します。`pandas`を使用して表を読み込み、テキスト形式に変換します。"
      ]
    },
    {
      "cell_type": "code",
      "execution_count": null,
      "metadata": {
        "id": "tMmp962TBUxO"
      },
      "outputs": [],
      "source": [
        "import pandas as pd\n",
        "from langchain.text_splitter import RecursiveCharacterTextSplitter\n",
        "from langchain_community.embeddings import SentenceTransformerEmbeddings\n",
        "from langchain_community.vectorstores import Chroma\n",
        "from langchain.schema import Document # LangChainのDocumentオブジェクトを使用\n",
        "import requests  # requests libraryをインポート\n",
        "from io import StringIO # StringIOをインポート\n",
        "from bs4 import BeautifulSoup # BeautifulSoupをインポート"
      ]
    },
    {
      "cell_type": "code",
      "execution_count": null,
      "metadata": {
        "colab": {
          "base_uri": "https://localhost:8080/",
          "height": 1000,
          "referenced_widgets": [
            "e427f175992944e9992236444406b754",
            "67ac61827513424189b03e8a733423c4",
            "30adb7f259404fa8b95d2bc26abef5a9",
            "f82aeceb8def4f9c8fe26cc6f08617c8",
            "2477f421373a49f489e91ac4a7766d25",
            "bf6f6986e8a14e598e4f08da41218143",
            "8495affbb2f44c749a789796df347b17",
            "537fba040d75453f8ee25c39fc2ca24d",
            "c8da6f34bcd94d33ac0e8241ffefef56",
            "a126f2b89a754566a37df6c08469f029",
            "06a3b763f86e4d22a24ad1661675072d",
            "449423dee60f473f806308650a411e57",
            "7a18e01e4f24492299e49267300c927e",
            "d9208ba4625f4924a8801da685f898a4",
            "ce0d2abb518b45998997444a048dc111",
            "2e839a3ede554d9ab76d892e3b505923",
            "4ef98c6136a747b9b3c572ae6a7abcb8",
            "e44306794b86417c85ed1aecfa831735",
            "788dbfbaa9ff49d0852538d99b0d9781",
            "07aea4b10e894b2180363891a1255738",
            "e05916479d83455f92eaa5b6f1094c39",
            "fcb43e7edd9941b89dd66f7a9a89fa42",
            "df36c7cc0311445492adf07177ed872a",
            "4f67b95f96ef446a84e1e0b7a83c13e3",
            "859b805f566c4726a3c6075a8d51af31",
            "7ae1df57ab81480fbb15b6a6d0ec7532",
            "65bfb46a8bf74d098cdb5c8794e942bb",
            "a3ae5c8a4244406dbf31134d205b2dbb",
            "0168a630ebd646a99ab84a9b57ce039a",
            "fe0e5b2f427e4185b27dca0dff5755e9",
            "14ec45bc0bd0405486e9f7ad826ab18c",
            "30e1fc115fdc4bf296623a99c242634a",
            "a631df7c72ef4ad6831b9b76269fca58",
            "79c23b4d523e4538b5ab36d762cdcfbe",
            "1bd6de59131143f6a86e7812a0dbb861",
            "5c5a0c6e73ab41e29b040f46acd4fc4c",
            "b844d62c145147a68ec3b8d1b6e9dd5d",
            "f07fa81f44aa4f5ea813ebba9b84859b",
            "dfdfeb2c21c840f088372c008f3119d3",
            "28ae82047bac438ab0bc7ef657b68177",
            "8585c90d6aa74240adeb16af8799bfbd",
            "45091492327a45e9bf9721cae21f6416",
            "96ceabb4c5064e3d95561fb8b0f038ca",
            "e40f3b0b75e145b291f00e976ca8c72d",
            "4dee8e262aad40d78b6a4dfa1ced2ec2",
            "a7955db0b16d4551a4b1f24eae3b324b",
            "0c24f5b40ece4fb48db46fa7020aa5ea",
            "a9ec09bc4a004fd2b3f53bfa21b121fe",
            "b42956ef72c34859a510c91dec67afa0",
            "917ee3981d0246419a4bb9551db26237",
            "ac9e50035d5a4f50a4c3586d05841064",
            "224484d46e3e4016a20f844825011efb",
            "b7a61c3ad239447796cf5495807900b4",
            "ecfe7d3ec001474eae2e5eb827f23ef1",
            "2a713f9823ef48cf808d1917f82639c8",
            "e29658f9d3074335b5f884f98499a288",
            "c2b9ffd7b8ae4a89919d5b0a5ba3b3cf",
            "ac7350560f0442bd9e3b9747dd4d0609",
            "8154e55c58734abcbca1256369759f48",
            "e07377101824442e995c593603f32af8",
            "027aa1c3e4f94838ac57613a6f8e6827",
            "18bc87f5030348cba34d1cf1ea614424",
            "fce10f2b2cf5405cb2ede1bf2c1a1c15",
            "80a446b2d3604f6193f3a8881db87a7f",
            "740b0b45f6b04e1bb3ced6297a25c709",
            "0a9e8c32282b43e4b02565be8c402660",
            "7d152d3a6b2546bcbec0409999a554bf",
            "26de42c921ea4ceea40b13d3daedf843",
            "cf371924d4434f84a7fe4cde1a3f0d28",
            "9a77d3881996413eae284472f6e10f8d",
            "0a4c28d1df1040c88d8915282dad4e81",
            "366c9996057a496eb08143430bf7d6ff",
            "b36f23b505f64aae8586d575bb1099c6",
            "16b97628066c43adb335f79d4026c978",
            "855de9824f894a3ab9e33da3b1e2690f",
            "447823424e394a09bbfbac72158b1027",
            "deb9e91b231c45ed8799dc5a77d21e9e",
            "71a23b8a32e048ecbdabf631aca6f012",
            "052c074a25a14df1a4f215f873409acc",
            "9cae3fa657ed4920b807426750018179",
            "f281c444b9ee464aa3a1ccf2e70a4e95",
            "79b8129817374f709b6911dbf70948cc",
            "b44d64316b634470b4938badc3b961fc",
            "a092b53c686e4519bd4c308fc85d5001",
            "274abea3b11f44db868f77551241df0b",
            "ff6380f716b343cd91724a1a03ab38ac",
            "99d7b08de3f94e438bc2e4ae51981af1",
            "a6647a36d0934b669ab756b3620cdf9c",
            "93f4cb34b21c45679040656c52cd0fce",
            "15825d995d4e47a1921f21a6054ae405",
            "f26e0e6d480a43d7bd9286e44a1bbc85",
            "4e6362ad57434168b2b3d466ea74bc53",
            "b002679c311e4375a2a510995f2ac9ae",
            "6cdaac2c47834372845b9884770e3877",
            "a5b5bc2f53254ba8b3e6fab1fb6ff0fc",
            "1795f84d3ab54b3b8e3580c45f94074a",
            "3803a1b1df1a46eb94eacd6be23a3ad6",
            "a2a8702fb6624e22ad28b879a813bc73",
            "5e1e7e5906a34d9e82258d579c855fc4",
            "c723330c8c7b4d75b31ea00f91a9080b",
            "7589dc0817794fb6bc4465ba6c1d31dd",
            "11dc4a0ec89d41cab6f0fd241894fd7a",
            "6b32a3f05068443a9d5a084c8e131a8e",
            "153bfbfd38544a62b835f9c06cc64d90",
            "1d66ad05428d49d893c5ed9134160d6c",
            "6683a4e9511c41968b54de7850c343be",
            "1486a7782eb74ac792634b2ddf59afaf",
            "106c91dc6d8a45069130e385934cb2bc",
            "caf08416006645689cecd2c35a18570b",
            "bf63a927daec45e8ad5ebfa5a74e2dc8",
            "67c22d5b390c4cfd93adee66e47ab6bc",
            "3c660d0c0d164b1cbfe4d73b50b71428",
            "eab0e281cfe24cc6aaeed1a09b862e08",
            "6d5339d8034745ed8c972eeced33d285",
            "e4705f62de5a474e8602a926bdba2198",
            "9e49a81b8eb74ca3bc34729819a6e5ed",
            "84e6078b57ef417fa8b222258481e997",
            "7e78adc7a2284a0e9030e0500208d487",
            "cab84580dd4d4b349cda040811bbfeed",
            "8e62aa4f0bed47b99554b2f31a2dfafd",
            "7f5201d2cff249ac8f6286d5b5119ab6",
            "21fbff750cb54599982c13eaeb3e93cb",
            "b5c9ce6c3c69440983fb0f330f8567b2",
            "efca02595bad4f1388b169892079d9dc",
            "f83d5b9e665b46148568e5aa3c1e7b4f",
            "e0036501d32343f398b7b7870069309a",
            "6e6c5fbe11a84d5aafce4ed1a9c1efcb",
            "0800d5e07408425ab122a405683b801c",
            "0fd026804b154c10bb78ca0d32008192",
            "99b5f6a7f66f45969469a71c458e346d",
            "ea8dfa9540064a53b9c431320314eb64",
            "c7284aca26924158ad753aedf70d2925",
            "a2c594e097ea43ada98ba6f85f95252b",
            "b3ff1ef9a308410289962d8d1994dc2f",
            "a134fe3ded3c47deb43bbab7acaf8d96",
            "60c5150ff4a24aa6aca7115739341863",
            "a66dc2f618864bc0bb77cc317bb788a4",
            "2cb607f3084d4166820700df13af3d4f",
            "95de2769415149c7baf4d13e2423759d",
            "243c978e5ea9483783ca8f76c1d5f2fa",
            "033bda98a9574782a38d99591a1a5408",
            "369e8db70d96409980c02816d1635743",
            "bcbd69be6b3f413caac42596bd2c486e"
          ]
        },
        "id": "zUM_US7vG3nC",
        "outputId": "aeff9cf4-e094-4a06-f69c-224cbbc8d51f"
      },
      "outputs": [
        {
          "name": "stdout",
          "output_type": "stream",
          "text": [
            "Wikipediaページから表データをロードします: https://ja.wikipedia.org/wiki/%E7%AC%AC2%E6%AC%A1%E3%83%88%E3%83%A9%E3%83%B3%E3%83%97%E6%94%BF%E6%A8%A9%E3%81%AE%E9%96%A2%E7%A8%8E#cite_note-18\n",
            "ページから 6 個の表を検出しました。\n",
            "目的の表 (表 2) を検出しました。列名: ['国または地域', '関税率']\n",
            "\n",
            "--- 抽出した表データ (文字列形式) ---\n",
            "                    国または地域 関税率\n",
            "                    アルジェリア 30%\n",
            "                      アンゴラ 32%\n",
            "                   バングラデシュ 37%\n",
            "              ボスニア・ヘルツェゴビナ 35%\n",
            "                      ボツワナ 37%\n",
            "                      ブルネイ 24%\n",
            "                     カンボジア 49%\n",
            "                     カメルーン 11%\n",
            "                       チャド 13%\n",
            "                        中国 34%\n",
            "                  コンゴ民主共和国 11%\n",
            "                     赤道ギニア 13%\n",
            "                      欧州連合 20%\n",
            "フォークランド諸島 (United Kingdom) 41%\n",
            "                      フィジー 32%\n",
            "                      ガイアナ 38%\n",
            "                       インド 26%\n",
            "                    インドネシア 32%\n",
            "                       イラク 39%\n",
            "                     イスラエル 17%\n",
            "                  コートジボワール 21%\n",
            "                        日本 24%\n",
            "                      ヨルダン 20%\n",
            "                    カザフスタン 27%\n",
            "                       ラオス 48%\n",
            "                       レソト 50%\n",
            "                       リビア 31%\n",
            "                 リヒテンシュタイン 37%\n",
            "                    マダガスカル 47%\n",
            "                      マラウイ 17%\n",
            "                     マレーシア 24%\n",
            "                    モーリシャス 40%\n",
            "                      モルドバ 31%\n",
            "                    モザンビーク 16%\n",
            "                     ミャンマー 44%\n",
            "                      ナミビア 21%\n",
            "                       ナウル 30%\n",
            "                     ニカラグア 18%\n",
            "                    ナイジェリア 14%\n",
            "                 北マケドニア共和国 33%\n",
            "                     ノルウェー 15%\n",
            "                     パキスタン 29%\n",
            "                     フィリピン 17%\n",
            "                      セルビア 37%\n",
            "                     南アフリカ 30%\n",
            "                        韓国 25%\n",
            "                     スリランカ 44%\n",
            "                       スイス 31%\n",
            "                       シリア 41%\n",
            "                        台湾 32%\n",
            "                        タイ 36%\n",
            "                     チュニジア 28%\n",
            "                      バヌアツ 22%\n",
            "                     ベネズエラ 15%\n",
            "                      ベトナム 46%\n",
            "                      ザンビア 17%\n",
            "                     ジンバブエ 18%\n",
            "            すべての国と地域[注釈 1] 10%\n",
            "\n",
            "-------------------------------------\n",
            "\n",
            "--- 抽出したキャプション ---\n",
            "国別の「相互関税」の一覧（2025年4月2日時点）[16][17]\n",
            "----------------------------\n",
            "追加情報を含むドキュメントを生成しました。\n",
            "分割後のチャンク数: 2\n",
            "\n",
            "--- 分割されたチャンクの例 ---\n",
            "国または地域 関税率\n",
            "                    アルジェリア 30%\n",
            "                      アンゴラ 32%\n",
            "                   バングラデシュ 37%\n",
            "              ボスニア・ヘルツェゴビナ 35%\n",
            "                      ボツワナ 37%\n",
            "                      ブルネイ 24%\n",
            "                     カンボジア 49%\n",
            "                     カメルーン 11%\n",
            "                       チャド 13%\n",
            "                        中国 34%\n",
            "                  コンゴ民主共和国 11%\n",
            "                     赤道ギニア 13%\n",
            "                      欧州連合 20%\n",
            "フォークランド諸島 (United Kingdom) 41%\n",
            "                      フィジー 32%\n",
            "                      ガイアナ 38%\n",
            "                       インド 26%\n",
            "                    インドネシア 32%\n",
            "                       イラク 39%\n",
            "                     イスラエル 17%\n",
            "                  コートジボワール 21%\n",
            "                        日本 24%\n",
            "                      ヨルダン 20%\n",
            "                    カザフスタン 27%\n",
            "                       ラオス 48%\n",
            "                       レソト 50%\n",
            "                       リビア 31%\n",
            "                 リヒテンシュタイン 37%\n",
            "                    マダガスカル 47%\n",
            "                      マラウイ 17%\n",
            "                     マレーシア 24%\n",
            "                    モーリシャス 40%\n",
            "                      モルドバ 31%\n",
            "                    モザンビーク 16%\n",
            "                     ミャンマー 44%\n",
            "                      ナミビア 21%\n",
            "                       ナウル 30%\n",
            "                     ニカラグア 18%\n",
            "                    ナイジェリア 14%\n",
            "                 北マケドニア共和国 33%\n",
            "                     ノルウェー 15%\n",
            "                     パキスタン 29%\n",
            "                     フィリピン 17%\n",
            "                      セルビア 37%\n",
            "                     南アフリカ 30%\n",
            "                        韓国 25%\n",
            "                     スリランカ 44%\n",
            "                       スイス 31%\n",
            "                       シリア 41%\n",
            "                        台湾 32%\n",
            "                        タイ 36%\n",
            "                     チュニジア 28%\n",
            "                      バヌアツ 22%\n",
            "                     ベネズエラ 15%\n",
            "                      ベトナム 46%\n",
            "                      ザンビア 17%\n",
            "                     ジンバブエ 18%\n",
            "            すべての国と地域[注釈 1] 10%\n",
            "------------------------------\n",
            "\n",
            "エンベディングモデルをロードします...\n"
          ]
        },
        {
          "name": "stderr",
          "output_type": "stream",
          "text": [
            "<ipython-input-18-195cd1e22a5f>:117: LangChainDeprecationWarning: The class `HuggingFaceEmbeddings` was deprecated in LangChain 0.2.2 and will be removed in 1.0. An updated version of the class exists in the :class:`~langchain-huggingface package and should be used instead. To use it run `pip install -U :class:`~langchain-huggingface` and import as `from :class:`~langchain_huggingface import HuggingFaceEmbeddings``.\n",
            "  embedding_model = SentenceTransformerEmbeddings(model_name=\"infly/inf-retriever-v1-1.5b\")\n"
          ]
        },
        {
          "data": {
            "application/vnd.jupyter.widget-view+json": {
              "model_id": "e427f175992944e9992236444406b754",
              "version_major": 2,
              "version_minor": 0
            },
            "text/plain": [
              "modules.json:   0%|          | 0.00/349 [00:00<?, ?B/s]"
            ]
          },
          "metadata": {},
          "output_type": "display_data"
        },
        {
          "data": {
            "application/vnd.jupyter.widget-view+json": {
              "model_id": "449423dee60f473f806308650a411e57",
              "version_major": 2,
              "version_minor": 0
            },
            "text/plain": [
              "config_sentence_transformers.json:   0%|          | 0.00/284 [00:00<?, ?B/s]"
            ]
          },
          "metadata": {},
          "output_type": "display_data"
        },
        {
          "data": {
            "application/vnd.jupyter.widget-view+json": {
              "model_id": "df36c7cc0311445492adf07177ed872a",
              "version_major": 2,
              "version_minor": 0
            },
            "text/plain": [
              "README.md:   0%|          | 0.00/19.8k [00:00<?, ?B/s]"
            ]
          },
          "metadata": {},
          "output_type": "display_data"
        },
        {
          "data": {
            "application/vnd.jupyter.widget-view+json": {
              "model_id": "79c23b4d523e4538b5ab36d762cdcfbe",
              "version_major": 2,
              "version_minor": 0
            },
            "text/plain": [
              "sentence_bert_config.json:   0%|          | 0.00/55.0 [00:00<?, ?B/s]"
            ]
          },
          "metadata": {},
          "output_type": "display_data"
        },
        {
          "data": {
            "application/vnd.jupyter.widget-view+json": {
              "model_id": "4dee8e262aad40d78b6a4dfa1ced2ec2",
              "version_major": 2,
              "version_minor": 0
            },
            "text/plain": [
              "config.json:   0%|          | 0.00/918 [00:00<?, ?B/s]"
            ]
          },
          "metadata": {},
          "output_type": "display_data"
        },
        {
          "data": {
            "application/vnd.jupyter.widget-view+json": {
              "model_id": "e29658f9d3074335b5f884f98499a288",
              "version_major": 2,
              "version_minor": 0
            },
            "text/plain": [
              "model.safetensors:   0%|          | 0.00/3.09G [00:00<?, ?B/s]"
            ]
          },
          "metadata": {},
          "output_type": "display_data"
        },
        {
          "data": {
            "application/vnd.jupyter.widget-view+json": {
              "model_id": "7d152d3a6b2546bcbec0409999a554bf",
              "version_major": 2,
              "version_minor": 0
            },
            "text/plain": [
              "tokenizer_config.json:   0%|          | 0.00/1.33k [00:00<?, ?B/s]"
            ]
          },
          "metadata": {},
          "output_type": "display_data"
        },
        {
          "data": {
            "application/vnd.jupyter.widget-view+json": {
              "model_id": "71a23b8a32e048ecbdabf631aca6f012",
              "version_major": 2,
              "version_minor": 0
            },
            "text/plain": [
              "vocab.json:   0%|          | 0.00/2.78M [00:00<?, ?B/s]"
            ]
          },
          "metadata": {},
          "output_type": "display_data"
        },
        {
          "data": {
            "application/vnd.jupyter.widget-view+json": {
              "model_id": "93f4cb34b21c45679040656c52cd0fce",
              "version_major": 2,
              "version_minor": 0
            },
            "text/plain": [
              "merges.txt:   0%|          | 0.00/1.67M [00:00<?, ?B/s]"
            ]
          },
          "metadata": {},
          "output_type": "display_data"
        },
        {
          "data": {
            "application/vnd.jupyter.widget-view+json": {
              "model_id": "c723330c8c7b4d75b31ea00f91a9080b",
              "version_major": 2,
              "version_minor": 0
            },
            "text/plain": [
              "tokenizer.json:   0%|          | 0.00/7.03M [00:00<?, ?B/s]"
            ]
          },
          "metadata": {},
          "output_type": "display_data"
        },
        {
          "data": {
            "application/vnd.jupyter.widget-view+json": {
              "model_id": "67c22d5b390c4cfd93adee66e47ab6bc",
              "version_major": 2,
              "version_minor": 0
            },
            "text/plain": [
              "added_tokens.json:   0%|          | 0.00/80.0 [00:00<?, ?B/s]"
            ]
          },
          "metadata": {},
          "output_type": "display_data"
        },
        {
          "data": {
            "application/vnd.jupyter.widget-view+json": {
              "model_id": "21fbff750cb54599982c13eaeb3e93cb",
              "version_major": 2,
              "version_minor": 0
            },
            "text/plain": [
              "special_tokens_map.json:   0%|          | 0.00/370 [00:00<?, ?B/s]"
            ]
          },
          "metadata": {},
          "output_type": "display_data"
        },
        {
          "data": {
            "application/vnd.jupyter.widget-view+json": {
              "model_id": "a2c594e097ea43ada98ba6f85f95252b",
              "version_major": 2,
              "version_minor": 0
            },
            "text/plain": [
              "config.json:   0%|          | 0.00/297 [00:00<?, ?B/s]"
            ]
          },
          "metadata": {},
          "output_type": "display_data"
        },
        {
          "name": "stdout",
          "output_type": "stream",
          "text": [
            "エンベディングモデルをロードしました。\n",
            "\n",
            "ベクトルストアを作成し、チャンクを格納します...\n",
            "ベクトルストアにチャンクを格納しました。\n",
            "リトリーバーを作成しました。\n"
          ]
        }
      ],
      "source": [
        "# URL文字列の修正: Markdownリンク形式ではなく、純粋なURL文字列にする\n",
        "wikipedia_url = \"https://ja.wikipedia.org/wiki/%E7%AC%AC2%E6%AC%A1%E3%83%88%E3%83%A9%E3%83%B3%E3%83%97%E6%94%BF%E6%A8%A9%E3%81%AE%E9%96%A2%E7%A8%8E#cite_note-18\"\n",
        "table_title_identifier = \"表1. 国別の「相互関税」の一覧\" # 表を特定するためのキーワード（列名チェックが主になります）\n",
        "\n",
        "print(f\"Wikipediaページから表データをロードします: {wikipedia_url}\")\n",
        "\n",
        "table_documents = [] # 表データを格納するDocumentオブジェクトのリスト\n",
        "\n",
        "try:\n",
        "    # requestsとBeautifulSoupを使用してHTMLを取得・解析\n",
        "    response = requests.get(wikipedia_url)\n",
        "    response.raise_for_status() # HTTPエラーがあれば例外を発生\n",
        "    response.encoding = 'utf-8' # エンコーディングを指定\n",
        "    soup = BeautifulSoup(response.text, 'html.parser')\n",
        "\n",
        "    # ページ内の全ての表要素を探す\n",
        "    # pandas.read_htmlに直接soupオブジェクトを渡すと、BeautifulSoupでパース済みのHTMLから表を読み込める\n",
        "    dfs = pd.read_html(StringIO(str(soup))) # soupオブジェクトを文字列化してStringIOでラップ\n",
        "\n",
        "    print(f\"ページから {len(dfs)} 個の表を検出しました。\")\n",
        "\n",
        "    # 目的の表（カラム名に「国または地域」と「関税率」が含まれるもの）を探す\n",
        "    target_df = None\n",
        "    target_table_element = None # 対象の表のBeautifulSoup要素を保持するための変数\n",
        "    for i, df in enumerate(dfs):\n",
        "        # DataFrameの列名を確認して目的の表を特定\n",
        "        # 実際の表の列名に合わせてキーを調整してください\n",
        "        if \"国または地域\" in df.columns and \"関税率\" in df.columns:\n",
        "             target_df = df\n",
        "             # pandas.read_htmlはDataFrameを返すため、元のBeautifulSoup要素を別途見つける必要がある\n",
        "             # ここでは、検出したDataFrameに対応する元の<table>要素を探す\n",
        "             # これは簡易的な方法であり、より頑健な方法が必要な場合もある\n",
        "             tables_in_soup = soup.find_all('table')\n",
        "             if i < len(tables_in_soup):\n",
        "                 target_table_element = tables_in_soup[i]\n",
        "             print(f\"目的の表 (表 {i+1}) を検出しました。列名: {list(df.columns)}\")\n",
        "             break\n",
        "\n",
        "    if target_df is not None:\n",
        "        # 検出したDataFrameを整形された文字列に変換\n",
        "        # index=FalseでDataFrameの行インデックスを非表示に\n",
        "        # header=Trueで列ヘッダーを含める\n",
        "        table_string = target_df.to_string(index=False, header=True)\n",
        "\n",
        "        # 変換した表の文字列を表示\n",
        "        print(\"\\n--- 抽出した表データ (文字列形式) ---\")\n",
        "        print(table_string)\n",
        "        print(\"\\n-------------------------------------\")\n",
        "\n",
        "        # 抽出した表の文字列をLangChainのDocumentオブジェクトに変換\n",
        "        # メタデータとしてソースURLや表のタイトルを含める\n",
        "        table_document = Document(\n",
        "            page_content=table_string,\n",
        "            metadata={\n",
        "                \"source\": wikipedia_url,\n",
        "                \"table_title\": \"国別の「相互関税」の一覧\", # 検出した表のタイトルをメタデータに設定\n",
        "                \"description\": \"Wikipediaページの「表1. 国別の「相互関税」の一覧」のデータ本体\"\n",
        "            }\n",
        "        )\n",
        "        table_documents.append(table_document)\n",
        "\n",
        "        # 表のキャプションまたは周囲のテキストを抽出\n",
        "        additional_info = \"\"\n",
        "        if target_table_element:\n",
        "            # キャプションタグを探す\n",
        "            caption = target_table_element.find('caption')\n",
        "            if caption:\n",
        "                additional_info += caption.get_text(strip=True) + \"\\n\"\n",
        "                print(f\"\\n--- 抽出したキャプション ---\")\n",
        "                print(caption.get_text(strip=True))\n",
        "                print(\"----------------------------\")\n",
        "            else:\n",
        "                 # キャプションがない場合、表の直前の要素からテキストを抽出する試み\n",
        "                 # これはページの構造に依存するため、調整が必要な場合がある\n",
        "                 previous_sibling = target_table_element.find_previous_sibling()\n",
        "                 if previous_sibling and previous_sibling.name in ['h2', 'h3', 'p']: # 見出しや段落など\n",
        "                     additional_info += previous_sibling.get_text(strip=True) + \"\\n\"\n",
        "                     print(f\"\\n--- 抽出した直前テキスト ({previous_sibling.name}) ---\")\n",
        "                     print(previous_sibling.get_text(strip=True))\n",
        "                     print(\"------------------------------------\")\n",
        "\n",
        "\n",
        "        # 抽出した追加情報をDocumentオブジェクトとして追加\n",
        "        if additional_info:\n",
        "            additional_document = Document(\n",
        "                page_content=additional_info.strip(), # 前後の空白を削除\n",
        "                metadata={\n",
        "                    \"source\": wikipedia_url,\n",
        "                    \"description\": \"Wikipediaページの表に関連するキャプションまたは周囲のテキスト\"\n",
        "                }\n",
        "            )\n",
        "            table_documents.append(additional_document)\n",
        "            print(f\"追加情報を含むドキュメントを生成しました。\")\n",
        "\n",
        "\n",
        "        # テキスト分割 (チャンク化)\n",
        "        # 表データ本体と追加情報をまとめてチャンク化する\n",
        "        # chunk_sizeは表全体と追加情報が収まるように十分大きく設定\n",
        "        text_splitter = RecursiveCharacterTextSplitter(chunk_size=2000, chunk_overlap=0) # 表全体が収まるようにチャンクサイズを大きめに\n",
        "        chunked_documents = text_splitter.split_documents(table_documents)\n",
        "\n",
        "\n",
        "        print(f\"分割後のチャンク数: {len(chunked_documents)}\")\n",
        "        if chunked_documents:\n",
        "            print(\"\\n--- 分割されたチャンクの例 ---\")\n",
        "            # 複数のドキュメントがある場合、最初のチャンクが表データ本体とは限らない\n",
        "            # ここではシンプルに最初のチャンクを表示\n",
        "            print(chunked_documents[0].page_content)\n",
        "            print(\"------------------------------\")\n",
        "\n",
        "\n",
        "        # エンベディングモデルのロード\n",
        "        print(\"\\nエンベディングモデルをロードします...\")\n",
        "        try:\n",
        "            # オリジナルノートブックと同じモデルを使用\n",
        "            # trust_remote_code=True を削除または False に変更\n",
        "            embedding_model = SentenceTransformerEmbeddings(model_name=\"infly/inf-retriever-v1-1.5b\")\n",
        "            print(\"エンベディングモデルをロードしました。\")\n",
        "        except Exception as e:\n",
        "            print(f\"エンベディングモデルのロードに失敗しました: {e}\")\n",
        "            embedding_model = None # ロード失敗時はNoneとする\n",
        "\n",
        "        # ベクトルストアの作成とデータの格納\n",
        "        if embedding_model and chunked_documents:\n",
        "            print(\"\\nベクトルストアを作成し、チャンクを格納します...\")\n",
        "            try:\n",
        "                # インメモリのChromaベクトルストアを使用\n",
        "                vectorstore = Chroma.from_documents(documents=chunked_documents, embedding=embedding_model)\n",
        "                print(\"ベクトルストアにチャンクを格納しました。\")\n",
        "                # retrieverはベクトルストアから関連性の高い上位N件を取得する役割\n",
        "                # k=3は取得するチャンク数。表全体が1チャンクならk=1でも良いが、念のため複数取得できるようにしておく。\n",
        "                retriever = vectorstore.as_retriever(search_kwargs={\"k\": 3}) # 表データから関連性の高い上位3件を取得\n",
        "                print(\"リトリーバーを作成しました。\")\n",
        "            except Exception as e:\n",
        "                 print(f\"ベクトルストアの作成またはデータ格納に失敗しました: {e}\")\n",
        "                 vectorstore = None\n",
        "                 retriever = None\n",
        "        # 修正: 論理構造を修正し、不要なelseブロックを削除\n",
        "        elif not embedding_model:\n",
        "             print(\"エンベディングモデルがロードできなかったため、ベクトルストアとリトリーバーは作成されません。\")\n",
        "        elif not chunked_documents:\n",
        "             print(\"チャンク化されたドキュメントがないため、ベクトルストアとリトリーバーは作成されません。\")\n",
        "\n",
        "\n",
        "    else: # target_df が None の場合\n",
        "        print(f\"指定された条件（列名に「国または地域」と「関税率」を含む）に合う表が見つかりませんでした。\")\n",
        "        chunked_documents = []\n",
        "        vectorstore = None\n",
        "        retriever = None\n",
        "        embedding_model = None\n",
        "\n",
        "\n",
        "except requests.exceptions.RequestException as e:\n",
        "    print(f\"ウェブページの取得中にエラーが発生しました: {e}\")\n",
        "    chunked_documents = []\n",
        "    vectorstore = None\n",
        "    retriever = None\n",
        "    embedding_model = None\n",
        "except Exception as e:\n",
        "    print(f\"表データの処理中にエラーが発生しました: {e}\")\n",
        "    chunked_documents = []\n",
        "    vectorstore = None\n",
        "    retriever = None\n",
        "    embedding_model = None"
      ]
    },
    {
      "cell_type": "markdown",
      "metadata": {
        "id": "4XEdxsXjBtk3"
      },
      "source": [
        "## 3. ベースラインモデル評価 (RAGなし)"
      ]
    },
    {
      "cell_type": "code",
      "execution_count": null,
      "metadata": {
        "colab": {
          "base_uri": "https://localhost:8080/"
        },
        "id": "VpQaDxI2Blg1",
        "outputId": "a85e997c-307f-4c70-c1fe-7ea3db3c3d2a"
      },
      "outputs": [
        {
          "name": "stdout",
          "output_type": "stream",
          "text": [
            "--- ベースラインモデルによる回答生成 (RAGなし) ---\n",
            "\n",
            "質問 1: 日本に課される「相互関税」の税率は何%ですか？\n",
            "回答:\n",
            " 日本に課される相互関税の税率は、**商品やサービスによって異なります**。 \n",
            "\n",
            "一般的に、相互関税は**輸入品に対して課される税率**です。 \n",
            "\n",
            "詳細な税率は、**輸入品の種類や国**によって異なります。 \n",
            "\n",
            "\n",
            "\n",
            " \n",
            "\n",
            "\n",
            "\n",
            "\n",
            "質問 2: 記載されている国の中で、最も高い「相互関税」が課されているのはどの国ですか？またその税率は何%ですか？\n",
            "回答:\n",
            "申し訳ありませんが、私はリアルタイムの情報にアクセスできません。そのため、現在の相互関税の税率や国を特定することはできません。\n",
            "\n",
            "相互関税に関する最新の情報を取得するには、以下の機関をご確認ください。\n",
            "\n",
            "* **国際機関:**\n",
            "    * 世界貿易機関 (WTO): https://www.wto.org/\n",
            "    * 国際通貨基金 (IMF): https://www.imf.org/\n",
            "* **政府機関:**\n",
            "    * 各国の税務当局\n",
            "    * 各国の貿易省\n",
            "\n",
            "\n",
            " \n",
            "\n",
            "\n",
            "\n",
            "\n",
            "質問 3: 「相互関税」が10%とされている国はどこですか？\n",
            "回答:\n",
            "相互関税が10%とされている国は、**特定の国々**です。 \n",
            "\n",
            "**具体的な国名**を挙げると、**正確な情報を得ることが難しい**場合があります。\n",
            "\n",
            "**なぜなら**\n",
            "\n",
            "* **相互関税の適用状況は常に変化する**\n",
            "* **複数の国が相互関税を適用する場合もある**\n",
            "\n",
            "\n",
            "\n",
            " \n",
            " \n",
            "\n",
            "\n",
            "\n",
            "\n",
            "質問 4: このデータの時点は何時ですか？\n",
            "回答:\n",
            "すみません、データの時点を教えていただけますか？ \n",
            "\n",
            "\n",
            " \n",
            "\n",
            "\n",
            "\n",
            "\n",
            "質問 5: 第二次トランプ政権で導入が検討されているとされる「普遍的な基礎関税」とは、どのような構想ですか？\n",
            "回答:\n",
            "##  第二次トランプ政権で導入が検討されていた「普遍的な基礎関税」とは？\n",
            "\n",
            "「普遍的な基礎関税」は、トランプ政権において、**関税の導入を検討**していた政策の一環です。 \n",
            "\n",
            "**基本的な構想**\n",
            "\n",
            "* **消費税の導入**:  消費税を導入し、国民の消費活動に税金を課す。\n",
            "* **公平性と透明性**:  税収の公平性と透明性を確保し、国民の理解を得る。\n",
            "* **経済活性化**:  経済活動の活性化と雇用創出を促進する。\n",
            "* **税制の簡素化**:  複雑な税制を簡素化し、国民の税務負担を軽減する。\n",
            "\n",
            "**具体的な内容**\n",
            "\n",
            "* **税率**:  具体的な税率は検討中でしたが、一般的に**消費税の導入**を想定していました。\n",
            "* **対象**:  国民の消費活動全体を対象とする。\n",
            "* **徴収**:  税収の管理と分配を明確にする。\n",
            "\n",
            "**課題と批判**\n",
            "\n",
            "* **国民への影響**:  国民の生活費や経済状況への影響を考慮する必要がある。\n",
            "* **税制の複雑化**:  複雑な税制の導入は、国民の理解と税務負担の増加を招く可能性がある。\n",
            "* **政治的課題**:  政治的影響力や反対意見を考慮する必要がある。\n",
            "\n",
            "**現在の状況**\n",
            "\n",
            "* **実現**:  トランプ政権の終了後、実現は困難です。\n",
            "* **代替案**:  消費税の導入は、他の税制改革や税制制度の改善と組み合わせる可能性があります。\n",
            "\n",
            "\n",
            "\n",
            "**補足**\n",
            "\n",
            "*  「普遍的な基礎関税」は、トランプ政権の政策の一環として検討されましたが、具体的な計画や具体的な内容については、公開されていません。\n",
            "*  この政策は、経済政策や税制政策の複雑な側面を考慮する必要がある複雑な課題です。\n",
            "\n",
            "\n",
            "\n",
            "\n",
            "\n"
          ]
        }
      ],
      "source": [
        "# 評価用の質問リスト (表データに関する質問が中心)\n",
        "questions = [\n",
        "    \"日本に課される「相互関税」の税率は何%ですか？\",\n",
        "    \"記載されている国の中で、最も高い「相互関税」が課されているのはどの国ですか？またその税率は何%ですか？\",\n",
        "    \"「相互関税」が10%とされている国はどこですか？\",\n",
        "    \"このデータの時点は何時ですか？\",\n",
        "    \"第二次トランプ政権で導入が検討されているとされる「普遍的な基礎関税」とは、どのような構想ですか？\" # 表データにはないが、比較のために残す\n",
        "]\n",
        "\n",
        "# ベースライン回答を格納する辞書\n",
        "baseline_responses = {}\n",
        "\n",
        "print(\"--- ベースラインモデルによる回答生成 (RAGなし) ---\")\n",
        "for i, question in enumerate(questions):\n",
        "    print(f\"\\n質問 {i+1}: {question}\")\n",
        "    try:\n",
        "        # 表データに関する質問であることを明示的に伝えるプロンプトは使用しない\n",
        "        # LLMの一般的な知識で回答できるかを確認\n",
        "        response = generate_output(question, model, tokenizer)\n",
        "        baseline_responses[question] = response\n",
        "        print(f\"回答:\\n{response}\")\n",
        "    except Exception as e:\n",
        "        print(f\"回答生成中にエラーが発生しました: {e}\")\n",
        "        baseline_responses[question] = f\"エラー: {e}\"\n",
        "# 評価用の質問リスト (表データに関する質問が中心)\n",
        "questions = [\n",
        "    \"日本に課される「相互関税」の税率は何%ですか？\",\n",
        "    \"記載されている国の中で、最も高い「相互関税」が課されているのはどの国ですか？またその税率は何%ですか？\",\n",
        "    \"「相互関税」が10%とされている国はどこですか？\",\n",
        "    \"このデータの時点は何時ですか？\",\n",
        "    \"第二次トランプ政権で導入が検討されているとされる「普遍的な基礎関税」とは、どのような構想ですか？\" # 表データにはないが、比較のために残す\n",
        "]\n"
      ]
    },
    {
      "cell_type": "code",
      "execution_count": null,
      "metadata": {
        "colab": {
          "base_uri": "https://localhost:8080/"
        },
        "id": "KUVK5QmpCkDa",
        "outputId": "c4409dc3-6bd9-4221-e0dd-abdef9c91fe5"
      },
      "outputs": [
        {
          "name": "stdout",
          "output_type": "stream",
          "text": [
            "\n",
            "--- ベースライン回答の評価 ---\n",
            "\n",
            "質問: 日本に課される「相互関税」の税率は何%ですか？\n",
            "評価スコア: 0\n",
            "\n",
            "質問: 記載されている国の中で、最も高い「相互関税」が課されているのはどの国ですか？またその税率は何%ですか？\n",
            "評価スコア: 0\n",
            "\n",
            "質問: 「相互関税」が10%とされている国はどこですか？\n",
            "評価スコア: 0\n",
            "\n",
            "質問: このデータの時点は何時ですか？\n",
            "評価スコア: 0\n",
            "\n",
            "質問: 第二次トランプ政権で導入が検討されているとされる「普遍的な基礎関税」とは、どのような構想ですか？\n",
            "評価スコア: 0\n"
          ]
        }
      ],
      "source": [
        "# # ベースライン回答の評価 (OpenAI APIキーが必要です)\n",
        "print(\"\\n--- ベースライン回答の評価 ---\")\n",
        "if client is not None and gold_answers:\n",
        "    baseline_scores = {}\n",
        "    for question in questions:\n",
        "        if question in gold_answers and question in baseline_responses:\n",
        "            print(f\"\\n質問: {question}\")\n",
        "            score = evaluate_answer_accuracy(question, baseline_responses[question], gold_answers[question])\n",
        "            baseline_scores[question] = score\n",
        "            print(f\"評価スコア: {score}\")\n",
        "        else:\n",
        "            print(f\"\\n質問 '{question}' のゴールドアンサーまたはベースライン回答が見つかりません。評価をスキップします。\")\n",
        "else:\n",
        "    print(\"\\nOpenAIクライアントが初期化されていないか、ゴールドアンサーが定義されていません。ベースライン評価はスキップされます。\")"
      ]
    },
    {
      "cell_type": "markdown",
      "metadata": {
        "id": "PRbESiokBy8U"
      },
      "source": [
        "## 4. RAGを組み合わせた回答生成と評価\n",
        "RAGを用いて関連情報（表データ）を取得し、その情報をLLMへの入力として組み込んで回答を生成・評価します。"
      ]
    },
    {
      "cell_type": "code",
      "execution_count": null,
      "metadata": {
        "colab": {
          "base_uri": "https://localhost:8080/"
        },
        "id": "PAKitCz8B1VV",
        "outputId": "8d5c8c38-1e06-4435-e410-371db38e13b3"
      },
      "outputs": [
        {
          "name": "stdout",
          "output_type": "stream",
          "text": [
            "\n",
            "--- RAGを組み合わせた回答生成 ---\n",
            "\n",
            "質問 1: 日本に課される「相互関税」の税率は何%ですか？\n",
            "取得したドキュメント数: 2\n",
            "回答:\n",
            "日本に課される「相互関税」の税率は24%です。\n",
            "\n",
            "\n",
            "\n",
            "\n",
            "質問 2: 記載されている国の中で、最も高い「相互関税」が課されているのはどの国ですか？またその税率は何%ですか？\n",
            "取得したドキュメント数: 2\n",
            "回答:\n",
            "最も高い「相互関税」が課されている国は **シリア** です。税率は **41%** です。 \n",
            "\n",
            "\n",
            "\n",
            "\n",
            "\n",
            "質問 3: 「相互関税」が10%とされている国はどこですか？\n",
            "取得したドキュメント数: 2\n",
            "回答:\n",
            "「相互関税」が10%とされている国は、**すべての国と地域**です。 \n",
            "\n",
            "\n",
            "\n",
            "\n",
            "\n",
            "質問 4: このデータの時点は何時ですか？\n",
            "取得したドキュメント数: 2\n",
            "回答:\n",
            "このデータの時点は2025年4月2日です。\n",
            "\n",
            "\n",
            "\n",
            "\n",
            "質問 5: 第二次トランプ政権で導入が検討されているとされる「普遍的な基礎関税」とは、どのような構想ですか？\n",
            "取得したドキュメント数: 2\n",
            "回答:\n",
            "参考情報には「普遍的な基礎関税」に関する情報は含まれていません。\n",
            "\n",
            "\n",
            " \n",
            "\n",
            "\n",
            "\n"
          ]
        }
      ],
      "source": [
        "# RAG回答を格納する辞書\n",
        "rag_responses = {}\n",
        "\n",
        "print(\"\\n--- RAGを組み合わせた回答生成 ---\")\n",
        "if retriever is not None and model is not None and tokenizer is not None:\n",
        "    for i, question in enumerate(questions):\n",
        "        print(f\"\\n質問 {i+1}: {question}\")\n",
        "        try:\n",
        "            # RAGによる関連ドキュメント（表データチャンク）の取得\n",
        "            # retrieverはベクトルストアから関連性の高いチャンクを取得します\n",
        "            retrieved_docs = retriever.invoke(question)\n",
        "            print(f\"取得したドキュメント数: {len(retrieved_docs)}\")\n",
        "            # 取得したドキュメントの内容を表示 (確認用)\n",
        "            # for j, doc in enumerate(retrieved_docs):\n",
        "            #     print(f\"--- 取得ドキュメント {j+1} ---\")\n",
        "            #     print(doc.page_content)\n",
        "            #     print(\"-------------------------\")\n",
        "\n",
        "\n",
        "            # プロンプトの構築\n",
        "            # 取得したドキュメント（表データチャンク）をコンテキストとしてプロンプトに含める\n",
        "            context = \"\\n\\n\".join([doc.page_content for doc in retrieved_docs])\n",
        "            # 質問自体に「表1によると」という記述は含めないが、RAGのプロンプトで表データであることを明示する\n",
        "            rag_prompt = f\"\"\"以下の参考情報を考慮して、質問に回答してください。参考情報はWikipediaの表データです。\n",
        "\n",
        "[参考情報（表データ）]\n",
        "{context}\n",
        "\n",
        "[質問]\n",
        "{question}\n",
        "\"\"\"\n",
        "            # RAGプロンプトで回答生成\n",
        "            response = generate_output(rag_prompt, model, tokenizer)\n",
        "            rag_responses[question] = response\n",
        "            print(f\"回答:\\n{response}\")\n",
        "\n",
        "        except Exception as e:\n",
        "            print(f\"RAG回答生成中にエラーが発生しました: {e}\")\n",
        "            rag_responses[question] = f\"エラー: {e}\"\n",
        "else:\n",
        "    print(\"リトリーバーまたはモデルが正しく初期化されていないため、RAG回答生成はスキップされます。\")\n",
        "\n"
      ]
    },
    {
      "cell_type": "code",
      "execution_count": null,
      "metadata": {
        "colab": {
          "base_uri": "https://localhost:8080/"
        },
        "id": "MJ8TcZcvCwjq",
        "outputId": "fdbed8e9-29e6-4966-a1b1-70a11904f36a"
      },
      "outputs": [
        {
          "name": "stdout",
          "output_type": "stream",
          "text": [
            "\n",
            "--- RAG回答の評価 ---\n",
            "\n",
            "質問: 日本に課される「相互関税」の税率は何%ですか？\n",
            "評価スコア: 4\n",
            "\n",
            "質問: 記載されている国の中で、最も高い「相互関税」が課されているのはどの国ですか？またその税率は何%ですか？\n",
            "評価スコア: 0\n",
            "\n",
            "質問: 「相互関税」が10%とされている国はどこですか？\n",
            "評価スコア: 2\n",
            "\n",
            "質問: このデータの時点は何時ですか？\n",
            "評価スコア: 4\n",
            "\n",
            "質問: 第二次トランプ政権で導入が検討されているとされる「普遍的な基礎関税」とは、どのような構想ですか？\n",
            "評価スコア: 0\n"
          ]
        }
      ],
      "source": [
        "# # RAG回答の評価 (OpenAI APIキーが必要です)\n",
        "print(\"\\n--- RAG回答の評価 ---\")\n",
        "if client is not None and gold_answers:\n",
        "    rag_scores = {}\n",
        "    for question in questions:\n",
        "        if question in gold_answers and question in rag_responses:\n",
        "            print(f\"\\n質問: {question}\")\n",
        "            score = evaluate_answer_accuracy(question, rag_responses[question], gold_answers[question])\n",
        "            rag_scores[question] = score\n",
        "            print(f\"評価スコア: {score}\")\n",
        "        else:\n",
        "            print(f\"\\n質問 '{question}' のゴールドアンサーまたはRAG回答が見つかりません。評価をスキップします。\")\n",
        "else:\n",
        "    print(\"\\nOpenAIクライアントが初期化されていないか、ゴールドアンサーが定義されていません。RAG評価はスキップされます。\")"
      ]
    }
  ],
  "metadata": {
    "accelerator": "GPU",
    "colab": {
      "gpuType": "T4",
      "provenance": [],
      "mount_file_id": "1BI2MzBoOEmDzMr6uNZTDipQbjYKoBXMU",
      "authorship_tag": "ABX9TyOufyYRdnxkGp3QEiMQMZ2+",
      "include_colab_link": true
    },
    "kernelspec": {
      "display_name": "Python 3",
      "name": "python3"
    },
    "language_info": {
      "name": "python"
    }
  },
  "nbformat": 4,
  "nbformat_minor": 0
}